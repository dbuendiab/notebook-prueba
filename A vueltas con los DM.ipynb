{
 "metadata": {
  "name": "",
  "signature": "sha256:64a872cd28b696e49045dd9f5a5d5db36319de7d66ded2fad3b07309d1fe89e5"
 },
 "nbformat": 3,
 "nbformat_minor": 0,
 "worksheets": [
  {
   "cells": [
    {
     "cell_type": "code",
     "collapsed": false,
     "input": [
      "import pymongo\n",
      "client = pymongo.MongoClient()\n",
      "db = client.quijote\n",
      "fwcol = db.followers"
     ],
     "language": "python",
     "metadata": {},
     "outputs": [],
     "prompt_number": 1
    },
    {
     "cell_type": "code",
     "collapsed": false,
     "input": [
      "from dbtw.dotdict import DotDict\n",
      "from dbtw.timing import tw2dt\n",
      "from IPython.display import Image, display\n",
      "\n",
      "for i, fw in enumerate(fwcol.find({'rts.count': 0, 'description': ''})):\n",
      "    fwd = DotDict(fw)\n",
      "    display(Image(url=fwd.profile_image_url, width=120, height=120))\n",
      "    print('@' + fwd.screen_name + ': ' + fwd.name + ' (cuenta creada en ' + str(tw2dt(fwd.created_at)) + ')')\n",
      "    print('followers: %d, statuses: %d, listed: %d' % (fwd.followers_count, fwd.statuses_count, fwd.listed_count))\n",
      "    if fwd.rts.count:\n",
      "        print('RTS: %d, desde %s hasta %s' % (fwd.rts.count, fwd.rts.fechamin, fwd.rts.fechamax))\n",
      "    if fwd.description:\n",
      "        print(fwd.description)\n",
      "    print('-'*60)\n",
      "    if i == 100:\n",
      "        break"
     ],
     "language": "python",
     "metadata": {},
     "outputs": [
      {
       "html": [
        "<img src=\"http://pbs.twimg.com/profile_images/712004956878999552/2OGHLU70_normal.jpg\" width=\"120\" height=\"120\"/>"
       ],
       "metadata": {},
       "output_type": "display_data",
       "text": [
        "<IPython.core.display.Image at 0x7a882b0>"
       ]
      },
      {
       "output_type": "stream",
       "stream": "stdout",
       "text": [
        "@mimadremaria192: CERNTESALMOG\u00c1VARE195 (cuenta creada en 2015-05-16 09:03:26)\n",
        "followers: 613, statuses: 246, listed: 2\n",
        "------------------------------------------------------------\n"
       ]
      },
      {
       "html": [
        "<img src=\"http://pbs.twimg.com/profile_images/696911881592709120/37Whgc6d_normal.jpg\" width=\"120\" height=\"120\"/>"
       ],
       "metadata": {},
       "output_type": "display_data",
       "text": [
        "<IPython.core.display.Image at 0x7a88358>"
       ]
      },
      {
       "output_type": "stream",
       "stream": "stdout",
       "text": [
        "@san01937019: santiago becerril (cuenta creada en 2016-01-28 10:03:06)\n",
        "followers: 6, statuses: 0, listed: 0\n",
        "------------------------------------------------------------\n"
       ]
      },
      {
       "html": [
        "<img src=\"http://pbs.twimg.com/profile_images/713461924034437120/bCsKFHE3_normal.jpg\" width=\"120\" height=\"120\"/>"
       ],
       "metadata": {},
       "output_type": "display_data",
       "text": [
        "<IPython.core.display.Image at 0x8199080>"
       ]
      },
      {
       "output_type": "stream",
       "stream": "stdout",
       "text": [
        "@PabloAlarconW: Pablo (cuenta creada en 2016-03-25 19:45:36)\n",
        "followers: 45, statuses: 7, listed: 0\n",
        "------------------------------------------------------------\n"
       ]
      },
      {
       "html": [
        "<img src=\"http://pbs.twimg.com/profile_images/699082234590949376/HrDxdq3O_normal.jpg\" width=\"120\" height=\"120\"/>"
       ],
       "metadata": {},
       "output_type": "display_data",
       "text": [
        "<IPython.core.display.Image at 0x8199240>"
       ]
      },
      {
       "output_type": "stream",
       "stream": "stdout",
       "text": [
        "@LaFuerzaPR1: Lcdo. Paul Colon (cuenta creada en 2015-12-20 18:25:32)\n",
        "followers: 37, statuses: 260, listed: 0\n",
        "------------------------------------------------------------\n"
       ]
      },
      {
       "html": [
        "<img src=\"http://pbs.twimg.com/profile_images/631169312678670336/kyb3YA0u_normal.jpg\" width=\"120\" height=\"120\"/>"
       ],
       "metadata": {},
       "output_type": "display_data",
       "text": [
        "<IPython.core.display.Image at 0x81993c8>"
       ]
      },
      {
       "output_type": "stream",
       "stream": "stdout",
       "text": [
        "@Sevillewarrior: A. (cuenta creada en 2011-08-28 19:39:24)\n",
        "followers: 187, statuses: 5282, listed: 5\n",
        "------------------------------------------------------------\n"
       ]
      },
      {
       "html": [
        "<img src=\"http://pbs.twimg.com/profile_images/1230989789/20110112165158_Pedro_9J57X6KH1AZL80CMO3IQNWDBET2PUVSY4FGR_normal.jpg\" width=\"120\" height=\"120\"/>"
       ],
       "metadata": {},
       "output_type": "display_data",
       "text": [
        "<IPython.core.display.Image at 0x8199588>"
       ]
      },
      {
       "output_type": "stream",
       "stream": "stdout",
       "text": [
        "@Pedrito1971: Pedro Mu\u00f1oz (cuenta creada en 2009-06-19 10:24:55)\n",
        "followers: 54, statuses: 250, listed: 4\n",
        "------------------------------------------------------------\n"
       ]
      },
      {
       "html": [
        "<img src=\"http://pbs.twimg.com/profile_images/712602938238173184/VTHtI5za_normal.jpg\" width=\"120\" height=\"120\"/>"
       ],
       "metadata": {},
       "output_type": "display_data",
       "text": [
        "<IPython.core.display.Image at 0x8199710>"
       ]
      },
      {
       "output_type": "stream",
       "stream": "stdout",
       "text": [
        "@kakasekakonk: .... (cuenta creada en 2015-03-11 22:38:20)\n",
        "followers: 67, statuses: 65, listed: 0\n",
        "------------------------------------------------------------\n"
       ]
      },
      {
       "html": [
        "<img src=\"http://pbs.twimg.com/profile_images/711102753225965569/2PvPlC7I_normal.jpg\" width=\"120\" height=\"120\"/>"
       ],
       "metadata": {},
       "output_type": "display_data",
       "text": [
        "<IPython.core.display.Image at 0x81998d0>"
       ]
      },
      {
       "output_type": "stream",
       "stream": "stdout",
       "text": [
        "@isimcor: Isabel Simancas (cuenta creada en 2015-04-25 22:26:00)\n",
        "followers: 26, statuses: 42, listed: 0\n",
        "------------------------------------------------------------\n"
       ]
      },
      {
       "html": [
        "<img src=\"http://pbs.twimg.com/profile_images/714327275160866817/PbIdh0j8_normal.jpg\" width=\"120\" height=\"120\"/>"
       ],
       "metadata": {},
       "output_type": "display_data",
       "text": [
        "<IPython.core.display.Image at 0x8199a58>"
       ]
      },
      {
       "output_type": "stream",
       "stream": "stdout",
       "text": [
        "@celia_lvarez_mo: Celia \u00c1lvarez (cuenta creada en 2012-05-23 21:56:35)\n",
        "followers: 43, statuses: 453, listed: 0\n",
        "------------------------------------------------------------\n"
       ]
      },
      {
       "html": [
        "<img src=\"http://pbs.twimg.com/profile_images/582240305770020864/qPkDei3J_normal.jpg\" width=\"120\" height=\"120\"/>"
       ],
       "metadata": {},
       "output_type": "display_data",
       "text": [
        "<IPython.core.display.Image at 0x8199c18>"
       ]
      },
      {
       "output_type": "stream",
       "stream": "stdout",
       "text": [
        "@olmymj: Olmy (cuenta creada en 2015-03-29 09:20:21)\n",
        "followers: 133, statuses: 58, listed: 2\n",
        "------------------------------------------------------------\n"
       ]
      },
      {
       "html": [
        "<img src=\"http://pbs.twimg.com/profile_images/438414062141972480/9gfNeONm_normal.jpeg\" width=\"120\" height=\"120\"/>"
       ],
       "metadata": {},
       "output_type": "display_data",
       "text": [
        "<IPython.core.display.Image at 0x8199dd8>"
       ]
      },
      {
       "output_type": "stream",
       "stream": "stdout",
       "text": [
        "@LizHernandezEsc: Lizeth (cuenta creada en 2010-11-07 00:39:40)\n",
        "followers: 71, statuses: 509, listed: 0\n",
        "------------------------------------------------------------\n"
       ]
      },
      {
       "html": [
        "<img src=\"http://pbs.twimg.com/profile_images/378800000726041487/e4876a4babd894762533ace48a5544cc_normal.jpeg\" width=\"120\" height=\"120\"/>"
       ],
       "metadata": {},
       "output_type": "display_data",
       "text": [
        "<IPython.core.display.Image at 0x62d2080>"
       ]
      },
      {
       "output_type": "stream",
       "stream": "stdout",
       "text": [
        "@IshaIbarguengoy: Isha Ibarguengoytia (cuenta creada en 2012-02-23 23:16:38)\n",
        "followers: 24, statuses: 2, listed: 0\n",
        "------------------------------------------------------------\n"
       ]
      },
      {
       "html": [
        "<img src=\"http://pbs.twimg.com/profile_images/378800000650593748/4adb6bb0d74743963db330b17c8635a4_normal.jpeg\" width=\"120\" height=\"120\"/>"
       ],
       "metadata": {},
       "output_type": "display_data",
       "text": [
        "<IPython.core.display.Image at 0x62d2198>"
       ]
      },
      {
       "output_type": "stream",
       "stream": "stdout",
       "text": [
        "@Robertorodrialv: Roberto Rodr\u00edguez (cuenta creada en 2011-04-06 20:16:30)\n",
        "followers: 59, statuses: 378, listed: 2\n",
        "------------------------------------------------------------\n"
       ]
      },
      {
       "html": [
        "<img src=\"http://pbs.twimg.com/profile_images/676812215161344004/-qWTybzk_normal.jpg\" width=\"120\" height=\"120\"/>"
       ],
       "metadata": {},
       "output_type": "display_data",
       "text": [
        "<IPython.core.display.Image at 0x62d2320>"
       ]
      },
      {
       "output_type": "stream",
       "stream": "stdout",
       "text": [
        "@VivifrLaura: Laura (cuenta creada en 2015-12-08 18:47:40)\n",
        "followers: 111, statuses: 573, listed: 0\n",
        "------------------------------------------------------------\n"
       ]
      },
      {
       "html": [
        "<img src=\"http://pbs.twimg.com/profile_images/614900476178472960/4bqbqAk5_normal.jpg\" width=\"120\" height=\"120\"/>"
       ],
       "metadata": {},
       "output_type": "display_data",
       "text": [
        "<IPython.core.display.Image at 0x62d24e0>"
       ]
      },
      {
       "output_type": "stream",
       "stream": "stdout",
       "text": [
        "@IgnacioBuil: Ignacio Buil (cuenta creada en 2011-11-20 20:18:24)\n",
        "followers: 318, statuses: 1013, listed: 1\n",
        "------------------------------------------------------------\n"
       ]
      },
      {
       "html": [
        "<img src=\"http://abs.twimg.com/sticky/default_profile_images/default_profile_0_normal.png\" width=\"120\" height=\"120\"/>"
       ],
       "metadata": {},
       "output_type": "display_data",
       "text": [
        "<IPython.core.display.Image at 0x62d2668>"
       ]
      },
      {
       "output_type": "stream",
       "stream": "stdout",
       "text": [
        "@montseviar: Montserrat Villaca\u00f1a (cuenta creada en 2016-03-13 06:29:32)\n",
        "followers: 5, statuses: 5, listed: 0\n",
        "------------------------------------------------------------\n"
       ]
      },
      {
       "html": [
        "<img src=\"http://abs.twimg.com/sticky/default_profile_images/default_profile_1_normal.png\" width=\"120\" height=\"120\"/>"
       ],
       "metadata": {},
       "output_type": "display_data",
       "text": [
        "<IPython.core.display.Image at 0x62d27f0>"
       ]
      },
      {
       "output_type": "stream",
       "stream": "stdout",
       "text": [
        "@HerrerosMagally: Magally Herreros (cuenta creada en 2016-03-11 19:34:53)\n",
        "followers: 8, statuses: 6, listed: 0\n",
        "------------------------------------------------------------\n"
       ]
      },
      {
       "html": [
        "<img src=\"http://pbs.twimg.com/profile_images/644156725596135424/jasXtSON_normal.jpg\" width=\"120\" height=\"120\"/>"
       ],
       "metadata": {},
       "output_type": "display_data",
       "text": [
        "<IPython.core.display.Image at 0x62d2978>"
       ]
      },
      {
       "output_type": "stream",
       "stream": "stdout",
       "text": [
        "@capiluvimoon: Carolina Luna (cuenta creada en 2015-09-02 13:50:32)\n",
        "followers: 33, statuses: 131, listed: 0\n",
        "------------------------------------------------------------\n"
       ]
      },
      {
       "html": [
        "<img src=\"http://pbs.twimg.com/profile_images/2625820580/image_normal.jpg\" width=\"120\" height=\"120\"/>"
       ],
       "metadata": {},
       "output_type": "display_data",
       "text": [
        "<IPython.core.display.Image at 0x62d2b00>"
       ]
      },
      {
       "output_type": "stream",
       "stream": "stdout",
       "text": [
        "@TheMeryJo: MJP (cuenta creada en 2012-08-16 09:41:39)\n",
        "followers: 32, statuses: 2036, listed: 0\n",
        "------------------------------------------------------------\n"
       ]
      },
      {
       "html": [
        "<img src=\"http://pbs.twimg.com/profile_images/378800000344282765/7db26fb15dafb73ffee5d417602ee7ab_normal.jpeg\" width=\"120\" height=\"120\"/>"
       ],
       "metadata": {},
       "output_type": "display_data",
       "text": [
        "<IPython.core.display.Image at 0x62d2cc0>"
       ]
      },
      {
       "output_type": "stream",
       "stream": "stdout",
       "text": [
        "@fjavpc: F.Javier Parr\u00f3n (cuenta creada en 2012-03-02 17:32:46)\n",
        "followers: 26, statuses: 45, listed: 0\n",
        "------------------------------------------------------------\n"
       ]
      },
      {
       "html": [
        "<img src=\"http://pbs.twimg.com/profile_images/709165844253827072/wq0YUqir_normal.jpg\" width=\"120\" height=\"120\"/>"
       ],
       "metadata": {},
       "output_type": "display_data",
       "text": [
        "<IPython.core.display.Image at 0x62d2e48>"
       ]
      },
      {
       "output_type": "stream",
       "stream": "stdout",
       "text": [
        "@LouiseFCB: LouiseFCB (cuenta creada en 2009-10-07 09:19:54)\n",
        "followers: 24, statuses: 4, listed: 0\n",
        "------------------------------------------------------------\n"
       ]
      },
      {
       "html": [
        "<img src=\"http://pbs.twimg.com/profile_images/613330268867436544/aVlUOZTY_normal.jpg\" width=\"120\" height=\"120\"/>"
       ],
       "metadata": {},
       "output_type": "display_data",
       "text": [
        "<IPython.core.display.Image at 0x62e0048>"
       ]
      },
      {
       "output_type": "stream",
       "stream": "stdout",
       "text": [
        "@lcmondragong: Laura Mondrag\u00f3n (cuenta creada en 2013-04-13 00:06:00)\n",
        "followers: 49, statuses: 280, listed: 0\n",
        "------------------------------------------------------------\n"
       ]
      },
      {
       "html": [
        "<img src=\"http://pbs.twimg.com/profile_images/693737873791664128/6xkPn6k__normal.jpg\" width=\"120\" height=\"120\"/>"
       ],
       "metadata": {},
       "output_type": "display_data",
       "text": [
        "<IPython.core.display.Image at 0x62e01d0>"
       ]
      },
      {
       "output_type": "stream",
       "stream": "stdout",
       "text": [
        "@1bratislav121: Bratislav (cuenta creada en 2016-01-31 10:07:24)\n",
        "followers: 69, statuses: 2, listed: 0\n",
        "------------------------------------------------------------\n"
       ]
      },
      {
       "html": [
        "<img src=\"http://pbs.twimg.com/profile_images/592322918073376768/40ah4uU4_normal.jpg\" width=\"120\" height=\"120\"/>"
       ],
       "metadata": {},
       "output_type": "display_data",
       "text": [
        "<IPython.core.display.Image at 0x817ca58>"
       ]
      },
      {
       "output_type": "stream",
       "stream": "stdout",
       "text": [
        "@Espsuzi: Suzana Dias (cuenta creada en 2015-04-26 13:36:58)\n",
        "followers: 57, statuses: 21, listed: 0\n",
        "------------------------------------------------------------\n"
       ]
      },
      {
       "html": [
        "<img src=\"http://abs.twimg.com/sticky/default_profile_images/default_profile_3_normal.png\" width=\"120\" height=\"120\"/>"
       ],
       "metadata": {},
       "output_type": "display_data",
       "text": [
        "<IPython.core.display.Image at 0x6b3a58>"
       ]
      },
      {
       "output_type": "stream",
       "stream": "stdout",
       "text": [
        "@LozanoSanzo: Angeles Sanzo (cuenta creada en 2016-01-14 18:34:33)\n",
        "followers: 25, statuses: 176, listed: 2\n",
        "------------------------------------------------------------\n"
       ]
      },
      {
       "html": [
        "<img src=\"http://pbs.twimg.com/profile_images/566954665682927616/DCgBiRJi_normal.jpeg\" width=\"120\" height=\"120\"/>"
       ],
       "metadata": {},
       "output_type": "display_data",
       "text": [
        "<IPython.core.display.Image at 0x6b3da0>"
       ]
      },
      {
       "output_type": "stream",
       "stream": "stdout",
       "text": [
        "@Manchega2222: -*Antonia (cuenta creada en 2015-02-15 13:35:41)\n",
        "followers: 22, statuses: 299, listed: 1\n",
        "------------------------------------------------------------\n"
       ]
      },
      {
       "html": [
        "<img src=\"http://pbs.twimg.com/profile_images/463967388736573440/LDRDCpxT_normal.jpeg\" width=\"120\" height=\"120\"/>"
       ],
       "metadata": {},
       "output_type": "display_data",
       "text": [
        "<IPython.core.display.Image at 0x6b3a58>"
       ]
      },
      {
       "output_type": "stream",
       "stream": "stdout",
       "text": [
        "@wolgfy: Francesco Hidalgo (cuenta creada en 2011-04-05 08:54:53)\n",
        "followers: 176, statuses: 259, listed: 0\n",
        "------------------------------------------------------------\n"
       ]
      },
      {
       "html": [
        "<img src=\"http://pbs.twimg.com/profile_images/529428732327374848/hp4ZGUms_normal.jpeg\" width=\"120\" height=\"120\"/>"
       ],
       "metadata": {},
       "output_type": "display_data",
       "text": [
        "<IPython.core.display.Image at 0x6b3da0>"
       ]
      },
      {
       "output_type": "stream",
       "stream": "stdout",
       "text": [
        "@violetamolina6: violeta molina (cuenta creada en 2013-04-18 01:42:43)\n",
        "followers: 14, statuses: 196, listed: 0\n",
        "------------------------------------------------------------\n"
       ]
      },
      {
       "html": [
        "<img src=\"http://pbs.twimg.com/profile_images/2202172738/image_normal.jpg\" width=\"120\" height=\"120\"/>"
       ],
       "metadata": {},
       "output_type": "display_data",
       "text": [
        "<IPython.core.display.Image at 0x6b3a58>"
       ]
      },
      {
       "output_type": "stream",
       "stream": "stdout",
       "text": [
        "@evarodriguezf: Eva Rodriguez (cuenta creada en 2010-01-26 01:25:09)\n",
        "followers: 117, statuses: 63, listed: 0\n",
        "------------------------------------------------------------\n"
       ]
      },
      {
       "html": [
        "<img src=\"http://pbs.twimg.com/profile_images/2861975875/8af7c5999a25c09150a7f70d090b9ae6_normal.jpeg\" width=\"120\" height=\"120\"/>"
       ],
       "metadata": {},
       "output_type": "display_data",
       "text": [
        "<IPython.core.display.Image at 0x6b3da0>"
       ]
      },
      {
       "output_type": "stream",
       "stream": "stdout",
       "text": [
        "@matildacasa: CasaMatilda (cuenta creada en 2012-08-17 02:33:45)\n",
        "followers: 85, statuses: 16, listed: 0\n",
        "------------------------------------------------------------\n"
       ]
      },
      {
       "html": [
        "<img src=\"http://pbs.twimg.com/profile_images/600575392865484800/F8kUG2cu_normal.jpg\" width=\"120\" height=\"120\"/>"
       ],
       "metadata": {},
       "output_type": "display_data",
       "text": [
        "<IPython.core.display.Image at 0x6b3a58>"
       ]
      },
      {
       "output_type": "stream",
       "stream": "stdout",
       "text": [
        "@Khrss08: khrss r (cuenta creada en 2014-03-26 06:17:06)\n",
        "followers: 24, statuses: 12, listed: 0\n",
        "------------------------------------------------------------\n"
       ]
      },
      {
       "html": [
        "<img src=\"http://pbs.twimg.com/profile_images/635126685264969729/9EJ3Wulr_normal.jpg\" width=\"120\" height=\"120\"/>"
       ],
       "metadata": {},
       "output_type": "display_data",
       "text": [
        "<IPython.core.display.Image at 0x6b3da0>"
       ]
      },
      {
       "output_type": "stream",
       "stream": "stdout",
       "text": [
        "@sole_lopez2012: Maria Soledad Lopez (cuenta creada en 2015-02-22 05:36:18)\n",
        "followers: 27, statuses: 12, listed: 0\n",
        "------------------------------------------------------------\n"
       ]
      },
      {
       "html": [
        "<img src=\"http://pbs.twimg.com/profile_images/378800000028104147/e6bdee940511102dde878fb8273fe4cc_normal.jpeg\" width=\"120\" height=\"120\"/>"
       ],
       "metadata": {},
       "output_type": "display_data",
       "text": [
        "<IPython.core.display.Image at 0x62d0e10>"
       ]
      },
      {
       "output_type": "stream",
       "stream": "stdout",
       "text": [
        "@lusemeca: lusemeca (cuenta creada en 2013-04-29 06:37:38)\n",
        "followers: 16, statuses: 438, listed: 0\n",
        "------------------------------------------------------------\n"
       ]
      },
      {
       "html": [
        "<img src=\"http://abs.twimg.com/sticky/default_profile_images/default_profile_0_normal.png\" width=\"120\" height=\"120\"/>"
       ],
       "metadata": {},
       "output_type": "display_data",
       "text": [
        "<IPython.core.display.Image at 0x6b3a58>"
       ]
      },
      {
       "output_type": "stream",
       "stream": "stdout",
       "text": [
        "@lulatri: daniel (cuenta creada en 2013-01-02 22:27:09)\n",
        "followers: 1, statuses: 19, listed: 0\n",
        "------------------------------------------------------------\n"
       ]
      },
      {
       "html": [
        "<img src=\"http://pbs.twimg.com/profile_images/601977072618176512/_191_OpT_normal.jpg\" width=\"120\" height=\"120\"/>"
       ],
       "metadata": {},
       "output_type": "display_data",
       "text": [
        "<IPython.core.display.Image at 0x6b3f98>"
       ]
      },
      {
       "output_type": "stream",
       "stream": "stdout",
       "text": [
        "@jmloidi: Jose Miguel (cuenta creada en 2012-03-21 17:37:03)\n",
        "followers: 19, statuses: 40, listed: 1\n",
        "------------------------------------------------------------\n"
       ]
      },
      {
       "html": [
        "<img src=\"http://abs.twimg.com/sticky/default_profile_images/default_profile_6_normal.png\" width=\"120\" height=\"120\"/>"
       ],
       "metadata": {},
       "output_type": "display_data",
       "text": [
        "<IPython.core.display.Image at 0x6b3a58>"
       ]
      },
      {
       "output_type": "stream",
       "stream": "stdout",
       "text": [
        "@Alferdo00: Alferdo (cuenta creada en 2016-02-20 21:27:25)\n",
        "followers: 1, statuses: 0, listed: 0\n",
        "------------------------------------------------------------\n"
       ]
      },
      {
       "html": [
        "<img src=\"http://pbs.twimg.com/profile_images/3387005698/db3e4d5fd961c949238cee3183b1f5fb_normal.jpeg\" width=\"120\" height=\"120\"/>"
       ],
       "metadata": {},
       "output_type": "display_data",
       "text": [
        "<IPython.core.display.Image at 0x6b3f98>"
       ]
      },
      {
       "output_type": "stream",
       "stream": "stdout",
       "text": [
        "@SilviaPantn: Silvia (cuenta creada en 2011-09-26 21:37:45)\n",
        "followers: 51, statuses: 890, listed: 1\n",
        "------------------------------------------------------------\n"
       ]
      },
      {
       "html": [
        "<img src=\"http://pbs.twimg.com/profile_images/689208741493870596/IeoBT6KC_normal.jpg\" width=\"120\" height=\"120\"/>"
       ],
       "metadata": {},
       "output_type": "display_data",
       "text": [
        "<IPython.core.display.Image at 0x6b3a58>"
       ]
      },
      {
       "output_type": "stream",
       "stream": "stdout",
       "text": [
        "@Pitavak: Pen\u00e9lope Pinedo (cuenta creada en 2011-03-31 18:34:49)\n",
        "followers: 6, statuses: 174, listed: 0\n",
        "------------------------------------------------------------\n"
       ]
      },
      {
       "html": [
        "<img src=\"http://abs.twimg.com/sticky/default_profile_images/default_profile_3_normal.png\" width=\"120\" height=\"120\"/>"
       ],
       "metadata": {},
       "output_type": "display_data",
       "text": [
        "<IPython.core.display.Image at 0x6b3f98>"
       ]
      },
      {
       "output_type": "stream",
       "stream": "stdout",
       "text": [
        "@Maitechuti181: Maite (cuenta creada en 2015-08-17 19:23:00)\n",
        "followers: 3, statuses: 0, listed: 0\n",
        "------------------------------------------------------------\n"
       ]
      },
      {
       "html": [
        "<img src=\"http://pbs.twimg.com/profile_images/447639196770258944/I9btuMVi_normal.jpeg\" width=\"120\" height=\"120\"/>"
       ],
       "metadata": {},
       "output_type": "display_data",
       "text": [
        "<IPython.core.display.Image at 0x6b3a58>"
       ]
      },
      {
       "output_type": "stream",
       "stream": "stdout",
       "text": [
        "@dasanlu: david gm (cuenta creada en 2011-07-18 19:41:53)\n",
        "followers: 7, statuses: 3, listed: 0\n",
        "------------------------------------------------------------\n"
       ]
      },
      {
       "html": [
        "<img src=\"http://pbs.twimg.com/profile_images/704470667345920000/zenCnZt6_normal.jpg\" width=\"120\" height=\"120\"/>"
       ],
       "metadata": {},
       "output_type": "display_data",
       "text": [
        "<IPython.core.display.Image at 0x6b3f98>"
       ]
      },
      {
       "output_type": "stream",
       "stream": "stdout",
       "text": [
        "@CERVANTESARMADA: CERVANTESCERVANTES48 (cuenta creada en 2015-08-04 16:55:12)\n",
        "followers: 545, statuses: 153, listed: 1\n",
        "------------------------------------------------------------\n"
       ]
      },
      {
       "html": [
        "<img src=\"http://abs.twimg.com/sticky/default_profile_images/default_profile_5_normal.png\" width=\"120\" height=\"120\"/>"
       ],
       "metadata": {},
       "output_type": "display_data",
       "text": [
        "<IPython.core.display.Image at 0x62dc080>"
       ]
      },
      {
       "output_type": "stream",
       "stream": "stdout",
       "text": [
        "@agmaines: ana garcia (cuenta creada en 2011-11-07 21:36:14)\n",
        "followers: 33, statuses: 36, listed: 0\n",
        "------------------------------------------------------------\n"
       ]
      },
      {
       "html": [
        "<img src=\"http://pbs.twimg.com/profile_images/702604255694196736/cR0nzOp-_normal.jpg\" width=\"120\" height=\"120\"/>"
       ],
       "metadata": {},
       "output_type": "display_data",
       "text": [
        "<IPython.core.display.Image at 0x6b3da0>"
       ]
      },
      {
       "output_type": "stream",
       "stream": "stdout",
       "text": [
        "@cinesmarts: CineSmartS (cuenta creada en 2016-02-23 18:48:16)\n",
        "followers: 505, statuses: 33, listed: 2\n",
        "------------------------------------------------------------\n"
       ]
      },
      {
       "html": [
        "<img src=\"http://abs.twimg.com/sticky/default_profile_images/default_profile_2_normal.png\" width=\"120\" height=\"120\"/>"
       ],
       "metadata": {},
       "output_type": "display_data",
       "text": [
        "<IPython.core.display.Image at 0x6b3a58>"
       ]
      },
      {
       "output_type": "stream",
       "stream": "stdout",
       "text": [
        "@14deabriln: 14deabril (cuenta creada en 2016-02-25 14:13:55)\n",
        "followers: 20, statuses: 0, listed: 0\n",
        "------------------------------------------------------------\n"
       ]
      },
      {
       "html": [
        "<img src=\"http://pbs.twimg.com/profile_images/470958399220613120/Wz5i_E0w_normal.jpeg\" width=\"120\" height=\"120\"/>"
       ],
       "metadata": {},
       "output_type": "display_data",
       "text": [
        "<IPython.core.display.Image at 0x6b3da0>"
       ]
      },
      {
       "output_type": "stream",
       "stream": "stdout",
       "text": [
        "@wilsonmejia2: wilson mejia (cuenta creada en 2011-05-28 00:40:47)\n",
        "followers: 47, statuses: 257, listed: 0\n",
        "------------------------------------------------------------\n"
       ]
      },
      {
       "html": [
        "<img src=\"http://pbs.twimg.com/profile_images/697132836583768064/2dmr6cQQ_normal.png\" width=\"120\" height=\"120\"/>"
       ],
       "metadata": {},
       "output_type": "display_data",
       "text": [
        "<IPython.core.display.Image at 0x6b3a58>"
       ]
      },
      {
       "output_type": "stream",
       "stream": "stdout",
       "text": [
        "@egatrader: ega trader (cuenta creada en 2013-12-02 16:56:27)\n",
        "followers: 69641, statuses: 2721, listed: 67\n",
        "------------------------------------------------------------\n"
       ]
      },
      {
       "html": [
        "<img src=\"http://pbs.twimg.com/profile_images/2984472088/7d643d0e000cb267707326b88d3473b6_normal.jpeg\" width=\"120\" height=\"120\"/>"
       ],
       "metadata": {},
       "output_type": "display_data",
       "text": [
        "<IPython.core.display.Image at 0x6b3da0>"
       ]
      },
      {
       "output_type": "stream",
       "stream": "stdout",
       "text": [
        "@matos_rubya: Ruby Matos (cuenta creada en 2012-01-29 16:25:39)\n",
        "followers: 28, statuses: 758, listed: 0\n",
        "------------------------------------------------------------\n"
       ]
      },
      {
       "html": [
        "<img src=\"http://pbs.twimg.com/profile_images/596070474129354753/PSPFTMk__normal.jpg\" width=\"120\" height=\"120\"/>"
       ],
       "metadata": {},
       "output_type": "display_data",
       "text": [
        "<IPython.core.display.Image at 0x6b3a58>"
       ]
      },
      {
       "output_type": "stream",
       "stream": "stdout",
       "text": [
        "@macabraski: Melula (cuenta creada en 2009-11-27 13:37:57)\n",
        "followers: 172, statuses: 168, listed: 2\n",
        "------------------------------------------------------------\n"
       ]
      },
      {
       "html": [
        "<img src=\"http://pbs.twimg.com/profile_images/1161223900/ppluys_normal.jpg\" width=\"120\" height=\"120\"/>"
       ],
       "metadata": {},
       "output_type": "display_data",
       "text": [
        "<IPython.core.display.Image at 0x6b3da0>"
       ]
      },
      {
       "output_type": "stream",
       "stream": "stdout",
       "text": [
        "@miranda_pp: jose luis miranda (cuenta creada en 2010-11-06 19:34:31)\n",
        "followers: 266, statuses: 38, listed: 0\n",
        "------------------------------------------------------------\n"
       ]
      },
      {
       "html": [
        "<img src=\"http://pbs.twimg.com/profile_images/699693361184124928/3bStuxba_normal.jpg\" width=\"120\" height=\"120\"/>"
       ],
       "metadata": {},
       "output_type": "display_data",
       "text": [
        "<IPython.core.display.Image at 0x6b3a58>"
       ]
      },
      {
       "output_type": "stream",
       "stream": "stdout",
       "text": [
        "@leanettediaz: Leanette D\u00edaz (cuenta creada en 2016-02-16 20:29:57)\n",
        "followers: 36, statuses: 10, listed: 0\n",
        "------------------------------------------------------------\n"
       ]
      },
      {
       "html": [
        "<img src=\"http://pbs.twimg.com/profile_images/699544195183284224/Pz20ctV5_normal.jpg\" width=\"120\" height=\"120\"/>"
       ],
       "metadata": {},
       "output_type": "display_data",
       "text": [
        "<IPython.core.display.Image at 0x6b3da0>"
       ]
      },
      {
       "output_type": "stream",
       "stream": "stdout",
       "text": [
        "@Ferrayoli92: Leandro Campos (cuenta creada en 2016-02-16 10:38:36)\n",
        "followers: 47, statuses: 11, listed: 0\n",
        "------------------------------------------------------------\n"
       ]
      },
      {
       "html": [
        "<img src=\"http://abs.twimg.com/sticky/default_profile_images/default_profile_2_normal.png\" width=\"120\" height=\"120\"/>"
       ],
       "metadata": {},
       "output_type": "display_data",
       "text": [
        "<IPython.core.display.Image at 0x630e048>"
       ]
      },
      {
       "output_type": "stream",
       "stream": "stdout",
       "text": [
        "@MarinogonzalezA: Marino Gonzalez (cuenta creada en 2013-05-19 13:08:57)\n",
        "followers: 90, statuses: 3, listed: 2\n",
        "------------------------------------------------------------\n"
       ]
      },
      {
       "html": [
        "<img src=\"http://abs.twimg.com/sticky/default_profile_images/default_profile_1_normal.png\" width=\"120\" height=\"120\"/>"
       ],
       "metadata": {},
       "output_type": "display_data",
       "text": [
        "<IPython.core.display.Image at 0x6b3f98>"
       ]
      },
      {
       "output_type": "stream",
       "stream": "stdout",
       "text": [
        "@jubilarjubilosa: charo (cuenta creada en 2016-01-08 14:23:58)\n",
        "followers: 18, statuses: 5, listed: 0\n",
        "------------------------------------------------------------\n"
       ]
      },
      {
       "html": [
        "<img src=\"http://pbs.twimg.com/profile_images/687546402889666560/xclmzKSZ_normal.png\" width=\"120\" height=\"120\"/>"
       ],
       "metadata": {},
       "output_type": "display_data",
       "text": [
        "<IPython.core.display.Image at 0x6b3a58>"
       ]
      },
      {
       "output_type": "stream",
       "stream": "stdout",
       "text": [
        "@tantotantra: eleemepe (cuenta creada en 2016-01-05 20:29:22)\n",
        "followers: 55, statuses: 263, listed: 0\n",
        "------------------------------------------------------------\n"
       ]
      },
      {
       "html": [
        "<img src=\"http://pbs.twimg.com/profile_images/378800000812225187/12a5dd748c133989af30171471199258_normal.jpeg\" width=\"120\" height=\"120\"/>"
       ],
       "metadata": {},
       "output_type": "display_data",
       "text": [
        "<IPython.core.display.Image at 0x6b3f98>"
       ]
      },
      {
       "output_type": "stream",
       "stream": "stdout",
       "text": [
        "@coratoi: coratoi bluebu (cuenta creada en 2013-11-30 20:36:34)\n",
        "followers: 14, statuses: 358, listed: 0\n",
        "------------------------------------------------------------\n"
       ]
      },
      {
       "html": [
        "<img src=\"http://pbs.twimg.com/profile_images/634064637663817728/azkoHuZh_normal.jpg\" width=\"120\" height=\"120\"/>"
       ],
       "metadata": {},
       "output_type": "display_data",
       "text": [
        "<IPython.core.display.Image at 0x6b3a58>"
       ]
      },
      {
       "output_type": "stream",
       "stream": "stdout",
       "text": [
        "@Malaguer: Guillermina Fasciolo (cuenta creada en 2010-03-19 22:03:52)\n",
        "followers: 84, statuses: 9650, listed: 3\n",
        "------------------------------------------------------------\n"
       ]
      },
      {
       "html": [
        "<img src=\"http://pbs.twimg.com/profile_images/442335491212337153/k3sghl4K_normal.jpeg\" width=\"120\" height=\"120\"/>"
       ],
       "metadata": {},
       "output_type": "display_data",
       "text": [
        "<IPython.core.display.Image at 0x6b3f98>"
       ]
      },
      {
       "output_type": "stream",
       "stream": "stdout",
       "text": [
        "@Miguel48: Miguel (cuenta creada en 2009-10-30 15:36:59)\n",
        "followers: 136, statuses: 2195, listed: 3\n",
        "------------------------------------------------------------\n"
       ]
      },
      {
       "html": [
        "<img src=\"http://abs.twimg.com/sticky/default_profile_images/default_profile_3_normal.png\" width=\"120\" height=\"120\"/>"
       ],
       "metadata": {},
       "output_type": "display_data",
       "text": [
        "<IPython.core.display.Image at 0x6b3a58>"
       ]
      },
      {
       "output_type": "stream",
       "stream": "stdout",
       "text": [
        "@juanmanuelcru20: juan manuel cruz (cuenta creada en 2011-12-29 11:57:08)\n",
        "followers: 0, statuses: 0, listed: 0\n",
        "------------------------------------------------------------\n"
       ]
      },
      {
       "html": [
        "<img src=\"http://pbs.twimg.com/profile_images/569616528459718656/KOn1HDqv_normal.png\" width=\"120\" height=\"120\"/>"
       ],
       "metadata": {},
       "output_type": "display_data",
       "text": [
        "<IPython.core.display.Image at 0x6b3f98>"
       ]
      },
      {
       "output_type": "stream",
       "stream": "stdout",
       "text": [
        "@maga_la__: almudena (cuenta creada en 2015-02-22 21:53:50)\n",
        "followers: 37, statuses: 32, listed: 0\n",
        "------------------------------------------------------------\n"
       ]
      },
      {
       "html": [
        "<img src=\"http://pbs.twimg.com/profile_images/591781912248766464/GO02deIv_normal.jpg\" width=\"120\" height=\"120\"/>"
       ],
       "metadata": {},
       "output_type": "display_data",
       "text": [
        "<IPython.core.display.Image at 0x6b3a58>"
       ]
      },
      {
       "output_type": "stream",
       "stream": "stdout",
       "text": [
        "@GimenoMarga: marga gimeno (cuenta creada en 2012-02-20 12:09:42)\n",
        "followers: 68, statuses: 351, listed: 0\n",
        "------------------------------------------------------------\n"
       ]
      },
      {
       "html": [
        "<img src=\"http://pbs.twimg.com/profile_images/378800000416810486/0d8c72e4aaf5d06cf7e498943bb936a3_normal.jpeg\" width=\"120\" height=\"120\"/>"
       ],
       "metadata": {},
       "output_type": "display_data",
       "text": [
        "<IPython.core.display.Image at 0x6b3f98>"
       ]
      },
      {
       "output_type": "stream",
       "stream": "stdout",
       "text": [
        "@anadreyfus: ana dreyfus (cuenta creada en 2010-04-10 20:05:50)\n",
        "followers: 3, statuses: 5, listed: 0\n",
        "------------------------------------------------------------\n"
       ]
      },
      {
       "html": [
        "<img src=\"http://pbs.twimg.com/profile_images/690719301721001984/CrTU0Oou_normal.png\" width=\"120\" height=\"120\"/>"
       ],
       "metadata": {},
       "output_type": "display_data",
       "text": [
        "<IPython.core.display.Image at 0x62eff98>"
       ]
      },
      {
       "output_type": "stream",
       "stream": "stdout",
       "text": [
        "@jairgonzalez298: JAIR :) (cuenta creada en 2015-07-11 21:12:23)\n",
        "followers: 48, statuses: 121, listed: 0\n",
        "------------------------------------------------------------\n"
       ]
      },
      {
       "html": [
        "<img src=\"http://pbs.twimg.com/profile_images/710610865997930497/Zbb4gSfM_normal.jpg\" width=\"120\" height=\"120\"/>"
       ],
       "metadata": {},
       "output_type": "display_data",
       "text": [
        "<IPython.core.display.Image at 0x62efef0>"
       ]
      },
      {
       "output_type": "stream",
       "stream": "stdout",
       "text": [
        "@epescopo: Susana Escobar (cuenta creada en 2009-04-16 00:36:58)\n",
        "followers: 113, statuses: 1761, listed: 3\n",
        "------------------------------------------------------------\n"
       ]
      },
      {
       "html": [
        "<img src=\"http://pbs.twimg.com/profile_images/624308553986117634/oPsav9X6_normal.jpg\" width=\"120\" height=\"120\"/>"
       ],
       "metadata": {},
       "output_type": "display_data",
       "text": [
        "<IPython.core.display.Image at 0x62efd68>"
       ]
      },
      {
       "output_type": "stream",
       "stream": "stdout",
       "text": [
        "@florysol7: florysol (cuenta creada en 2011-04-08 16:21:23)\n",
        "followers: 36, statuses: 273, listed: 0\n",
        "------------------------------------------------------------\n"
       ]
      },
      {
       "html": [
        "<img src=\"http://pbs.twimg.com/profile_images/581937556398465024/RzHYSB1d_normal.jpg\" width=\"120\" height=\"120\"/>"
       ],
       "metadata": {},
       "output_type": "display_data",
       "text": [
        "<IPython.core.display.Image at 0x62efa90>"
       ]
      },
      {
       "output_type": "stream",
       "stream": "stdout",
       "text": [
        "@martranq: Mar Medina (cuenta creada en 2013-04-13 22:05:34)\n",
        "followers: 1096, statuses: 5064, listed: 16\n",
        "------------------------------------------------------------\n"
       ]
      },
      {
       "html": [
        "<img src=\"http://pbs.twimg.com/profile_images/485057294309130240/pTN4o7mQ_normal.jpeg\" width=\"120\" height=\"120\"/>"
       ],
       "metadata": {},
       "output_type": "display_data",
       "text": [
        "<IPython.core.display.Image at 0x62ef860>"
       ]
      },
      {
       "output_type": "stream",
       "stream": "stdout",
       "text": [
        "@MaryL1526: Mary Lebron (cuenta creada en 2011-03-20 04:39:29)\n",
        "followers: 8, statuses: 1, listed: 0\n",
        "------------------------------------------------------------\n"
       ]
      },
      {
       "html": [
        "<img src=\"http://pbs.twimg.com/profile_images/490114312414167040/N79D8feL_normal.jpeg\" width=\"120\" height=\"120\"/>"
       ],
       "metadata": {},
       "output_type": "display_data",
       "text": [
        "<IPython.core.display.Image at 0x62efa20>"
       ]
      },
      {
       "output_type": "stream",
       "stream": "stdout",
       "text": [
        "@jspribas: Josep Ribas (cuenta creada en 2009-11-08 10:36:38)\n",
        "followers: 689, statuses: 633, listed: 28\n",
        "------------------------------------------------------------\n"
       ]
      },
      {
       "html": [
        "<img src=\"http://pbs.twimg.com/profile_images/678336327364907008/KKOhMwh9_normal.jpg\" width=\"120\" height=\"120\"/>"
       ],
       "metadata": {},
       "output_type": "display_data",
       "text": [
        "<IPython.core.display.Image at 0x62ef780>"
       ]
      },
      {
       "output_type": "stream",
       "stream": "stdout",
       "text": [
        "@rubensaurora: Rubens Aurora (cuenta creada en 2011-03-14 00:22:14)\n",
        "followers: 351, statuses: 2229, listed: 3\n",
        "------------------------------------------------------------\n"
       ]
      },
      {
       "html": [
        "<img src=\"http://pbs.twimg.com/profile_images/714794371632250880/QMeWVHdj_normal.jpg\" width=\"120\" height=\"120\"/>"
       ],
       "metadata": {},
       "output_type": "display_data",
       "text": [
        "<IPython.core.display.Image at 0x62ef518>"
       ]
      },
      {
       "output_type": "stream",
       "stream": "stdout",
       "text": [
        "@arenalescity59: Jose Maria Gil Cleme (cuenta creada en 2014-09-04 13:14:52)\n",
        "followers: 32, statuses: 304, listed: 0\n",
        "------------------------------------------------------------\n"
       ]
      },
      {
       "html": [
        "<img src=\"http://abs.twimg.com/sticky/default_profile_images/default_profile_2_normal.png\" width=\"120\" height=\"120\"/>"
       ],
       "metadata": {},
       "output_type": "display_data",
       "text": [
        "<IPython.core.display.Image at 0x62ef240>"
       ]
      },
      {
       "output_type": "stream",
       "stream": "stdout",
       "text": [
        "@JUANRGUZMAN: JUAN RICARDO GUZMAN (cuenta creada en 2010-05-09 19:26:05)\n",
        "followers: 444, statuses: 1644, listed: 1\n",
        "------------------------------------------------------------\n"
       ]
      },
      {
       "html": [
        "<img src=\"http://pbs.twimg.com/profile_images/378800000386891714/4971dcad38e2fb67155f5441be0ca262_normal.jpeg\" width=\"120\" height=\"120\"/>"
       ],
       "metadata": {},
       "output_type": "display_data",
       "text": [
        "<IPython.core.display.Image at 0x62ef128>"
       ]
      },
      {
       "output_type": "stream",
       "stream": "stdout",
       "text": [
        "@xuliagl: Xulia G\u00f3mez Longo (cuenta creada en 2011-07-12 21:17:00)\n",
        "followers: 418, statuses: 2039, listed: 1\n",
        "------------------------------------------------------------\n"
       ]
      },
      {
       "html": [
        "<img src=\"http://pbs.twimg.com/profile_images/528625139395473408/oPXsnVFg_normal.jpeg\" width=\"120\" height=\"120\"/>"
       ],
       "metadata": {},
       "output_type": "display_data",
       "text": [
        "<IPython.core.display.Image at 0x62f5d30>"
       ]
      },
      {
       "output_type": "stream",
       "stream": "stdout",
       "text": [
        "@Roberto_DGDH: Roberto (cuenta creada en 2014-04-14 18:21:06)\n",
        "followers: 172, statuses: 2149, listed: 3\n",
        "------------------------------------------------------------\n"
       ]
      },
      {
       "html": [
        "<img src=\"http://pbs.twimg.com/profile_images/566618480/Salto_Jesus_2_normal.jpg\" width=\"120\" height=\"120\"/>"
       ],
       "metadata": {},
       "output_type": "display_data",
       "text": [
        "<IPython.core.display.Image at 0x62f5e80>"
       ]
      },
      {
       "output_type": "stream",
       "stream": "stdout",
       "text": [
        "@yopbol: JFLP (cuenta creada en 2009-12-09 13:12:23)\n",
        "followers: 18, statuses: 500, listed: 1\n",
        "------------------------------------------------------------\n"
       ]
      },
      {
       "html": [
        "<img src=\"http://pbs.twimg.com/profile_images/568168099128836096/NRqVz7og_normal.png\" width=\"120\" height=\"120\"/>"
       ],
       "metadata": {},
       "output_type": "display_data",
       "text": [
        "<IPython.core.display.Image at 0x62f5be0>"
       ]
      },
      {
       "output_type": "stream",
       "stream": "stdout",
       "text": [
        "@CAnonadado: Ciudadano Anonadado (cuenta creada en 2014-05-19 22:34:24)\n",
        "followers: 8, statuses: 16, listed: 0\n",
        "------------------------------------------------------------\n"
       ]
      },
      {
       "html": [
        "<img src=\"http://pbs.twimg.com/profile_images/680071498497822721/Gbo3r6VQ_normal.jpg\" width=\"120\" height=\"120\"/>"
       ],
       "metadata": {},
       "output_type": "display_data",
       "text": [
        "<IPython.core.display.Image at 0x62f5ac8>"
       ]
      },
      {
       "output_type": "stream",
       "stream": "stdout",
       "text": [
        "@JAQUELINCR1: JAQUELINNE CHAVEZ (cuenta creada en 2014-09-22 21:15:23)\n",
        "followers: 7, statuses: 14, listed: 0\n",
        "------------------------------------------------------------\n"
       ]
      },
      {
       "html": [
        "<img src=\"http://pbs.twimg.com/profile_images/523565532034134016/9X-GZ-Vz_normal.jpeg\" width=\"120\" height=\"120\"/>"
       ],
       "metadata": {},
       "output_type": "display_data",
       "text": [
        "<IPython.core.display.Image at 0x62f5898>"
       ]
      },
      {
       "output_type": "stream",
       "stream": "stdout",
       "text": [
        "@joseluisbazan: jose luis  (cuenta creada en 2010-05-17 17:24:09)\n",
        "followers: 35, statuses: 162, listed: 0\n",
        "------------------------------------------------------------\n"
       ]
      },
      {
       "html": [
        "<img src=\"http://pbs.twimg.com/profile_images/686621770145636352/vM7sCkY9_normal.jpg\" width=\"120\" height=\"120\"/>"
       ],
       "metadata": {},
       "output_type": "display_data",
       "text": [
        "<IPython.core.display.Image at 0x62f5710>"
       ]
      },
      {
       "output_type": "stream",
       "stream": "stdout",
       "text": [
        "@Tuscanbramasole: Mariangeli (cuenta creada en 2009-12-29 03:11:29)\n",
        "followers: 48, statuses: 662, listed: 0\n",
        "------------------------------------------------------------\n"
       ]
      },
      {
       "html": [
        "<img src=\"http://pbs.twimg.com/profile_images/458076641470582784/yOsREWzQ_normal.jpeg\" width=\"120\" height=\"120\"/>"
       ],
       "metadata": {},
       "output_type": "display_data",
       "text": [
        "<IPython.core.display.Image at 0x62f5588>"
       ]
      },
      {
       "output_type": "stream",
       "stream": "stdout",
       "text": [
        "@Dandipe: Daniela (cuenta creada en 2010-05-15 04:13:57)\n",
        "followers: 685, statuses: 354, listed: 3\n",
        "------------------------------------------------------------\n"
       ]
      },
      {
       "html": [
        "<img src=\"http://pbs.twimg.com/profile_images/665357482374463488/dCx56HsW_normal.jpg\" width=\"120\" height=\"120\"/>"
       ],
       "metadata": {},
       "output_type": "display_data",
       "text": [
        "<IPython.core.display.Image at 0x62f54a8>"
       ]
      },
      {
       "output_type": "stream",
       "stream": "stdout",
       "text": [
        "@andrew1agosto: Andrew Christian (cuenta creada en 2012-05-30 08:42:54)\n",
        "followers: 123, statuses: 597, listed: 1\n",
        "------------------------------------------------------------\n"
       ]
      },
      {
       "html": [
        "<img src=\"http://pbs.twimg.com/profile_images/611612503609466880/hKxjVMPq_normal.jpg\" width=\"120\" height=\"120\"/>"
       ],
       "metadata": {},
       "output_type": "display_data",
       "text": [
        "<IPython.core.display.Image at 0x62f52e8>"
       ]
      },
      {
       "output_type": "stream",
       "stream": "stdout",
       "text": [
        "@StypeM: stype man (cuenta creada en 2015-06-17 23:08:40)\n",
        "followers: 127, statuses: 86, listed: 0\n",
        "------------------------------------------------------------\n"
       ]
      },
      {
       "html": [
        "<img src=\"http://pbs.twimg.com/profile_images/680394462263140354/XZoe24ye_normal.jpg\" width=\"120\" height=\"120\"/>"
       ],
       "metadata": {},
       "output_type": "display_data",
       "text": [
        "<IPython.core.display.Image at 0x62e8048>"
       ]
      },
      {
       "output_type": "stream",
       "stream": "stdout",
       "text": [
        "@filopoetisa: Isabel (cuenta creada en 2015-08-24 02:26:35)\n",
        "followers: 9, statuses: 30, listed: 0\n",
        "------------------------------------------------------------\n"
       ]
      },
      {
       "html": [
        "<img src=\"http://pbs.twimg.com/profile_images/496109459094396928/UYCCVi9g_normal.jpeg\" width=\"120\" height=\"120\"/>"
       ],
       "metadata": {},
       "output_type": "display_data",
       "text": [
        "<IPython.core.display.Image at 0x62e8208>"
       ]
      },
      {
       "output_type": "stream",
       "stream": "stdout",
       "text": [
        "@rodzquiles: Ra\u00fal Rodr\u00edguez (cuenta creada en 2014-08-04 01:36:36)\n",
        "followers: 67, statuses: 7, listed: 0\n",
        "------------------------------------------------------------\n"
       ]
      },
      {
       "html": [
        "<img src=\"http://pbs.twimg.com/profile_images/476058786013016064/pqOzPOWZ_normal.jpeg\" width=\"120\" height=\"120\"/>"
       ],
       "metadata": {},
       "output_type": "display_data",
       "text": [
        "<IPython.core.display.Image at 0x62e8390>"
       ]
      },
      {
       "output_type": "stream",
       "stream": "stdout",
       "text": [
        "@MiguelAlcalas: Miguel \u00c1ngel Alcal\u00e1 (cuenta creada en 2011-02-10 10:04:47)\n",
        "followers: 261, statuses: 2403, listed: 3\n",
        "------------------------------------------------------------\n"
       ]
      },
      {
       "html": [
        "<img src=\"http://pbs.twimg.com/profile_images/691249518743023616/v9z99G4P_normal.jpg\" width=\"120\" height=\"120\"/>"
       ],
       "metadata": {},
       "output_type": "display_data",
       "text": [
        "<IPython.core.display.Image at 0x62e8518>"
       ]
      },
      {
       "output_type": "stream",
       "stream": "stdout",
       "text": [
        "@beatapia1: beagarcimartineztriz (cuenta creada en 2014-12-03 13:32:27)\n",
        "followers: 147, statuses: 625, listed: 4\n",
        "------------------------------------------------------------\n"
       ]
      },
      {
       "html": [
        "<img src=\"http://pbs.twimg.com/profile_images/378800000469782422/af882fd6cc339b931021b4106cba8c90_normal.jpeg\" width=\"120\" height=\"120\"/>"
       ],
       "metadata": {},
       "output_type": "display_data",
       "text": [
        "<IPython.core.display.Image at 0x62e86a0>"
       ]
      },
      {
       "output_type": "stream",
       "stream": "stdout",
       "text": [
        "@Isabelyera: Isabel Yera (cuenta creada en 2010-04-23 10:06:51)\n",
        "followers: 117, statuses: 215, listed: 0\n",
        "------------------------------------------------------------\n"
       ]
      },
      {
       "html": [
        "<img src=\"http://pbs.twimg.com/profile_images/583586063324708864/i5uzdaD5_normal.jpg\" width=\"120\" height=\"120\"/>"
       ],
       "metadata": {},
       "output_type": "display_data",
       "text": [
        "<IPython.core.display.Image at 0x62e8828>"
       ]
      },
      {
       "output_type": "stream",
       "stream": "stdout",
       "text": [
        "@MarylenCorrea: Marylen Correa (cuenta creada en 2011-09-05 11:50:25)\n",
        "followers: 44, statuses: 7, listed: 0\n",
        "------------------------------------------------------------\n"
       ]
      },
      {
       "html": [
        "<img src=\"http://pbs.twimg.com/profile_images/1360905131/image_normal.jpg\" width=\"120\" height=\"120\"/>"
       ],
       "metadata": {},
       "output_type": "display_data",
       "text": [
        "<IPython.core.display.Image at 0x62e89b0>"
       ]
      },
      {
       "output_type": "stream",
       "stream": "stdout",
       "text": [
        "@elsieruiz: Elsie Ruiz (cuenta creada en 2009-08-14 01:59:18)\n",
        "followers: 107, statuses: 1037, listed: 0\n",
        "------------------------------------------------------------\n"
       ]
      },
      {
       "html": [
        "<img src=\"http://pbs.twimg.com/profile_images/378800000734978087/87d70c70f4738e325a0356d428a28d4d_normal.jpeg\" width=\"120\" height=\"120\"/>"
       ],
       "metadata": {},
       "output_type": "display_data",
       "text": [
        "<IPython.core.display.Image at 0x62e8b38>"
       ]
      },
      {
       "output_type": "stream",
       "stream": "stdout",
       "text": [
        "@felangarita: Fela Angarita (cuenta creada en 2013-11-03 15:05:51)\n",
        "followers: 1960, statuses: 2129, listed: 1\n",
        "------------------------------------------------------------\n"
       ]
      },
      {
       "html": [
        "<img src=\"http://pbs.twimg.com/profile_images/706519197334020099/9qZioWOJ_normal.jpg\" width=\"120\" height=\"120\"/>"
       ],
       "metadata": {},
       "output_type": "display_data",
       "text": [
        "<IPython.core.display.Image at 0x62e8cc0>"
       ]
      },
      {
       "output_type": "stream",
       "stream": "stdout",
       "text": [
        "@ImLindaOspino: LindaOspinoArredondo (cuenta creada en 2010-01-11 16:53:15)\n",
        "followers: 1135, statuses: 6600, listed: 5\n",
        "------------------------------------------------------------\n"
       ]
      },
      {
       "html": [
        "<img src=\"http://pbs.twimg.com/profile_images/502625918762762240/4ZAPcd-M_normal.jpeg\" width=\"120\" height=\"120\"/>"
       ],
       "metadata": {},
       "output_type": "display_data",
       "text": [
        "<IPython.core.display.Image at 0x62e8e48>"
       ]
      },
      {
       "output_type": "stream",
       "stream": "stdout",
       "text": [
        "@mundocomercioVS: MundoComercioV.Shopp (cuenta creada en 2014-08-22 00:50:56)\n",
        "followers: 131, statuses: 219, listed: 0\n",
        "------------------------------------------------------------\n"
       ]
      },
      {
       "html": [
        "<img src=\"http://pbs.twimg.com/profile_images/659557836226035712/Xzdnl5Ex_normal.jpg\" width=\"120\" height=\"120\"/>"
       ],
       "metadata": {},
       "output_type": "display_data",
       "text": [
        "<IPython.core.display.Image at 0x630f0b8>"
       ]
      },
      {
       "output_type": "stream",
       "stream": "stdout",
       "text": [
        "@suenos_libro: Sue\u00f1os en un libro. (cuenta creada en 2015-10-29 02:28:27)\n",
        "followers: 80, statuses: 137, listed: 0\n",
        "------------------------------------------------------------\n"
       ]
      },
      {
       "html": [
        "<img src=\"http://pbs.twimg.com/profile_images/624258781833068544/AUFOs3fD_normal.jpg\" width=\"120\" height=\"120\"/>"
       ],
       "metadata": {},
       "output_type": "display_data",
       "text": [
        "<IPython.core.display.Image at 0x630f278>"
       ]
      },
      {
       "output_type": "stream",
       "stream": "stdout",
       "text": [
        "@janna_isaeva: Janna Isaeva (cuenta creada en 2015-07-23 16:37:25)\n",
        "followers: 0, statuses: 1, listed: 0\n",
        "------------------------------------------------------------\n"
       ]
      },
      {
       "html": [
        "<img src=\"http://pbs.twimg.com/profile_images/660178541489856512/RvuYQi0W_normal.jpg\" width=\"120\" height=\"120\"/>"
       ],
       "metadata": {},
       "output_type": "display_data",
       "text": [
        "<IPython.core.display.Image at 0x630f400>"
       ]
      },
      {
       "output_type": "stream",
       "stream": "stdout",
       "text": [
        "@ddpptt82: DDPPTT (cuenta creada en 2015-10-30 15:41:22)\n",
        "followers: 14, statuses: 2, listed: 0\n",
        "------------------------------------------------------------\n"
       ]
      },
      {
       "html": [
        "<img src=\"http://pbs.twimg.com/profile_images/2198045199/image_normal.jpg\" width=\"120\" height=\"120\"/>"
       ],
       "metadata": {},
       "output_type": "display_data",
       "text": [
        "<IPython.core.display.Image at 0x630f5c0>"
       ]
      },
      {
       "output_type": "stream",
       "stream": "stdout",
       "text": [
        "@angelvht: angel c.v. (cuenta creada en 2010-11-09 19:52:11)\n",
        "followers: 33, statuses: 872, listed: 0\n",
        "------------------------------------------------------------\n"
       ]
      },
      {
       "html": [
        "<img src=\"http://pbs.twimg.com/profile_images/1597702563/image_normal.jpg\" width=\"120\" height=\"120\"/>"
       ],
       "metadata": {},
       "output_type": "display_data",
       "text": [
        "<IPython.core.display.Image at 0x630f748>"
       ]
      },
      {
       "output_type": "stream",
       "stream": "stdout",
       "text": [
        "@laumarba: Mario Barrientos (cuenta creada en 2011-10-20 11:22:52)\n",
        "followers: 17, statuses: 70, listed: 0\n",
        "------------------------------------------------------------\n"
       ]
      },
      {
       "html": [
        "<img src=\"http://abs.twimg.com/sticky/default_profile_images/default_profile_4_normal.png\" width=\"120\" height=\"120\"/>"
       ],
       "metadata": {},
       "output_type": "display_data",
       "text": [
        "<IPython.core.display.Image at 0x630f8d0>"
       ]
      },
      {
       "output_type": "stream",
       "stream": "stdout",
       "text": [
        "@isabel_josa: Mar\u00eda Isabel Josa Ga (cuenta creada en 2015-11-20 11:48:50)\n",
        "followers: 2, statuses: 7, listed: 0\n",
        "------------------------------------------------------------\n"
       ]
      },
      {
       "html": [
        "<img src=\"http://pbs.twimg.com/profile_images/426256350843518976/lYrDcYSH_normal.jpeg\" width=\"120\" height=\"120\"/>"
       ],
       "metadata": {},
       "output_type": "display_data",
       "text": [
        "<IPython.core.display.Image at 0x630fa58>"
       ]
      },
      {
       "output_type": "stream",
       "stream": "stdout",
       "text": [
        "@inesjulieta1: Jose Luis Conde (cuenta creada en 2011-02-28 20:34:09)\n",
        "followers: 20, statuses: 59, listed: 0\n",
        "------------------------------------------------------------\n"
       ]
      },
      {
       "html": [
        "<img src=\"http://pbs.twimg.com/profile_images/680464231620341760/1rXhl18L_normal.png\" width=\"120\" height=\"120\"/>"
       ],
       "metadata": {},
       "output_type": "display_data",
       "text": [
        "<IPython.core.display.Image at 0x630fbe0>"
       ]
      },
      {
       "output_type": "stream",
       "stream": "stdout",
       "text": [
        "@userbarna: userbarna (cuenta creada en 2008-10-28 17:18:46)\n",
        "followers: 274, statuses: 15685, listed: 20\n",
        "------------------------------------------------------------\n"
       ]
      },
      {
       "html": [
        "<img src=\"http://pbs.twimg.com/profile_images/1768015477/r001-009_normal.jpg\" width=\"120\" height=\"120\"/>"
       ],
       "metadata": {},
       "output_type": "display_data",
       "text": [
        "<IPython.core.display.Image at 0x630fd68>"
       ]
      },
      {
       "output_type": "stream",
       "stream": "stdout",
       "text": [
        "@maco_chambon: carlos rodr\u00edguez (cuenta creada en 2011-07-18 19:48:46)\n",
        "followers: 143, statuses: 341, listed: 2\n",
        "------------------------------------------------------------\n"
       ]
      },
      {
       "html": [
        "<img src=\"http://pbs.twimg.com/profile_images/326539188/.SuPMu876162-02_normal.jpg\" width=\"120\" height=\"120\"/>"
       ],
       "metadata": {},
       "output_type": "display_data",
       "text": [
        "<IPython.core.display.Image at 0x630ffd0>"
       ]
      },
      {
       "output_type": "stream",
       "stream": "stdout",
       "text": [
        "@MigueRodriguez: Miguel Rodriguez (cuenta creada en 2009-05-05 01:22:54)\n",
        "followers: 294, statuses: 316, listed: 2\n",
        "------------------------------------------------------------\n"
       ]
      },
      {
       "html": [
        "<img src=\"http://pbs.twimg.com/profile_images/667126343402827776/FoFRGGD2_normal.jpg\" width=\"120\" height=\"120\"/>"
       ],
       "metadata": {},
       "output_type": "display_data",
       "text": [
        "<IPython.core.display.Image at 0x630ff98>"
       ]
      },
      {
       "output_type": "stream",
       "stream": "stdout",
       "text": [
        "@AyuzoRios: Lidia Ayuzo (cuenta creada en 2011-03-23 18:23:35)\n",
        "followers: 63, statuses: 301, listed: 1\n",
        "------------------------------------------------------------\n"
       ]
      }
     ],
     "prompt_number": 15
    },
    {
     "cell_type": "code",
     "collapsed": false,
     "input": [
      "fwcol.find({'rts.count': 0, 'description': ''}).count()"
     ],
     "language": "python",
     "metadata": {},
     "outputs": [
      {
       "metadata": {},
       "output_type": "pyout",
       "prompt_number": 9,
       "text": [
        "2134"
       ]
      }
     ],
     "prompt_number": 9
    },
    {
     "cell_type": "code",
     "collapsed": false,
     "input": [
      "from dbtw.api import get_twitter\n",
      "api = get_twitter('elquijote1605')\n",
      "api.retry = True"
     ],
     "language": "python",
     "metadata": {},
     "outputs": [],
     "prompt_number": 2
    },
    {
     "cell_type": "code",
     "collapsed": false,
     "input": [
      "api.direct_messages.new(screen_name='dbuendiab', text='Esta es una prueba singular del tema de los DM, no precisa contestaci\u00f3n')"
     ],
     "language": "python",
     "metadata": {},
     "outputs": [
      {
       "metadata": {},
       "output_type": "pyout",
       "prompt_number": 13,
       "text": [
        "{'sender_id': 2765666804,\n",
        " 'recipient': {'time_zone': 'Madrid',\n",
        "  'created_at': 'Tue Dec 01 09:42:17 +0000 2009',\n",
        "  'utc_offset': 7200,\n",
        "  'id': 93826987,\n",
        "  'profile_sidebar_border_color': '000000',\n",
        "  'friends_count': 467,\n",
        "  'profile_text_color': '000000',\n",
        "  'statuses_count': 19472,\n",
        "  'profile_background_image_url': 'http://abs.twimg.com/images/themes/theme14/bg.gif',\n",
        "  'contributors_enabled': False,\n",
        "  'profile_background_image_url_https': 'https://abs.twimg.com/images/themes/theme14/bg.gif',\n",
        "  'listed_count': 27,\n",
        "  'profile_background_tile': False,\n",
        "  'profile_banner_url': 'https://pbs.twimg.com/profile_banners/93826987/1440918900',\n",
        "  'follow_request_sent': False,\n",
        "  'profile_image_url': 'http://pbs.twimg.com/profile_images/637886654632562688/VhnQjmYf_normal.jpg',\n",
        "  'description': 'Saliendo de la nada fui ni\u00f1o, m\u00fasico, ingeniero, programador, padre, desarrollador SQL, prejubilado y vuelvo poco a poco a la nada.',\n",
        "  'following': False,\n",
        "  'profile_sidebar_fill_color': '000000',\n",
        "  'profile_background_color': '000000',\n",
        "  'is_translator': False,\n",
        "  'profile_use_background_image': False,\n",
        "  'followers_count': 613,\n",
        "  'location': 'Barcelona, Spain',\n",
        "  'profile_image_url_https': 'https://pbs.twimg.com/profile_images/637886654632562688/VhnQjmYf_normal.jpg',\n",
        "  'notifications': False,\n",
        "  'default_profile': False,\n",
        "  'verified': False,\n",
        "  'has_extended_profile': False,\n",
        "  'geo_enabled': True,\n",
        "  'is_translation_enabled': False,\n",
        "  'default_profile_image': False,\n",
        "  'url': 'http://t.co/IKyZVgLZzk',\n",
        "  'id_str': '93826987',\n",
        "  'name': 'Diego Buendia',\n",
        "  'lang': 'es',\n",
        "  'profile_link_color': '770033',\n",
        "  'screen_name': 'dbuendiab',\n",
        "  'entities': {'url': {'urls': [{'url': 'http://t.co/IKyZVgLZzk',\n",
        "      'expanded_url': 'http://diegobuendia.wordpress.com',\n",
        "      'indices': [0, 22],\n",
        "      'display_url': 'diegobuendia.wordpress.com'}]},\n",
        "   'description': {'urls': []}},\n",
        "  'protected': False,\n",
        "  'favourites_count': 2352},\n",
        " 'id': 717285243246485507,\n",
        " 'sender': {'time_zone': 'Madrid',\n",
        "  'created_at': 'Mon Aug 25 07:50:57 +0000 2014',\n",
        "  'utc_offset': 7200,\n",
        "  'id': 2765666804,\n",
        "  'profile_sidebar_border_color': 'C0DEED',\n",
        "  'friends_count': 115,\n",
        "  'profile_text_color': '333333',\n",
        "  'statuses_count': 16906,\n",
        "  'profile_background_image_url': 'http://abs.twimg.com/images/themes/theme1/bg.png',\n",
        "  'contributors_enabled': False,\n",
        "  'profile_background_image_url_https': 'https://abs.twimg.com/images/themes/theme1/bg.png',\n",
        "  'listed_count': 96,\n",
        "  'profile_background_tile': False,\n",
        "  'profile_banner_url': 'https://pbs.twimg.com/profile_banners/2765666804/1408984548',\n",
        "  'follow_request_sent': False,\n",
        "  'profile_image_url': 'http://pbs.twimg.com/profile_images/503938002570076160/B1vlwhuJ_normal.jpeg',\n",
        "  'description': 'La tradici\u00f3n de la novela por entregas adaptada a los formatos del presente. Puedes ver los tuits del d\u00eda en https://t.co/SKUD5RajX0',\n",
        "  'following': False,\n",
        "  'profile_sidebar_fill_color': 'DDEEF6',\n",
        "  'profile_background_color': 'C0DEED',\n",
        "  'is_translator': False,\n",
        "  'profile_use_background_image': True,\n",
        "  'followers_count': 7174,\n",
        "  'location': 'Ciudad Real',\n",
        "  'profile_image_url_https': 'https://pbs.twimg.com/profile_images/503938002570076160/B1vlwhuJ_normal.jpeg',\n",
        "  'notifications': False,\n",
        "  'default_profile': True,\n",
        "  'verified': False,\n",
        "  'has_extended_profile': False,\n",
        "  'geo_enabled': False,\n",
        "  'is_translation_enabled': False,\n",
        "  'default_profile_image': False,\n",
        "  'url': 'https://t.co/XTe2ryRtBK',\n",
        "  'id_str': '2765666804',\n",
        "  'name': 'QuijoteEn17000Tuits',\n",
        "  'lang': 'es',\n",
        "  'profile_link_color': '0084B4',\n",
        "  'screen_name': 'elquijote1605',\n",
        "  'entities': {'url': {'urls': [{'url': 'https://t.co/XTe2ryRtBK',\n",
        "      'expanded_url': 'http://quijote17000.es',\n",
        "      'indices': [0, 23],\n",
        "      'display_url': 'quijote17000.es'}]},\n",
        "   'description': {'urls': [{'url': 'https://t.co/SKUD5RajX0',\n",
        "      'expanded_url': 'http://quijote17000.es/quijote.php',\n",
        "      'indices': [109, 132],\n",
        "      'display_url': 'quijote17000.es/quijote.php'}]}},\n",
        "  'protected': False,\n",
        "  'favourites_count': 2617},\n",
        " 'recipient_id': 93826987,\n",
        " 'recipient_screen_name': 'dbuendiab',\n",
        " 'sender_screen_name': 'elquijote1605',\n",
        " 'created_at': 'Tue Apr 05 09:38:23 +0000 2016',\n",
        " 'text': 'Esta es una prueba singular del tema de los DM, no precisa contestaci\u00f3n',\n",
        " 'id_str': '717285243246485507',\n",
        " 'sender_id_str': '2765666804',\n",
        " 'entities': {'urls': [], 'hashtags': [], 'user_mentions': [], 'symbols': []},\n",
        " 'recipient_id_str': '93826987'}"
       ]
      }
     ],
     "prompt_number": 13
    },
    {
     "cell_type": "code",
     "collapsed": false,
     "input": [
      "api.help.configuration()"
     ],
     "language": "python",
     "metadata": {},
     "outputs": [
      {
       "metadata": {},
       "output_type": "pyout",
       "prompt_number": 14,
       "text": [
        "{'short_url_length': 23,\n",
        " 'max_media_per_upload': 1,\n",
        " 'characters_reserved_per_media': 24,\n",
        " 'short_url_length_https': 23,\n",
        " 'non_username_paths': ['about',\n",
        "  'account',\n",
        "  'accounts',\n",
        "  'activity',\n",
        "  'all',\n",
        "  'announcements',\n",
        "  'anywhere',\n",
        "  'api_rules',\n",
        "  'api_terms',\n",
        "  'apirules',\n",
        "  'apps',\n",
        "  'auth',\n",
        "  'badges',\n",
        "  'blog',\n",
        "  'business',\n",
        "  'buttons',\n",
        "  'contacts',\n",
        "  'devices',\n",
        "  'direct_messages',\n",
        "  'download',\n",
        "  'downloads',\n",
        "  'edit_announcements',\n",
        "  'faq',\n",
        "  'favorites',\n",
        "  'find_sources',\n",
        "  'find_users',\n",
        "  'followers',\n",
        "  'following',\n",
        "  'friend_request',\n",
        "  'friendrequest',\n",
        "  'friends',\n",
        "  'goodies',\n",
        "  'help',\n",
        "  'home',\n",
        "  'i',\n",
        "  'im_account',\n",
        "  'inbox',\n",
        "  'invitations',\n",
        "  'invite',\n",
        "  'jobs',\n",
        "  'list',\n",
        "  'login',\n",
        "  'logo',\n",
        "  'logout',\n",
        "  'me',\n",
        "  'mentions',\n",
        "  'messages',\n",
        "  'mockview',\n",
        "  'newtwitter',\n",
        "  'notifications',\n",
        "  'nudge',\n",
        "  'oauth',\n",
        "  'phoenix_search',\n",
        "  'positions',\n",
        "  'privacy',\n",
        "  'public_timeline',\n",
        "  'related_tweets',\n",
        "  'replies',\n",
        "  'retweeted_of_mine',\n",
        "  'retweets',\n",
        "  'retweets_by_others',\n",
        "  'rules',\n",
        "  'saved_searches',\n",
        "  'search',\n",
        "  'sent',\n",
        "  'sessions',\n",
        "  'settings',\n",
        "  'share',\n",
        "  'signup',\n",
        "  'signin',\n",
        "  'similar_to',\n",
        "  'statistics',\n",
        "  'terms',\n",
        "  'tos',\n",
        "  'translate',\n",
        "  'trends',\n",
        "  'tweetbutton',\n",
        "  'twttr',\n",
        "  'update_discoverability',\n",
        "  'users',\n",
        "  'welcome',\n",
        "  'who_to_follow',\n",
        "  'widgets',\n",
        "  'zendesk_auth',\n",
        "  'media_signup'],\n",
        " 'photo_sizes': {'thumb': {'resize': 'crop', 'w': 150, 'h': 150},\n",
        "  'medium': {'resize': 'fit', 'w': 600, 'h': 1200},\n",
        "  'small': {'resize': 'fit', 'w': 340, 'h': 480},\n",
        "  'large': {'resize': 'fit', 'w': 1024, 'h': 2048}},\n",
        " 'photo_size_limit': 3145728,\n",
        " 'dm_text_character_limit': 10000}"
       ]
      }
     ],
     "prompt_number": 14
    },
    {
     "cell_type": "code",
     "collapsed": false,
     "input": [
      "dm0 = [\"Hola, te env\u00edo este DM porque eres seguidor de El Quijote en 17000 tuits. \",\n",
      "\"Dentro de pocos d\u00edas, el 22 de abril de 2016 concretamente, termino de publicar \",\n",
      "\"la serie de 17000 tuits, y quer\u00eda darte las gracias por adoptarme en tu TL. \",\n",
      "\"Sin tu seguimiento y el de otros muchos no s\u00e9 si hubiera seguido hasta el final, \",\n",
      "\"as\u00ed que otra vez: muchas gracias. Te dejo el enlace a la web que centraliza todo \",\n",
      "\"lo que he ido haciendo estos meses: http://quijote17000.es, y quedo a tu disposici\u00f3n \",\n",
      "\"por si me quieres comentar algo, tanto en @elquijote1605 como en mi cuenta personal, @dbuendiab. Un abrazo!\"]\n",
      "\n",
      "print(\"\".join(dm0))"
     ],
     "language": "python",
     "metadata": {},
     "outputs": [
      {
       "output_type": "stream",
       "stream": "stdout",
       "text": [
        "Hola, te env\u00edo este DM porque eres seguidor de El Quijote en 17000 tuits. Dentro de pocos d\u00edas, el 22 de abril de 2016 concretamente, termino de publicar la serie de 17000 tuits, y quer\u00eda darte las gracias por adoptarme en tu TL. Sin tu seguimiento y el de otros muchos no s\u00e9 si hubiera seguido hasta el final, as\u00ed que otra vez: muchas gracias. Te dejo el enlace a la web que centraliza todo lo que he ido haciendo estos meses: http://quijote17000.es, y quedo a tu disposici\u00f3n por si me quieres comentar algo, tanto en @elquijote1605 como en mi cuenta personal, @dbuendiab. Un abrazo!\n"
       ]
      }
     ],
     "prompt_number": 24
    },
    {
     "cell_type": "code",
     "collapsed": false,
     "input": [
      "dm = \"\".join(dm0)"
     ],
     "language": "python",
     "metadata": {},
     "outputs": [],
     "prompt_number": 25
    },
    {
     "cell_type": "code",
     "collapsed": false,
     "input": [
      "api.direct_messages.new(screen_name='dbuendiab', text=dm)"
     ],
     "language": "python",
     "metadata": {},
     "outputs": [
      {
       "metadata": {},
       "output_type": "pyout",
       "prompt_number": 26,
       "text": [
        "{'sender_id': 2765666804,\n",
        " 'recipient': {'time_zone': 'Madrid',\n",
        "  'created_at': 'Tue Dec 01 09:42:17 +0000 2009',\n",
        "  'utc_offset': 7200,\n",
        "  'id': 93826987,\n",
        "  'profile_sidebar_border_color': '000000',\n",
        "  'friends_count': 467,\n",
        "  'profile_text_color': '000000',\n",
        "  'statuses_count': 19472,\n",
        "  'profile_background_image_url': 'http://abs.twimg.com/images/themes/theme14/bg.gif',\n",
        "  'contributors_enabled': False,\n",
        "  'profile_background_image_url_https': 'https://abs.twimg.com/images/themes/theme14/bg.gif',\n",
        "  'listed_count': 27,\n",
        "  'profile_background_tile': False,\n",
        "  'profile_banner_url': 'https://pbs.twimg.com/profile_banners/93826987/1440918900',\n",
        "  'follow_request_sent': False,\n",
        "  'profile_image_url': 'http://pbs.twimg.com/profile_images/637886654632562688/VhnQjmYf_normal.jpg',\n",
        "  'description': 'Saliendo de la nada fui ni\u00f1o, m\u00fasico, ingeniero, programador, padre, desarrollador SQL, prejubilado y vuelvo poco a poco a la nada.',\n",
        "  'following': False,\n",
        "  'profile_sidebar_fill_color': '000000',\n",
        "  'profile_background_color': '000000',\n",
        "  'is_translator': False,\n",
        "  'profile_use_background_image': False,\n",
        "  'followers_count': 613,\n",
        "  'location': 'Barcelona, Spain',\n",
        "  'profile_image_url_https': 'https://pbs.twimg.com/profile_images/637886654632562688/VhnQjmYf_normal.jpg',\n",
        "  'notifications': False,\n",
        "  'default_profile': False,\n",
        "  'verified': False,\n",
        "  'has_extended_profile': False,\n",
        "  'geo_enabled': True,\n",
        "  'is_translation_enabled': False,\n",
        "  'default_profile_image': False,\n",
        "  'url': 'http://t.co/IKyZVgLZzk',\n",
        "  'id_str': '93826987',\n",
        "  'name': 'Diego Buendia',\n",
        "  'lang': 'es',\n",
        "  'profile_link_color': '770033',\n",
        "  'screen_name': 'dbuendiab',\n",
        "  'entities': {'url': {'urls': [{'url': 'http://t.co/IKyZVgLZzk',\n",
        "      'expanded_url': 'http://diegobuendia.wordpress.com',\n",
        "      'indices': [0, 22],\n",
        "      'display_url': 'diegobuendia.wordpress.com'}]},\n",
        "   'description': {'urls': []}},\n",
        "  'protected': False,\n",
        "  'favourites_count': 2352},\n",
        " 'id': 717291603673620483,\n",
        " 'sender': {'time_zone': 'Madrid',\n",
        "  'created_at': 'Mon Aug 25 07:50:57 +0000 2014',\n",
        "  'utc_offset': 7200,\n",
        "  'id': 2765666804,\n",
        "  'profile_sidebar_border_color': 'C0DEED',\n",
        "  'friends_count': 115,\n",
        "  'profile_text_color': '333333',\n",
        "  'statuses_count': 16907,\n",
        "  'profile_background_image_url': 'http://abs.twimg.com/images/themes/theme1/bg.png',\n",
        "  'contributors_enabled': False,\n",
        "  'profile_background_image_url_https': 'https://abs.twimg.com/images/themes/theme1/bg.png',\n",
        "  'listed_count': 96,\n",
        "  'profile_background_tile': False,\n",
        "  'profile_banner_url': 'https://pbs.twimg.com/profile_banners/2765666804/1408984548',\n",
        "  'follow_request_sent': False,\n",
        "  'profile_image_url': 'http://pbs.twimg.com/profile_images/503938002570076160/B1vlwhuJ_normal.jpeg',\n",
        "  'description': 'La tradici\u00f3n de la novela por entregas adaptada a los formatos del presente. Puedes ver los tuits del d\u00eda en https://t.co/SKUD5RajX0',\n",
        "  'following': False,\n",
        "  'profile_sidebar_fill_color': 'DDEEF6',\n",
        "  'profile_background_color': 'C0DEED',\n",
        "  'is_translator': False,\n",
        "  'profile_use_background_image': True,\n",
        "  'followers_count': 7174,\n",
        "  'location': 'Ciudad Real',\n",
        "  'profile_image_url_https': 'https://pbs.twimg.com/profile_images/503938002570076160/B1vlwhuJ_normal.jpeg',\n",
        "  'notifications': False,\n",
        "  'default_profile': True,\n",
        "  'verified': False,\n",
        "  'has_extended_profile': False,\n",
        "  'geo_enabled': False,\n",
        "  'is_translation_enabled': False,\n",
        "  'default_profile_image': False,\n",
        "  'url': 'https://t.co/XTe2ryRtBK',\n",
        "  'id_str': '2765666804',\n",
        "  'name': 'QuijoteEn17000Tuits',\n",
        "  'lang': 'es',\n",
        "  'profile_link_color': '0084B4',\n",
        "  'screen_name': 'elquijote1605',\n",
        "  'entities': {'url': {'urls': [{'url': 'https://t.co/XTe2ryRtBK',\n",
        "      'expanded_url': 'http://quijote17000.es',\n",
        "      'indices': [0, 23],\n",
        "      'display_url': 'quijote17000.es'}]},\n",
        "   'description': {'urls': [{'url': 'https://t.co/SKUD5RajX0',\n",
        "      'expanded_url': 'http://quijote17000.es/quijote.php',\n",
        "      'indices': [109, 132],\n",
        "      'display_url': 'quijote17000.es/quijote.php'}]}},\n",
        "  'protected': False,\n",
        "  'favourites_count': 2617},\n",
        " 'recipient_id': 93826987,\n",
        " 'recipient_screen_name': 'dbuendiab',\n",
        " 'sender_screen_name': 'elquijote1605',\n",
        " 'created_at': 'Tue Apr 05 10:03:39 +0000 2016',\n",
        " 'text': 'Hola, te env\u00edo este DM porque eres seguidor de El Quijote en 17000 tuits. Dentro de pocos d\u00edas, el 22 de abril de 2016 concretamente, termino de publicar la serie de 17000 tuits, y quer\u00eda darte las gracias por adoptarme en tu TL. Sin tu seguimiento y el de otros muchos no s\u00e9 si hubiera seguido hasta el final, as\u00ed que otra vez: muchas gracias. Te dejo el enlace a la web que centraliza todo lo que he ido haciendo estos meses: https://t.co/mzldwejJgQ, y quedo a tu disposici\u00f3n por si me quieres comentar algo, tanto en @elquijote1605 como en mi cuenta personal, @dbuendiab. Un abrazo!',\n",
        " 'id_str': '717291603673620483',\n",
        " 'sender_id_str': '2765666804',\n",
        " 'entities': {'urls': [{'url': 'https://t.co/mzldwejJgQ',\n",
        "    'expanded_url': 'http://quijote17000.es',\n",
        "    'indices': [428, 451],\n",
        "    'display_url': 'quijote17000.es'}],\n",
        "  'hashtags': [],\n",
        "  'user_mentions': [{'screen_name': 'elquijote1605',\n",
        "    'indices': [520, 534],\n",
        "    'id_str': '2765666804',\n",
        "    'id': 2765666804,\n",
        "    'name': 'QuijoteEn17000Tuits'},\n",
        "   {'screen_name': 'dbuendiab',\n",
        "    'indices': [563, 573],\n",
        "    'id_str': '93826987',\n",
        "    'id': 93826987,\n",
        "    'name': 'Diego Buendia'}],\n",
        "  'symbols': []},\n",
        " 'recipient_id_str': '93826987'}"
       ]
      }
     ],
     "prompt_number": 26
    },
    {
     "cell_type": "code",
     "collapsed": false,
     "input": [
      "lista = [f for f in fwcol.find()]"
     ],
     "language": "python",
     "metadata": {},
     "outputs": [],
     "prompt_number": 28
    },
    {
     "cell_type": "code",
     "collapsed": false,
     "input": [
      "len(lista)"
     ],
     "language": "python",
     "metadata": {},
     "outputs": [
      {
       "metadata": {},
       "output_type": "pyout",
       "prompt_number": 29,
       "text": [
        "7165"
       ]
      }
     ],
     "prompt_number": 29
    },
    {
     "cell_type": "code",
     "collapsed": false,
     "input": [
      "lista[0]"
     ],
     "language": "python",
     "metadata": {},
     "outputs": [
      {
       "metadata": {},
       "output_type": "pyout",
       "prompt_number": 30,
       "text": [
        "{'blocked_by': False,\n",
        " 'statuses_count': 246,\n",
        " 'created_at': 'Sat May 16 09:03:26 +0000 2015',\n",
        " '_id': ObjectId('56fd8992d77d5e4450c7dd26'),\n",
        " 'favourites_count': 426,\n",
        " 'rts': {'fechamax': None, 'count': 0, 'fechamin': None},\n",
        " 'url': None,\n",
        " 'followers_count': 613,\n",
        " 'listed_count': 2,\n",
        " 'profile_image_url': 'http://pbs.twimg.com/profile_images/712004956878999552/2OGHLU70_normal.jpg',\n",
        " 'name': 'CERNTESALMOG\u00c1VARE195',\n",
        " 'blocking': False,\n",
        " 'screen_name': 'mimadremaria192',\n",
        " 'description': '',\n",
        " 'entities': {'description': {'urls': []}},\n",
        " 'id_str': '3259926819'}"
       ]
      }
     ],
     "prompt_number": 30
    },
    {
     "cell_type": "code",
     "collapsed": false,
     "input": [
      "from time import sleep, time\n",
      "\n",
      "texto = \"\".join([\"Hola, te env\u00edo este DM porque eres seguidor de El Quijote en 17000 tuits. \",\n",
      "\"Dentro de pocos d\u00edas, el 22 de abril de 2016 concretamente, termino de publicar \",\n",
      "\"la serie de 17000 tuits, y quer\u00eda darte las gracias por adoptarme en tu TL. \",\n",
      "\"Sin tu seguimiento y el de otros muchos no s\u00e9 si hubiera seguido hasta el final, \",\n",
      "\"as\u00ed que otra vez: muchas gracias. Te dejo el enlace a la web que centraliza todo \",\n",
      "\"lo que he ido haciendo estos meses: http://quijote17000.es, y quedo a tu disposici\u00f3n \",\n",
      "\"por si me quieres comentar algo, tanto en @elquijote1605 como en mi cuenta personal, @dbuendiab. Un abrazo!\"])\n",
      "\n",
      "for i, f in enumerate(fwcol.find()):\n",
      "    id_str = f['id_str']\n",
      "    screen_name = f['screen_name']\n",
      "    dm_try = ('dm' in f)\n",
      "    if dm_try:\n",
      "        #print(i, screen_name, 'ya se intent\u00f3, resultado:', f['dm']['ok'])\n",
      "        continue\n",
      "    else:\n",
      "        print(i, screen_name, 'intentando...')\n",
      "    ok = False\n",
      "    razon = ''\n",
      "    try:\n",
      "        resultado = api.direct_messages.new(user_id=id_str, text=texto)\n",
      "        ok = True\n",
      "        razon = ''\n",
      "        \n",
      "    except TwitterHTTPError as e:\n",
      "        ok = False\n",
      "        razon = repr(e)\n",
      "\n",
      "    except Exception as e:\n",
      "        ok = False\n",
      "        razon = repr(e)\n",
      "\n",
      "    print(ok, razon)\n",
      "    resultado = fwcol.update({'id_str': id_str}, {'$set': {'dm.ok': ok, 'dm.razon': razon, 'dm.time': time()}})\n",
      "    print(resultado)\n",
      "\n",
      "    for segundos in range(90):\n",
      "        sleep(1)\n",
      "        print('.', end='')\n",
      "    print()\n",
      "    if i == 1000:\n",
      "        break\n",
      "    "
     ],
     "language": "python",
     "metadata": {},
     "outputs": [
      {
       "output_type": "stream",
       "stream": "stdout",
       "text": [
        "28 rustschuk intentando...\n",
        "True"
       ]
      },
      {
       "output_type": "stream",
       "stream": "stdout",
       "text": [
        " \n",
        "{'ok': 1, 'nModified': 1, 'updatedExisting': True, 'n': 1}\n",
        "."
       ]
      },
      {
       "output_type": "stream",
       "stream": "stdout",
       "text": [
        "."
       ]
      },
      {
       "output_type": "stream",
       "stream": "stdout",
       "text": [
        "."
       ]
      },
      {
       "output_type": "stream",
       "stream": "stdout",
       "text": [
        "."
       ]
      },
      {
       "output_type": "stream",
       "stream": "stdout",
       "text": [
        "."
       ]
      },
      {
       "output_type": "stream",
       "stream": "stdout",
       "text": [
        "."
       ]
      },
      {
       "output_type": "stream",
       "stream": "stdout",
       "text": [
        "."
       ]
      },
      {
       "output_type": "stream",
       "stream": "stdout",
       "text": [
        "."
       ]
      },
      {
       "output_type": "stream",
       "stream": "stdout",
       "text": [
        "."
       ]
      },
      {
       "output_type": "stream",
       "stream": "stdout",
       "text": [
        "."
       ]
      },
      {
       "output_type": "stream",
       "stream": "stdout",
       "text": [
        "."
       ]
      },
      {
       "output_type": "stream",
       "stream": "stdout",
       "text": [
        "."
       ]
      },
      {
       "output_type": "stream",
       "stream": "stdout",
       "text": [
        "."
       ]
      },
      {
       "output_type": "stream",
       "stream": "stdout",
       "text": [
        "."
       ]
      },
      {
       "output_type": "stream",
       "stream": "stdout",
       "text": [
        "."
       ]
      },
      {
       "output_type": "stream",
       "stream": "stdout",
       "text": [
        "."
       ]
      },
      {
       "output_type": "stream",
       "stream": "stdout",
       "text": [
        "."
       ]
      },
      {
       "output_type": "stream",
       "stream": "stdout",
       "text": [
        "."
       ]
      },
      {
       "output_type": "stream",
       "stream": "stdout",
       "text": [
        "."
       ]
      },
      {
       "output_type": "stream",
       "stream": "stdout",
       "text": [
        "."
       ]
      },
      {
       "output_type": "stream",
       "stream": "stdout",
       "text": [
        "."
       ]
      },
      {
       "output_type": "stream",
       "stream": "stdout",
       "text": [
        "."
       ]
      },
      {
       "output_type": "stream",
       "stream": "stdout",
       "text": [
        "."
       ]
      },
      {
       "output_type": "stream",
       "stream": "stdout",
       "text": [
        "."
       ]
      },
      {
       "output_type": "stream",
       "stream": "stdout",
       "text": [
        "."
       ]
      },
      {
       "output_type": "stream",
       "stream": "stdout",
       "text": [
        "."
       ]
      },
      {
       "output_type": "stream",
       "stream": "stdout",
       "text": [
        "."
       ]
      },
      {
       "output_type": "stream",
       "stream": "stdout",
       "text": [
        "."
       ]
      },
      {
       "output_type": "stream",
       "stream": "stdout",
       "text": [
        "."
       ]
      },
      {
       "output_type": "stream",
       "stream": "stdout",
       "text": [
        "."
       ]
      },
      {
       "output_type": "stream",
       "stream": "stdout",
       "text": [
        "."
       ]
      },
      {
       "output_type": "stream",
       "stream": "stdout",
       "text": [
        "."
       ]
      },
      {
       "output_type": "stream",
       "stream": "stdout",
       "text": [
        "."
       ]
      },
      {
       "output_type": "stream",
       "stream": "stdout",
       "text": [
        "."
       ]
      },
      {
       "output_type": "stream",
       "stream": "stdout",
       "text": [
        "."
       ]
      },
      {
       "output_type": "stream",
       "stream": "stdout",
       "text": [
        "."
       ]
      },
      {
       "output_type": "stream",
       "stream": "stdout",
       "text": [
        "."
       ]
      },
      {
       "output_type": "stream",
       "stream": "stdout",
       "text": [
        "."
       ]
      },
      {
       "output_type": "stream",
       "stream": "stdout",
       "text": [
        "."
       ]
      },
      {
       "output_type": "stream",
       "stream": "stdout",
       "text": [
        "."
       ]
      },
      {
       "output_type": "stream",
       "stream": "stdout",
       "text": [
        "."
       ]
      },
      {
       "output_type": "stream",
       "stream": "stdout",
       "text": [
        "."
       ]
      },
      {
       "output_type": "stream",
       "stream": "stdout",
       "text": [
        "."
       ]
      },
      {
       "output_type": "stream",
       "stream": "stdout",
       "text": [
        "."
       ]
      },
      {
       "output_type": "stream",
       "stream": "stdout",
       "text": [
        "."
       ]
      },
      {
       "output_type": "stream",
       "stream": "stdout",
       "text": [
        "."
       ]
      },
      {
       "output_type": "stream",
       "stream": "stdout",
       "text": [
        "."
       ]
      },
      {
       "output_type": "stream",
       "stream": "stdout",
       "text": [
        "."
       ]
      },
      {
       "output_type": "stream",
       "stream": "stdout",
       "text": [
        "."
       ]
      },
      {
       "output_type": "stream",
       "stream": "stdout",
       "text": [
        "."
       ]
      },
      {
       "output_type": "stream",
       "stream": "stdout",
       "text": [
        "."
       ]
      },
      {
       "output_type": "stream",
       "stream": "stdout",
       "text": [
        "."
       ]
      },
      {
       "output_type": "stream",
       "stream": "stdout",
       "text": [
        "."
       ]
      },
      {
       "output_type": "stream",
       "stream": "stdout",
       "text": [
        "."
       ]
      },
      {
       "output_type": "stream",
       "stream": "stdout",
       "text": [
        "."
       ]
      },
      {
       "output_type": "stream",
       "stream": "stdout",
       "text": [
        "."
       ]
      },
      {
       "output_type": "stream",
       "stream": "stdout",
       "text": [
        "."
       ]
      },
      {
       "output_type": "stream",
       "stream": "stdout",
       "text": [
        "."
       ]
      },
      {
       "output_type": "stream",
       "stream": "stdout",
       "text": [
        "."
       ]
      },
      {
       "output_type": "stream",
       "stream": "stdout",
       "text": [
        "."
       ]
      },
      {
       "output_type": "stream",
       "stream": "stdout",
       "text": [
        "."
       ]
      },
      {
       "output_type": "stream",
       "stream": "stdout",
       "text": [
        "."
       ]
      },
      {
       "output_type": "stream",
       "stream": "stdout",
       "text": [
        "."
       ]
      },
      {
       "output_type": "stream",
       "stream": "stdout",
       "text": [
        "."
       ]
      },
      {
       "output_type": "stream",
       "stream": "stdout",
       "text": [
        "."
       ]
      },
      {
       "output_type": "stream",
       "stream": "stdout",
       "text": [
        "."
       ]
      },
      {
       "output_type": "stream",
       "stream": "stdout",
       "text": [
        "."
       ]
      },
      {
       "output_type": "stream",
       "stream": "stdout",
       "text": [
        "."
       ]
      },
      {
       "output_type": "stream",
       "stream": "stdout",
       "text": [
        "."
       ]
      },
      {
       "output_type": "stream",
       "stream": "stdout",
       "text": [
        "."
       ]
      },
      {
       "output_type": "stream",
       "stream": "stdout",
       "text": [
        "."
       ]
      },
      {
       "output_type": "stream",
       "stream": "stdout",
       "text": [
        "."
       ]
      },
      {
       "output_type": "stream",
       "stream": "stdout",
       "text": [
        "."
       ]
      },
      {
       "output_type": "stream",
       "stream": "stdout",
       "text": [
        "."
       ]
      },
      {
       "output_type": "stream",
       "stream": "stdout",
       "text": [
        "."
       ]
      },
      {
       "output_type": "stream",
       "stream": "stdout",
       "text": [
        "."
       ]
      },
      {
       "output_type": "stream",
       "stream": "stdout",
       "text": [
        "."
       ]
      },
      {
       "output_type": "stream",
       "stream": "stdout",
       "text": [
        "."
       ]
      },
      {
       "output_type": "stream",
       "stream": "stdout",
       "text": [
        "."
       ]
      },
      {
       "output_type": "stream",
       "stream": "stdout",
       "text": [
        "."
       ]
      },
      {
       "output_type": "stream",
       "stream": "stdout",
       "text": [
        "."
       ]
      },
      {
       "output_type": "stream",
       "stream": "stdout",
       "text": [
        "."
       ]
      },
      {
       "output_type": "stream",
       "stream": "stdout",
       "text": [
        "."
       ]
      },
      {
       "output_type": "stream",
       "stream": "stdout",
       "text": [
        "."
       ]
      },
      {
       "output_type": "stream",
       "stream": "stdout",
       "text": [
        "."
       ]
      },
      {
       "output_type": "stream",
       "stream": "stdout",
       "text": [
        "."
       ]
      },
      {
       "output_type": "stream",
       "stream": "stdout",
       "text": [
        "."
       ]
      },
      {
       "output_type": "stream",
       "stream": "stdout",
       "text": [
        "."
       ]
      },
      {
       "output_type": "stream",
       "stream": "stdout",
       "text": [
        "."
       ]
      },
      {
       "output_type": "stream",
       "stream": "stdout",
       "text": [
        "."
       ]
      },
      {
       "output_type": "stream",
       "stream": "stdout",
       "text": [
        "\n",
        "29 celia_lvarez_mo intentando...\n",
        "True"
       ]
      },
      {
       "output_type": "stream",
       "stream": "stdout",
       "text": [
        " \n",
        "{'ok': 1, 'nModified': 1, 'updatedExisting': True, 'n': 1}\n",
        "."
       ]
      },
      {
       "output_type": "stream",
       "stream": "stdout",
       "text": [
        "."
       ]
      },
      {
       "output_type": "stream",
       "stream": "stdout",
       "text": [
        "."
       ]
      },
      {
       "output_type": "stream",
       "stream": "stdout",
       "text": [
        "."
       ]
      },
      {
       "output_type": "stream",
       "stream": "stdout",
       "text": [
        "."
       ]
      },
      {
       "output_type": "stream",
       "stream": "stdout",
       "text": [
        "."
       ]
      },
      {
       "output_type": "stream",
       "stream": "stdout",
       "text": [
        "."
       ]
      },
      {
       "output_type": "stream",
       "stream": "stdout",
       "text": [
        "."
       ]
      },
      {
       "output_type": "stream",
       "stream": "stdout",
       "text": [
        "."
       ]
      },
      {
       "output_type": "stream",
       "stream": "stdout",
       "text": [
        "."
       ]
      },
      {
       "output_type": "stream",
       "stream": "stdout",
       "text": [
        "."
       ]
      },
      {
       "output_type": "stream",
       "stream": "stdout",
       "text": [
        "."
       ]
      },
      {
       "output_type": "stream",
       "stream": "stdout",
       "text": [
        "."
       ]
      },
      {
       "output_type": "stream",
       "stream": "stdout",
       "text": [
        "."
       ]
      },
      {
       "output_type": "stream",
       "stream": "stdout",
       "text": [
        "."
       ]
      },
      {
       "output_type": "stream",
       "stream": "stdout",
       "text": [
        "."
       ]
      },
      {
       "output_type": "stream",
       "stream": "stdout",
       "text": [
        "."
       ]
      },
      {
       "output_type": "stream",
       "stream": "stdout",
       "text": [
        "."
       ]
      },
      {
       "output_type": "stream",
       "stream": "stdout",
       "text": [
        "."
       ]
      },
      {
       "output_type": "stream",
       "stream": "stdout",
       "text": [
        "."
       ]
      },
      {
       "output_type": "stream",
       "stream": "stdout",
       "text": [
        "."
       ]
      },
      {
       "output_type": "stream",
       "stream": "stdout",
       "text": [
        "."
       ]
      },
      {
       "output_type": "stream",
       "stream": "stdout",
       "text": [
        "."
       ]
      },
      {
       "output_type": "stream",
       "stream": "stdout",
       "text": [
        "."
       ]
      },
      {
       "output_type": "stream",
       "stream": "stdout",
       "text": [
        "."
       ]
      },
      {
       "output_type": "stream",
       "stream": "stdout",
       "text": [
        "."
       ]
      },
      {
       "output_type": "stream",
       "stream": "stdout",
       "text": [
        "."
       ]
      },
      {
       "output_type": "stream",
       "stream": "stdout",
       "text": [
        "."
       ]
      },
      {
       "output_type": "stream",
       "stream": "stdout",
       "text": [
        "."
       ]
      },
      {
       "output_type": "stream",
       "stream": "stdout",
       "text": [
        "."
       ]
      },
      {
       "output_type": "stream",
       "stream": "stdout",
       "text": [
        "."
       ]
      },
      {
       "output_type": "stream",
       "stream": "stdout",
       "text": [
        "."
       ]
      },
      {
       "output_type": "stream",
       "stream": "stdout",
       "text": [
        "."
       ]
      },
      {
       "output_type": "stream",
       "stream": "stdout",
       "text": [
        "."
       ]
      },
      {
       "output_type": "stream",
       "stream": "stdout",
       "text": [
        "."
       ]
      },
      {
       "output_type": "stream",
       "stream": "stdout",
       "text": [
        "."
       ]
      },
      {
       "output_type": "stream",
       "stream": "stdout",
       "text": [
        "."
       ]
      },
      {
       "output_type": "stream",
       "stream": "stdout",
       "text": [
        "."
       ]
      },
      {
       "output_type": "stream",
       "stream": "stdout",
       "text": [
        "."
       ]
      },
      {
       "output_type": "stream",
       "stream": "stdout",
       "text": [
        "."
       ]
      },
      {
       "output_type": "stream",
       "stream": "stdout",
       "text": [
        "."
       ]
      },
      {
       "output_type": "stream",
       "stream": "stdout",
       "text": [
        "."
       ]
      },
      {
       "output_type": "stream",
       "stream": "stdout",
       "text": [
        "."
       ]
      },
      {
       "output_type": "stream",
       "stream": "stdout",
       "text": [
        "."
       ]
      },
      {
       "output_type": "stream",
       "stream": "stdout",
       "text": [
        "."
       ]
      },
      {
       "output_type": "stream",
       "stream": "stdout",
       "text": [
        "."
       ]
      },
      {
       "output_type": "stream",
       "stream": "stdout",
       "text": [
        "."
       ]
      },
      {
       "output_type": "stream",
       "stream": "stdout",
       "text": [
        "."
       ]
      },
      {
       "output_type": "stream",
       "stream": "stdout",
       "text": [
        "."
       ]
      },
      {
       "output_type": "stream",
       "stream": "stdout",
       "text": [
        "."
       ]
      },
      {
       "output_type": "stream",
       "stream": "stdout",
       "text": [
        "."
       ]
      },
      {
       "output_type": "stream",
       "stream": "stdout",
       "text": [
        "."
       ]
      },
      {
       "output_type": "stream",
       "stream": "stdout",
       "text": [
        "."
       ]
      },
      {
       "output_type": "stream",
       "stream": "stdout",
       "text": [
        "."
       ]
      },
      {
       "output_type": "stream",
       "stream": "stdout",
       "text": [
        "."
       ]
      },
      {
       "output_type": "stream",
       "stream": "stdout",
       "text": [
        "."
       ]
      },
      {
       "output_type": "stream",
       "stream": "stdout",
       "text": [
        "."
       ]
      },
      {
       "output_type": "stream",
       "stream": "stdout",
       "text": [
        "."
       ]
      },
      {
       "output_type": "stream",
       "stream": "stdout",
       "text": [
        "."
       ]
      },
      {
       "output_type": "stream",
       "stream": "stdout",
       "text": [
        "."
       ]
      },
      {
       "output_type": "stream",
       "stream": "stdout",
       "text": [
        "."
       ]
      },
      {
       "output_type": "stream",
       "stream": "stdout",
       "text": [
        "."
       ]
      },
      {
       "output_type": "stream",
       "stream": "stdout",
       "text": [
        "."
       ]
      },
      {
       "output_type": "stream",
       "stream": "stdout",
       "text": [
        "."
       ]
      },
      {
       "output_type": "stream",
       "stream": "stdout",
       "text": [
        "."
       ]
      },
      {
       "output_type": "stream",
       "stream": "stdout",
       "text": [
        "."
       ]
      },
      {
       "output_type": "stream",
       "stream": "stdout",
       "text": [
        "."
       ]
      },
      {
       "output_type": "stream",
       "stream": "stdout",
       "text": [
        "."
       ]
      },
      {
       "output_type": "stream",
       "stream": "stdout",
       "text": [
        "."
       ]
      },
      {
       "output_type": "stream",
       "stream": "stdout",
       "text": [
        "."
       ]
      },
      {
       "output_type": "stream",
       "stream": "stdout",
       "text": [
        "."
       ]
      },
      {
       "output_type": "stream",
       "stream": "stdout",
       "text": [
        "."
       ]
      },
      {
       "output_type": "stream",
       "stream": "stdout",
       "text": [
        "."
       ]
      },
      {
       "output_type": "stream",
       "stream": "stdout",
       "text": [
        "."
       ]
      },
      {
       "output_type": "stream",
       "stream": "stdout",
       "text": [
        "."
       ]
      },
      {
       "output_type": "stream",
       "stream": "stdout",
       "text": [
        "."
       ]
      },
      {
       "output_type": "stream",
       "stream": "stdout",
       "text": [
        "."
       ]
      },
      {
       "output_type": "stream",
       "stream": "stdout",
       "text": [
        "."
       ]
      },
      {
       "output_type": "stream",
       "stream": "stdout",
       "text": [
        "."
       ]
      },
      {
       "output_type": "stream",
       "stream": "stdout",
       "text": [
        "."
       ]
      },
      {
       "output_type": "stream",
       "stream": "stdout",
       "text": [
        "."
       ]
      },
      {
       "output_type": "stream",
       "stream": "stdout",
       "text": [
        "."
       ]
      },
      {
       "output_type": "stream",
       "stream": "stdout",
       "text": [
        "."
       ]
      },
      {
       "output_type": "stream",
       "stream": "stdout",
       "text": [
        "."
       ]
      },
      {
       "output_type": "stream",
       "stream": "stdout",
       "text": [
        "."
       ]
      },
      {
       "output_type": "stream",
       "stream": "stdout",
       "text": [
        "."
       ]
      },
      {
       "output_type": "stream",
       "stream": "stdout",
       "text": [
        "."
       ]
      },
      {
       "output_type": "stream",
       "stream": "stdout",
       "text": [
        "."
       ]
      },
      {
       "output_type": "stream",
       "stream": "stdout",
       "text": [
        "."
       ]
      },
      {
       "output_type": "stream",
       "stream": "stdout",
       "text": [
        "."
       ]
      },
      {
       "output_type": "stream",
       "stream": "stdout",
       "text": [
        "\n",
        "30 blackgueslibros intentando...\n",
        "True"
       ]
      },
      {
       "output_type": "stream",
       "stream": "stdout",
       "text": [
        " \n",
        "{'ok': 1, 'nModified': 1, 'updatedExisting': True, 'n': 1}\n",
        "."
       ]
      },
      {
       "output_type": "stream",
       "stream": "stdout",
       "text": [
        "."
       ]
      },
      {
       "output_type": "stream",
       "stream": "stdout",
       "text": [
        "."
       ]
      },
      {
       "output_type": "stream",
       "stream": "stdout",
       "text": [
        "."
       ]
      },
      {
       "output_type": "stream",
       "stream": "stdout",
       "text": [
        "."
       ]
      },
      {
       "output_type": "stream",
       "stream": "stdout",
       "text": [
        "."
       ]
      },
      {
       "output_type": "stream",
       "stream": "stdout",
       "text": [
        "."
       ]
      },
      {
       "output_type": "stream",
       "stream": "stdout",
       "text": [
        "."
       ]
      },
      {
       "output_type": "stream",
       "stream": "stdout",
       "text": [
        "."
       ]
      },
      {
       "output_type": "stream",
       "stream": "stdout",
       "text": [
        "."
       ]
      },
      {
       "output_type": "stream",
       "stream": "stdout",
       "text": [
        "."
       ]
      },
      {
       "output_type": "stream",
       "stream": "stdout",
       "text": [
        "."
       ]
      },
      {
       "output_type": "stream",
       "stream": "stdout",
       "text": [
        "."
       ]
      },
      {
       "output_type": "stream",
       "stream": "stdout",
       "text": [
        "."
       ]
      },
      {
       "output_type": "stream",
       "stream": "stdout",
       "text": [
        "."
       ]
      },
      {
       "output_type": "stream",
       "stream": "stdout",
       "text": [
        "."
       ]
      },
      {
       "output_type": "stream",
       "stream": "stdout",
       "text": [
        "."
       ]
      },
      {
       "output_type": "stream",
       "stream": "stdout",
       "text": [
        "."
       ]
      },
      {
       "output_type": "stream",
       "stream": "stdout",
       "text": [
        "."
       ]
      },
      {
       "output_type": "stream",
       "stream": "stdout",
       "text": [
        "."
       ]
      },
      {
       "output_type": "stream",
       "stream": "stdout",
       "text": [
        "."
       ]
      },
      {
       "output_type": "stream",
       "stream": "stdout",
       "text": [
        "."
       ]
      },
      {
       "output_type": "stream",
       "stream": "stdout",
       "text": [
        "."
       ]
      },
      {
       "output_type": "stream",
       "stream": "stdout",
       "text": [
        "."
       ]
      },
      {
       "output_type": "stream",
       "stream": "stdout",
       "text": [
        "."
       ]
      },
      {
       "output_type": "stream",
       "stream": "stdout",
       "text": [
        "."
       ]
      },
      {
       "output_type": "stream",
       "stream": "stdout",
       "text": [
        "."
       ]
      },
      {
       "output_type": "stream",
       "stream": "stdout",
       "text": [
        "."
       ]
      },
      {
       "output_type": "stream",
       "stream": "stdout",
       "text": [
        "."
       ]
      },
      {
       "output_type": "stream",
       "stream": "stdout",
       "text": [
        "."
       ]
      },
      {
       "output_type": "stream",
       "stream": "stdout",
       "text": [
        "."
       ]
      },
      {
       "output_type": "stream",
       "stream": "stdout",
       "text": [
        "."
       ]
      },
      {
       "output_type": "stream",
       "stream": "stdout",
       "text": [
        "."
       ]
      },
      {
       "output_type": "stream",
       "stream": "stdout",
       "text": [
        "."
       ]
      },
      {
       "output_type": "stream",
       "stream": "stdout",
       "text": [
        "."
       ]
      },
      {
       "output_type": "stream",
       "stream": "stdout",
       "text": [
        "."
       ]
      },
      {
       "output_type": "stream",
       "stream": "stdout",
       "text": [
        "."
       ]
      },
      {
       "output_type": "stream",
       "stream": "stdout",
       "text": [
        "."
       ]
      },
      {
       "output_type": "stream",
       "stream": "stdout",
       "text": [
        "."
       ]
      },
      {
       "output_type": "stream",
       "stream": "stdout",
       "text": [
        "."
       ]
      },
      {
       "output_type": "stream",
       "stream": "stdout",
       "text": [
        "."
       ]
      },
      {
       "output_type": "stream",
       "stream": "stdout",
       "text": [
        "."
       ]
      },
      {
       "output_type": "stream",
       "stream": "stdout",
       "text": [
        "."
       ]
      },
      {
       "output_type": "stream",
       "stream": "stdout",
       "text": [
        "."
       ]
      },
      {
       "output_type": "stream",
       "stream": "stdout",
       "text": [
        "."
       ]
      },
      {
       "output_type": "stream",
       "stream": "stdout",
       "text": [
        "."
       ]
      },
      {
       "output_type": "stream",
       "stream": "stdout",
       "text": [
        "."
       ]
      },
      {
       "output_type": "stream",
       "stream": "stdout",
       "text": [
        "."
       ]
      },
      {
       "output_type": "stream",
       "stream": "stdout",
       "text": [
        "."
       ]
      },
      {
       "output_type": "stream",
       "stream": "stdout",
       "text": [
        "."
       ]
      },
      {
       "output_type": "stream",
       "stream": "stdout",
       "text": [
        "."
       ]
      },
      {
       "output_type": "stream",
       "stream": "stdout",
       "text": [
        "."
       ]
      },
      {
       "output_type": "stream",
       "stream": "stdout",
       "text": [
        "."
       ]
      },
      {
       "output_type": "stream",
       "stream": "stdout",
       "text": [
        "."
       ]
      },
      {
       "output_type": "stream",
       "stream": "stdout",
       "text": [
        "."
       ]
      },
      {
       "output_type": "stream",
       "stream": "stdout",
       "text": [
        "."
       ]
      },
      {
       "output_type": "stream",
       "stream": "stdout",
       "text": [
        "."
       ]
      },
      {
       "output_type": "stream",
       "stream": "stdout",
       "text": [
        "."
       ]
      },
      {
       "output_type": "stream",
       "stream": "stdout",
       "text": [
        "."
       ]
      },
      {
       "output_type": "stream",
       "stream": "stdout",
       "text": [
        "."
       ]
      },
      {
       "output_type": "stream",
       "stream": "stdout",
       "text": [
        "."
       ]
      },
      {
       "output_type": "stream",
       "stream": "stdout",
       "text": [
        "."
       ]
      },
      {
       "output_type": "stream",
       "stream": "stdout",
       "text": [
        "."
       ]
      },
      {
       "output_type": "stream",
       "stream": "stdout",
       "text": [
        "."
       ]
      },
      {
       "output_type": "stream",
       "stream": "stdout",
       "text": [
        "."
       ]
      },
      {
       "output_type": "stream",
       "stream": "stdout",
       "text": [
        "."
       ]
      },
      {
       "output_type": "stream",
       "stream": "stdout",
       "text": [
        "."
       ]
      },
      {
       "output_type": "stream",
       "stream": "stdout",
       "text": [
        "."
       ]
      },
      {
       "output_type": "stream",
       "stream": "stdout",
       "text": [
        "."
       ]
      },
      {
       "output_type": "stream",
       "stream": "stdout",
       "text": [
        "."
       ]
      },
      {
       "output_type": "stream",
       "stream": "stdout",
       "text": [
        "."
       ]
      },
      {
       "output_type": "stream",
       "stream": "stdout",
       "text": [
        "."
       ]
      },
      {
       "output_type": "stream",
       "stream": "stdout",
       "text": [
        "."
       ]
      },
      {
       "output_type": "stream",
       "stream": "stdout",
       "text": [
        "."
       ]
      },
      {
       "output_type": "stream",
       "stream": "stdout",
       "text": [
        "."
       ]
      },
      {
       "output_type": "stream",
       "stream": "stdout",
       "text": [
        "."
       ]
      },
      {
       "output_type": "stream",
       "stream": "stdout",
       "text": [
        "."
       ]
      },
      {
       "output_type": "stream",
       "stream": "stdout",
       "text": [
        "."
       ]
      },
      {
       "output_type": "stream",
       "stream": "stdout",
       "text": [
        "."
       ]
      },
      {
       "output_type": "stream",
       "stream": "stdout",
       "text": [
        "."
       ]
      },
      {
       "output_type": "stream",
       "stream": "stdout",
       "text": [
        "."
       ]
      },
      {
       "output_type": "stream",
       "stream": "stdout",
       "text": [
        "."
       ]
      },
      {
       "output_type": "stream",
       "stream": "stdout",
       "text": [
        "."
       ]
      },
      {
       "output_type": "stream",
       "stream": "stdout",
       "text": [
        "."
       ]
      },
      {
       "output_type": "stream",
       "stream": "stdout",
       "text": [
        "."
       ]
      },
      {
       "output_type": "stream",
       "stream": "stdout",
       "text": [
        "."
       ]
      },
      {
       "output_type": "stream",
       "stream": "stdout",
       "text": [
        "."
       ]
      },
      {
       "output_type": "stream",
       "stream": "stdout",
       "text": [
        "."
       ]
      },
      {
       "output_type": "stream",
       "stream": "stdout",
       "text": [
        "."
       ]
      },
      {
       "output_type": "stream",
       "stream": "stdout",
       "text": [
        "."
       ]
      },
      {
       "output_type": "stream",
       "stream": "stdout",
       "text": [
        "\n",
        "31 maisonetangel intentando...\n",
        "True"
       ]
      },
      {
       "output_type": "stream",
       "stream": "stdout",
       "text": [
        " \n",
        "{'ok': 1, 'nModified': 1, 'updatedExisting': True, 'n': 1}\n",
        "."
       ]
      },
      {
       "output_type": "stream",
       "stream": "stdout",
       "text": [
        "."
       ]
      },
      {
       "output_type": "stream",
       "stream": "stdout",
       "text": [
        "."
       ]
      },
      {
       "output_type": "stream",
       "stream": "stdout",
       "text": [
        "."
       ]
      },
      {
       "output_type": "stream",
       "stream": "stdout",
       "text": [
        "."
       ]
      },
      {
       "output_type": "stream",
       "stream": "stdout",
       "text": [
        "."
       ]
      },
      {
       "output_type": "stream",
       "stream": "stdout",
       "text": [
        "."
       ]
      },
      {
       "output_type": "stream",
       "stream": "stdout",
       "text": [
        "."
       ]
      },
      {
       "output_type": "stream",
       "stream": "stdout",
       "text": [
        "."
       ]
      },
      {
       "output_type": "stream",
       "stream": "stdout",
       "text": [
        "."
       ]
      },
      {
       "output_type": "stream",
       "stream": "stdout",
       "text": [
        "."
       ]
      },
      {
       "output_type": "stream",
       "stream": "stdout",
       "text": [
        "."
       ]
      },
      {
       "output_type": "stream",
       "stream": "stdout",
       "text": [
        "."
       ]
      },
      {
       "output_type": "stream",
       "stream": "stdout",
       "text": [
        "."
       ]
      },
      {
       "output_type": "stream",
       "stream": "stdout",
       "text": [
        "."
       ]
      },
      {
       "output_type": "stream",
       "stream": "stdout",
       "text": [
        "."
       ]
      },
      {
       "output_type": "stream",
       "stream": "stdout",
       "text": [
        "."
       ]
      },
      {
       "output_type": "stream",
       "stream": "stdout",
       "text": [
        "."
       ]
      },
      {
       "output_type": "stream",
       "stream": "stdout",
       "text": [
        "."
       ]
      },
      {
       "output_type": "stream",
       "stream": "stdout",
       "text": [
        "."
       ]
      },
      {
       "output_type": "stream",
       "stream": "stdout",
       "text": [
        "."
       ]
      },
      {
       "output_type": "stream",
       "stream": "stdout",
       "text": [
        "."
       ]
      },
      {
       "output_type": "stream",
       "stream": "stdout",
       "text": [
        "."
       ]
      },
      {
       "output_type": "stream",
       "stream": "stdout",
       "text": [
        "."
       ]
      },
      {
       "output_type": "stream",
       "stream": "stdout",
       "text": [
        "."
       ]
      },
      {
       "output_type": "stream",
       "stream": "stdout",
       "text": [
        "."
       ]
      },
      {
       "output_type": "stream",
       "stream": "stdout",
       "text": [
        "."
       ]
      },
      {
       "output_type": "stream",
       "stream": "stdout",
       "text": [
        "."
       ]
      },
      {
       "output_type": "stream",
       "stream": "stdout",
       "text": [
        "."
       ]
      },
      {
       "output_type": "stream",
       "stream": "stdout",
       "text": [
        "."
       ]
      },
      {
       "output_type": "stream",
       "stream": "stdout",
       "text": [
        "."
       ]
      },
      {
       "output_type": "stream",
       "stream": "stdout",
       "text": [
        "."
       ]
      },
      {
       "output_type": "stream",
       "stream": "stdout",
       "text": [
        "."
       ]
      },
      {
       "output_type": "stream",
       "stream": "stdout",
       "text": [
        "."
       ]
      },
      {
       "output_type": "stream",
       "stream": "stdout",
       "text": [
        "."
       ]
      },
      {
       "output_type": "stream",
       "stream": "stdout",
       "text": [
        "."
       ]
      },
      {
       "output_type": "stream",
       "stream": "stdout",
       "text": [
        "."
       ]
      },
      {
       "output_type": "stream",
       "stream": "stdout",
       "text": [
        "."
       ]
      },
      {
       "output_type": "stream",
       "stream": "stdout",
       "text": [
        "."
       ]
      },
      {
       "output_type": "stream",
       "stream": "stdout",
       "text": [
        "."
       ]
      },
      {
       "output_type": "stream",
       "stream": "stdout",
       "text": [
        "."
       ]
      },
      {
       "output_type": "stream",
       "stream": "stdout",
       "text": [
        "."
       ]
      },
      {
       "output_type": "stream",
       "stream": "stdout",
       "text": [
        "."
       ]
      },
      {
       "output_type": "stream",
       "stream": "stdout",
       "text": [
        "."
       ]
      },
      {
       "output_type": "stream",
       "stream": "stdout",
       "text": [
        "."
       ]
      },
      {
       "output_type": "stream",
       "stream": "stdout",
       "text": [
        "."
       ]
      },
      {
       "output_type": "stream",
       "stream": "stdout",
       "text": [
        "."
       ]
      },
      {
       "output_type": "stream",
       "stream": "stdout",
       "text": [
        "."
       ]
      },
      {
       "output_type": "stream",
       "stream": "stdout",
       "text": [
        "."
       ]
      },
      {
       "output_type": "stream",
       "stream": "stdout",
       "text": [
        "."
       ]
      },
      {
       "output_type": "stream",
       "stream": "stdout",
       "text": [
        "."
       ]
      },
      {
       "output_type": "stream",
       "stream": "stdout",
       "text": [
        "."
       ]
      },
      {
       "output_type": "stream",
       "stream": "stdout",
       "text": [
        "."
       ]
      },
      {
       "output_type": "stream",
       "stream": "stdout",
       "text": [
        "."
       ]
      },
      {
       "output_type": "stream",
       "stream": "stdout",
       "text": [
        "."
       ]
      },
      {
       "output_type": "stream",
       "stream": "stdout",
       "text": [
        "."
       ]
      },
      {
       "output_type": "stream",
       "stream": "stdout",
       "text": [
        "."
       ]
      },
      {
       "output_type": "stream",
       "stream": "stdout",
       "text": [
        "."
       ]
      },
      {
       "output_type": "stream",
       "stream": "stdout",
       "text": [
        "."
       ]
      },
      {
       "output_type": "stream",
       "stream": "stdout",
       "text": [
        "."
       ]
      },
      {
       "output_type": "stream",
       "stream": "stdout",
       "text": [
        "."
       ]
      },
      {
       "output_type": "stream",
       "stream": "stdout",
       "text": [
        "."
       ]
      },
      {
       "output_type": "stream",
       "stream": "stdout",
       "text": [
        "."
       ]
      },
      {
       "output_type": "stream",
       "stream": "stdout",
       "text": [
        "."
       ]
      },
      {
       "output_type": "stream",
       "stream": "stdout",
       "text": [
        "."
       ]
      },
      {
       "output_type": "stream",
       "stream": "stdout",
       "text": [
        "."
       ]
      },
      {
       "output_type": "stream",
       "stream": "stdout",
       "text": [
        "."
       ]
      },
      {
       "output_type": "stream",
       "stream": "stdout",
       "text": [
        "."
       ]
      },
      {
       "output_type": "stream",
       "stream": "stdout",
       "text": [
        "."
       ]
      },
      {
       "output_type": "stream",
       "stream": "stdout",
       "text": [
        "."
       ]
      },
      {
       "output_type": "stream",
       "stream": "stdout",
       "text": [
        "."
       ]
      },
      {
       "output_type": "stream",
       "stream": "stdout",
       "text": [
        "."
       ]
      },
      {
       "output_type": "stream",
       "stream": "stdout",
       "text": [
        "."
       ]
      },
      {
       "output_type": "stream",
       "stream": "stdout",
       "text": [
        "."
       ]
      },
      {
       "output_type": "stream",
       "stream": "stdout",
       "text": [
        "."
       ]
      },
      {
       "output_type": "stream",
       "stream": "stdout",
       "text": [
        "."
       ]
      },
      {
       "output_type": "stream",
       "stream": "stdout",
       "text": [
        "."
       ]
      },
      {
       "output_type": "stream",
       "stream": "stdout",
       "text": [
        "."
       ]
      },
      {
       "output_type": "stream",
       "stream": "stdout",
       "text": [
        "."
       ]
      },
      {
       "output_type": "stream",
       "stream": "stdout",
       "text": [
        "."
       ]
      },
      {
       "output_type": "stream",
       "stream": "stdout",
       "text": [
        "."
       ]
      },
      {
       "output_type": "stream",
       "stream": "stdout",
       "text": [
        "."
       ]
      },
      {
       "output_type": "stream",
       "stream": "stdout",
       "text": [
        "."
       ]
      },
      {
       "output_type": "stream",
       "stream": "stdout",
       "text": [
        "."
       ]
      },
      {
       "output_type": "stream",
       "stream": "stdout",
       "text": [
        "."
       ]
      },
      {
       "output_type": "stream",
       "stream": "stdout",
       "text": [
        "."
       ]
      },
      {
       "output_type": "stream",
       "stream": "stdout",
       "text": [
        "."
       ]
      },
      {
       "output_type": "stream",
       "stream": "stdout",
       "text": [
        "."
       ]
      },
      {
       "output_type": "stream",
       "stream": "stdout",
       "text": [
        "."
       ]
      },
      {
       "output_type": "stream",
       "stream": "stdout",
       "text": [
        "."
       ]
      },
      {
       "output_type": "stream",
       "stream": "stdout",
       "text": [
        "\n",
        "32 Cervantes_IVC intentando...\n",
        "True"
       ]
      },
      {
       "output_type": "stream",
       "stream": "stdout",
       "text": [
        " \n",
        "{'ok': 1, 'nModified': 1, 'updatedExisting': True, 'n': 1}\n",
        "."
       ]
      },
      {
       "output_type": "stream",
       "stream": "stdout",
       "text": [
        "."
       ]
      },
      {
       "output_type": "stream",
       "stream": "stdout",
       "text": [
        "."
       ]
      },
      {
       "output_type": "stream",
       "stream": "stdout",
       "text": [
        "."
       ]
      },
      {
       "output_type": "stream",
       "stream": "stdout",
       "text": [
        "."
       ]
      },
      {
       "output_type": "stream",
       "stream": "stdout",
       "text": [
        "."
       ]
      },
      {
       "output_type": "stream",
       "stream": "stdout",
       "text": [
        "."
       ]
      },
      {
       "output_type": "stream",
       "stream": "stdout",
       "text": [
        "."
       ]
      },
      {
       "output_type": "stream",
       "stream": "stdout",
       "text": [
        "."
       ]
      },
      {
       "output_type": "stream",
       "stream": "stdout",
       "text": [
        "."
       ]
      },
      {
       "output_type": "stream",
       "stream": "stdout",
       "text": [
        "."
       ]
      },
      {
       "output_type": "stream",
       "stream": "stdout",
       "text": [
        "."
       ]
      },
      {
       "output_type": "stream",
       "stream": "stdout",
       "text": [
        "."
       ]
      },
      {
       "output_type": "stream",
       "stream": "stdout",
       "text": [
        "."
       ]
      },
      {
       "output_type": "stream",
       "stream": "stdout",
       "text": [
        "."
       ]
      },
      {
       "output_type": "stream",
       "stream": "stdout",
       "text": [
        "."
       ]
      },
      {
       "output_type": "stream",
       "stream": "stdout",
       "text": [
        "."
       ]
      },
      {
       "output_type": "stream",
       "stream": "stdout",
       "text": [
        "."
       ]
      },
      {
       "output_type": "stream",
       "stream": "stdout",
       "text": [
        "."
       ]
      },
      {
       "output_type": "stream",
       "stream": "stdout",
       "text": [
        "."
       ]
      },
      {
       "output_type": "stream",
       "stream": "stdout",
       "text": [
        "."
       ]
      },
      {
       "output_type": "stream",
       "stream": "stdout",
       "text": [
        "."
       ]
      },
      {
       "output_type": "stream",
       "stream": "stdout",
       "text": [
        "."
       ]
      },
      {
       "output_type": "stream",
       "stream": "stdout",
       "text": [
        "."
       ]
      },
      {
       "output_type": "stream",
       "stream": "stdout",
       "text": [
        "."
       ]
      },
      {
       "output_type": "stream",
       "stream": "stdout",
       "text": [
        "."
       ]
      },
      {
       "output_type": "stream",
       "stream": "stdout",
       "text": [
        "."
       ]
      },
      {
       "output_type": "stream",
       "stream": "stdout",
       "text": [
        "."
       ]
      },
      {
       "output_type": "stream",
       "stream": "stdout",
       "text": [
        "."
       ]
      },
      {
       "output_type": "stream",
       "stream": "stdout",
       "text": [
        "."
       ]
      },
      {
       "output_type": "stream",
       "stream": "stdout",
       "text": [
        "."
       ]
      },
      {
       "output_type": "stream",
       "stream": "stdout",
       "text": [
        "."
       ]
      },
      {
       "output_type": "stream",
       "stream": "stdout",
       "text": [
        "."
       ]
      },
      {
       "output_type": "stream",
       "stream": "stdout",
       "text": [
        "."
       ]
      },
      {
       "output_type": "stream",
       "stream": "stdout",
       "text": [
        "."
       ]
      },
      {
       "output_type": "stream",
       "stream": "stdout",
       "text": [
        "."
       ]
      },
      {
       "output_type": "stream",
       "stream": "stdout",
       "text": [
        "."
       ]
      },
      {
       "output_type": "stream",
       "stream": "stdout",
       "text": [
        "."
       ]
      },
      {
       "output_type": "stream",
       "stream": "stdout",
       "text": [
        "."
       ]
      },
      {
       "output_type": "stream",
       "stream": "stdout",
       "text": [
        "."
       ]
      },
      {
       "output_type": "stream",
       "stream": "stdout",
       "text": [
        "."
       ]
      },
      {
       "output_type": "stream",
       "stream": "stdout",
       "text": [
        "."
       ]
      },
      {
       "output_type": "stream",
       "stream": "stdout",
       "text": [
        "."
       ]
      },
      {
       "output_type": "stream",
       "stream": "stdout",
       "text": [
        "."
       ]
      },
      {
       "output_type": "stream",
       "stream": "stdout",
       "text": [
        "."
       ]
      },
      {
       "output_type": "stream",
       "stream": "stdout",
       "text": [
        "."
       ]
      },
      {
       "output_type": "stream",
       "stream": "stdout",
       "text": [
        "."
       ]
      },
      {
       "output_type": "stream",
       "stream": "stdout",
       "text": [
        "."
       ]
      },
      {
       "output_type": "stream",
       "stream": "stdout",
       "text": [
        "."
       ]
      },
      {
       "output_type": "stream",
       "stream": "stdout",
       "text": [
        "."
       ]
      },
      {
       "output_type": "stream",
       "stream": "stdout",
       "text": [
        "."
       ]
      },
      {
       "output_type": "stream",
       "stream": "stdout",
       "text": [
        "."
       ]
      },
      {
       "output_type": "stream",
       "stream": "stdout",
       "text": [
        "."
       ]
      },
      {
       "output_type": "stream",
       "stream": "stdout",
       "text": [
        "."
       ]
      },
      {
       "output_type": "stream",
       "stream": "stdout",
       "text": [
        "."
       ]
      },
      {
       "output_type": "stream",
       "stream": "stdout",
       "text": [
        "."
       ]
      },
      {
       "output_type": "stream",
       "stream": "stdout",
       "text": [
        "."
       ]
      },
      {
       "output_type": "stream",
       "stream": "stdout",
       "text": [
        "."
       ]
      },
      {
       "output_type": "stream",
       "stream": "stdout",
       "text": [
        "."
       ]
      },
      {
       "output_type": "stream",
       "stream": "stdout",
       "text": [
        "."
       ]
      },
      {
       "output_type": "stream",
       "stream": "stdout",
       "text": [
        "."
       ]
      },
      {
       "output_type": "stream",
       "stream": "stdout",
       "text": [
        "."
       ]
      },
      {
       "output_type": "stream",
       "stream": "stdout",
       "text": [
        "."
       ]
      },
      {
       "output_type": "stream",
       "stream": "stdout",
       "text": [
        "."
       ]
      },
      {
       "output_type": "stream",
       "stream": "stdout",
       "text": [
        "."
       ]
      },
      {
       "output_type": "stream",
       "stream": "stdout",
       "text": [
        "."
       ]
      },
      {
       "output_type": "stream",
       "stream": "stdout",
       "text": [
        "."
       ]
      },
      {
       "output_type": "stream",
       "stream": "stdout",
       "text": [
        "."
       ]
      },
      {
       "output_type": "stream",
       "stream": "stdout",
       "text": [
        "."
       ]
      },
      {
       "output_type": "stream",
       "stream": "stdout",
       "text": [
        "."
       ]
      },
      {
       "output_type": "stream",
       "stream": "stdout",
       "text": [
        "."
       ]
      },
      {
       "output_type": "stream",
       "stream": "stdout",
       "text": [
        "."
       ]
      },
      {
       "output_type": "stream",
       "stream": "stdout",
       "text": [
        "."
       ]
      },
      {
       "output_type": "stream",
       "stream": "stdout",
       "text": [
        "."
       ]
      },
      {
       "output_type": "stream",
       "stream": "stdout",
       "text": [
        "."
       ]
      },
      {
       "output_type": "stream",
       "stream": "stdout",
       "text": [
        "."
       ]
      },
      {
       "output_type": "stream",
       "stream": "stdout",
       "text": [
        "."
       ]
      },
      {
       "output_type": "stream",
       "stream": "stdout",
       "text": [
        "."
       ]
      },
      {
       "output_type": "stream",
       "stream": "stdout",
       "text": [
        "."
       ]
      },
      {
       "output_type": "stream",
       "stream": "stdout",
       "text": [
        "."
       ]
      },
      {
       "output_type": "stream",
       "stream": "stdout",
       "text": [
        "."
       ]
      },
      {
       "output_type": "stream",
       "stream": "stdout",
       "text": [
        "."
       ]
      },
      {
       "output_type": "stream",
       "stream": "stdout",
       "text": [
        "."
       ]
      },
      {
       "output_type": "stream",
       "stream": "stdout",
       "text": [
        "."
       ]
      },
      {
       "output_type": "stream",
       "stream": "stdout",
       "text": [
        "."
       ]
      },
      {
       "output_type": "stream",
       "stream": "stdout",
       "text": [
        "."
       ]
      },
      {
       "output_type": "stream",
       "stream": "stdout",
       "text": [
        "."
       ]
      },
      {
       "output_type": "stream",
       "stream": "stdout",
       "text": [
        "."
       ]
      },
      {
       "output_type": "stream",
       "stream": "stdout",
       "text": [
        "."
       ]
      },
      {
       "output_type": "stream",
       "stream": "stdout",
       "text": [
        "."
       ]
      },
      {
       "output_type": "stream",
       "stream": "stdout",
       "text": [
        "\n",
        "33 mvc_bartleby intentando...\n",
        "True"
       ]
      },
      {
       "output_type": "stream",
       "stream": "stdout",
       "text": [
        " \n",
        "{'ok': 1, 'nModified': 1, 'updatedExisting': True, 'n': 1}\n",
        "."
       ]
      },
      {
       "output_type": "stream",
       "stream": "stdout",
       "text": [
        "."
       ]
      },
      {
       "output_type": "stream",
       "stream": "stdout",
       "text": [
        "."
       ]
      },
      {
       "output_type": "stream",
       "stream": "stdout",
       "text": [
        "."
       ]
      },
      {
       "output_type": "stream",
       "stream": "stdout",
       "text": [
        "."
       ]
      },
      {
       "output_type": "stream",
       "stream": "stdout",
       "text": [
        "."
       ]
      },
      {
       "output_type": "stream",
       "stream": "stdout",
       "text": [
        "."
       ]
      },
      {
       "output_type": "stream",
       "stream": "stdout",
       "text": [
        "."
       ]
      },
      {
       "output_type": "stream",
       "stream": "stdout",
       "text": [
        "."
       ]
      },
      {
       "output_type": "stream",
       "stream": "stdout",
       "text": [
        "."
       ]
      },
      {
       "output_type": "stream",
       "stream": "stdout",
       "text": [
        "."
       ]
      },
      {
       "output_type": "stream",
       "stream": "stdout",
       "text": [
        "."
       ]
      },
      {
       "output_type": "stream",
       "stream": "stdout",
       "text": [
        "."
       ]
      },
      {
       "output_type": "stream",
       "stream": "stdout",
       "text": [
        "."
       ]
      },
      {
       "output_type": "stream",
       "stream": "stdout",
       "text": [
        "."
       ]
      },
      {
       "output_type": "stream",
       "stream": "stdout",
       "text": [
        "."
       ]
      },
      {
       "output_type": "stream",
       "stream": "stdout",
       "text": [
        "."
       ]
      },
      {
       "output_type": "stream",
       "stream": "stdout",
       "text": [
        "."
       ]
      },
      {
       "output_type": "stream",
       "stream": "stdout",
       "text": [
        "."
       ]
      },
      {
       "output_type": "stream",
       "stream": "stdout",
       "text": [
        "."
       ]
      },
      {
       "output_type": "stream",
       "stream": "stdout",
       "text": [
        "."
       ]
      },
      {
       "output_type": "stream",
       "stream": "stdout",
       "text": [
        "."
       ]
      },
      {
       "output_type": "stream",
       "stream": "stdout",
       "text": [
        "."
       ]
      },
      {
       "output_type": "stream",
       "stream": "stdout",
       "text": [
        "."
       ]
      },
      {
       "output_type": "stream",
       "stream": "stdout",
       "text": [
        "."
       ]
      },
      {
       "output_type": "stream",
       "stream": "stdout",
       "text": [
        "."
       ]
      },
      {
       "output_type": "stream",
       "stream": "stdout",
       "text": [
        "."
       ]
      },
      {
       "output_type": "stream",
       "stream": "stdout",
       "text": [
        "."
       ]
      },
      {
       "output_type": "stream",
       "stream": "stdout",
       "text": [
        "."
       ]
      },
      {
       "output_type": "stream",
       "stream": "stdout",
       "text": [
        "."
       ]
      },
      {
       "output_type": "stream",
       "stream": "stdout",
       "text": [
        "."
       ]
      },
      {
       "output_type": "stream",
       "stream": "stdout",
       "text": [
        "."
       ]
      },
      {
       "output_type": "stream",
       "stream": "stdout",
       "text": [
        "."
       ]
      },
      {
       "output_type": "stream",
       "stream": "stdout",
       "text": [
        "."
       ]
      },
      {
       "output_type": "stream",
       "stream": "stdout",
       "text": [
        "."
       ]
      },
      {
       "output_type": "stream",
       "stream": "stdout",
       "text": [
        "."
       ]
      },
      {
       "output_type": "stream",
       "stream": "stdout",
       "text": [
        "."
       ]
      },
      {
       "output_type": "stream",
       "stream": "stdout",
       "text": [
        "."
       ]
      },
      {
       "output_type": "stream",
       "stream": "stdout",
       "text": [
        "."
       ]
      },
      {
       "output_type": "stream",
       "stream": "stdout",
       "text": [
        "."
       ]
      },
      {
       "output_type": "stream",
       "stream": "stdout",
       "text": [
        "."
       ]
      },
      {
       "output_type": "stream",
       "stream": "stdout",
       "text": [
        "."
       ]
      },
      {
       "output_type": "stream",
       "stream": "stdout",
       "text": [
        "."
       ]
      },
      {
       "output_type": "stream",
       "stream": "stdout",
       "text": [
        "."
       ]
      },
      {
       "output_type": "stream",
       "stream": "stdout",
       "text": [
        "."
       ]
      },
      {
       "output_type": "stream",
       "stream": "stdout",
       "text": [
        "."
       ]
      },
      {
       "output_type": "stream",
       "stream": "stdout",
       "text": [
        "."
       ]
      },
      {
       "output_type": "stream",
       "stream": "stdout",
       "text": [
        "."
       ]
      },
      {
       "output_type": "stream",
       "stream": "stdout",
       "text": [
        "."
       ]
      },
      {
       "output_type": "stream",
       "stream": "stdout",
       "text": [
        "."
       ]
      },
      {
       "output_type": "stream",
       "stream": "stdout",
       "text": [
        "."
       ]
      },
      {
       "output_type": "stream",
       "stream": "stdout",
       "text": [
        "."
       ]
      },
      {
       "output_type": "stream",
       "stream": "stdout",
       "text": [
        "."
       ]
      },
      {
       "output_type": "stream",
       "stream": "stdout",
       "text": [
        "."
       ]
      },
      {
       "output_type": "stream",
       "stream": "stdout",
       "text": [
        "."
       ]
      },
      {
       "output_type": "stream",
       "stream": "stdout",
       "text": [
        "."
       ]
      },
      {
       "output_type": "stream",
       "stream": "stdout",
       "text": [
        "."
       ]
      },
      {
       "output_type": "stream",
       "stream": "stdout",
       "text": [
        "."
       ]
      },
      {
       "output_type": "stream",
       "stream": "stdout",
       "text": [
        "."
       ]
      },
      {
       "output_type": "stream",
       "stream": "stdout",
       "text": [
        "."
       ]
      },
      {
       "output_type": "stream",
       "stream": "stdout",
       "text": [
        "."
       ]
      },
      {
       "output_type": "stream",
       "stream": "stdout",
       "text": [
        "."
       ]
      },
      {
       "output_type": "stream",
       "stream": "stdout",
       "text": [
        "."
       ]
      },
      {
       "output_type": "stream",
       "stream": "stdout",
       "text": [
        "."
       ]
      },
      {
       "output_type": "stream",
       "stream": "stdout",
       "text": [
        "."
       ]
      },
      {
       "output_type": "stream",
       "stream": "stdout",
       "text": [
        "."
       ]
      },
      {
       "output_type": "stream",
       "stream": "stdout",
       "text": [
        "."
       ]
      },
      {
       "output_type": "stream",
       "stream": "stdout",
       "text": [
        "."
       ]
      },
      {
       "output_type": "stream",
       "stream": "stdout",
       "text": [
        "."
       ]
      },
      {
       "output_type": "stream",
       "stream": "stdout",
       "text": [
        "."
       ]
      },
      {
       "output_type": "stream",
       "stream": "stdout",
       "text": [
        "."
       ]
      },
      {
       "output_type": "stream",
       "stream": "stdout",
       "text": [
        "."
       ]
      },
      {
       "output_type": "stream",
       "stream": "stdout",
       "text": [
        "."
       ]
      },
      {
       "output_type": "stream",
       "stream": "stdout",
       "text": [
        "."
       ]
      },
      {
       "output_type": "stream",
       "stream": "stdout",
       "text": [
        "."
       ]
      },
      {
       "output_type": "stream",
       "stream": "stdout",
       "text": [
        "."
       ]
      },
      {
       "output_type": "stream",
       "stream": "stdout",
       "text": [
        "."
       ]
      },
      {
       "output_type": "stream",
       "stream": "stdout",
       "text": [
        "."
       ]
      },
      {
       "output_type": "stream",
       "stream": "stdout",
       "text": [
        "."
       ]
      },
      {
       "output_type": "stream",
       "stream": "stdout",
       "text": [
        "."
       ]
      },
      {
       "output_type": "stream",
       "stream": "stdout",
       "text": [
        "."
       ]
      },
      {
       "output_type": "stream",
       "stream": "stdout",
       "text": [
        "."
       ]
      },
      {
       "output_type": "stream",
       "stream": "stdout",
       "text": [
        "."
       ]
      },
      {
       "output_type": "stream",
       "stream": "stdout",
       "text": [
        "."
       ]
      },
      {
       "output_type": "stream",
       "stream": "stdout",
       "text": [
        "."
       ]
      },
      {
       "output_type": "stream",
       "stream": "stdout",
       "text": [
        "."
       ]
      },
      {
       "output_type": "stream",
       "stream": "stdout",
       "text": [
        "."
       ]
      },
      {
       "output_type": "stream",
       "stream": "stdout",
       "text": [
        "."
       ]
      },
      {
       "output_type": "stream",
       "stream": "stdout",
       "text": [
        "."
       ]
      },
      {
       "output_type": "stream",
       "stream": "stdout",
       "text": [
        "."
       ]
      },
      {
       "output_type": "stream",
       "stream": "stdout",
       "text": [
        "\n",
        "34 olmymj intentando...\n",
        "True"
       ]
      },
      {
       "output_type": "stream",
       "stream": "stdout",
       "text": [
        " \n",
        "{'ok': 1, 'nModified': 1, 'updatedExisting': True, 'n': 1}\n",
        "."
       ]
      },
      {
       "output_type": "stream",
       "stream": "stdout",
       "text": [
        "."
       ]
      },
      {
       "output_type": "stream",
       "stream": "stdout",
       "text": [
        "."
       ]
      },
      {
       "output_type": "stream",
       "stream": "stdout",
       "text": [
        "."
       ]
      },
      {
       "output_type": "stream",
       "stream": "stdout",
       "text": [
        "."
       ]
      },
      {
       "output_type": "stream",
       "stream": "stdout",
       "text": [
        "."
       ]
      },
      {
       "output_type": "stream",
       "stream": "stdout",
       "text": [
        "."
       ]
      },
      {
       "output_type": "stream",
       "stream": "stdout",
       "text": [
        "."
       ]
      },
      {
       "output_type": "stream",
       "stream": "stdout",
       "text": [
        "."
       ]
      },
      {
       "output_type": "stream",
       "stream": "stdout",
       "text": [
        "."
       ]
      },
      {
       "output_type": "stream",
       "stream": "stdout",
       "text": [
        "."
       ]
      },
      {
       "output_type": "stream",
       "stream": "stdout",
       "text": [
        "."
       ]
      },
      {
       "output_type": "stream",
       "stream": "stdout",
       "text": [
        "."
       ]
      },
      {
       "output_type": "stream",
       "stream": "stdout",
       "text": [
        "."
       ]
      },
      {
       "output_type": "stream",
       "stream": "stdout",
       "text": [
        "."
       ]
      },
      {
       "output_type": "stream",
       "stream": "stdout",
       "text": [
        "."
       ]
      },
      {
       "output_type": "stream",
       "stream": "stdout",
       "text": [
        "."
       ]
      },
      {
       "output_type": "stream",
       "stream": "stdout",
       "text": [
        "."
       ]
      },
      {
       "output_type": "stream",
       "stream": "stdout",
       "text": [
        "."
       ]
      },
      {
       "output_type": "stream",
       "stream": "stdout",
       "text": [
        "."
       ]
      },
      {
       "output_type": "stream",
       "stream": "stdout",
       "text": [
        "."
       ]
      },
      {
       "output_type": "stream",
       "stream": "stdout",
       "text": [
        "."
       ]
      },
      {
       "output_type": "stream",
       "stream": "stdout",
       "text": [
        "."
       ]
      },
      {
       "output_type": "stream",
       "stream": "stdout",
       "text": [
        "."
       ]
      },
      {
       "output_type": "stream",
       "stream": "stdout",
       "text": [
        "."
       ]
      },
      {
       "output_type": "stream",
       "stream": "stdout",
       "text": [
        "."
       ]
      },
      {
       "output_type": "stream",
       "stream": "stdout",
       "text": [
        "."
       ]
      },
      {
       "output_type": "stream",
       "stream": "stdout",
       "text": [
        "."
       ]
      },
      {
       "output_type": "stream",
       "stream": "stdout",
       "text": [
        "."
       ]
      },
      {
       "output_type": "stream",
       "stream": "stdout",
       "text": [
        "."
       ]
      },
      {
       "output_type": "stream",
       "stream": "stdout",
       "text": [
        "."
       ]
      },
      {
       "output_type": "stream",
       "stream": "stdout",
       "text": [
        "."
       ]
      }
     ]
    },
    {
     "cell_type": "code",
     "collapsed": false,
     "input": [
      "fwcol.find_one({'screen_name': 'juliancorrales_'})"
     ],
     "language": "python",
     "metadata": {},
     "outputs": [
      {
       "metadata": {},
       "output_type": "pyout",
       "prompt_number": 61,
       "text": [
        "{'url': 'https://t.co/crjBUzzODn',\n",
        " 'profile_image_url': 'http://pbs.twimg.com/profile_images/644444587017302016/urKCOYL8_normal.jpg',\n",
        " 'entities': {'url': {'urls': [{'indices': [0, 23],\n",
        "     'display_url': 'puntatacon.tv',\n",
        "     'expanded_url': 'http://www.puntatacon.tv',\n",
        "     'url': 'https://t.co/crjBUzzODn'}]},\n",
        "  'description': {'urls': []}},\n",
        " 'statuses_count': 3810,\n",
        " 'screen_name': 'juliancorrales_',\n",
        " 'blocking': False,\n",
        " 'listed_count': 70,\n",
        " 'blocked_by': False,\n",
        " 'followers_count': 8244,\n",
        " '_id': ObjectId('56fd8993d77d5e4450c7dd2c'),\n",
        " 'id_str': '800721614',\n",
        " 'created_at': 'Mon Sep 03 16:21:28 +0000 2012',\n",
        " 'favourites_count': 6457,\n",
        " 'description': 'Director de @PuntaTaconTV                   Emprendedor en proyectos sobre el Deporte                 Me siento un privilegiado por dedicarme a lo que me gusta!',\n",
        " 'rts': {'count': 0, 'fechamin': None, 'fechamax': None},\n",
        " 'name': 'Julian Corrales'}"
       ]
      }
     ],
     "prompt_number": 61
    },
    {
     "cell_type": "code",
     "collapsed": false,
     "input": [
      "fwcol.update({'id_str': id_str}, {'$set': {'dm.time': time()}})"
     ],
     "language": "python",
     "metadata": {},
     "outputs": [
      {
       "metadata": {},
       "output_type": "pyout",
       "prompt_number": 53,
       "text": [
        "{'ok': 1, 'nModified': 1, 'updatedExisting': True, 'n': 1}"
       ]
      }
     ],
     "prompt_number": 53
    },
    {
     "cell_type": "code",
     "collapsed": false,
     "input": [
      "fwcol.find_one({'id_str':id_str})"
     ],
     "language": "python",
     "metadata": {},
     "outputs": [
      {
       "metadata": {},
       "output_type": "pyout",
       "prompt_number": 48,
       "text": [
        "{'url': None,\n",
        " 'profile_image_url': 'http://pbs.twimg.com/profile_images/712004956878999552/2OGHLU70_normal.jpg',\n",
        " 'entities': {'description': {'urls': []}},\n",
        " 'statuses_count': 246,\n",
        " 'screen_name': 'mimadremaria192',\n",
        " 'blocking': False,\n",
        " 'listed_count': 2,\n",
        " 'blocked_by': False,\n",
        " 'followers_count': 613,\n",
        " '_id': ObjectId('56fd8992d77d5e4450c7dd26'),\n",
        " 'id_str': '3259926819',\n",
        " 'created_at': 'Sat May 16 09:03:26 +0000 2015',\n",
        " 'dm': {'razon': '', 'ok': True},\n",
        " 'favourites_count': 426,\n",
        " 'description': '',\n",
        " 'rts': {'count': 0, 'fechamin': None, 'fechamax': None},\n",
        " 'name': 'CERNTESALMOG\u00c1VARE195'}"
       ]
      }
     ],
     "prompt_number": 48
    }
   ],
   "metadata": {}
  }
 ]
}