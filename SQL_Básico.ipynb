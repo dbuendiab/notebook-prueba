{
  "nbformat": 4,
  "nbformat_minor": 0,
  "metadata": {
    "colab": {
      "name": "SQL Básico.ipynb",
      "provenance": [],
      "collapsed_sections": [
        "ZvfyyEIszZu_"
      ],
      "include_colab_link": true
    },
    "kernelspec": {
      "name": "python3",
      "display_name": "Python 3"
    }
  },
  "cells": [
    {
      "cell_type": "markdown",
      "metadata": {
        "id": "view-in-github",
        "colab_type": "text"
      },
      "source": [
        "<a href=\"https://colab.research.google.com/github/dbuendiab/notebook-prueba/blob/master/SQL_B%C3%A1sico.ipynb\" target=\"_parent\"><img src=\"https://colab.research.google.com/assets/colab-badge.svg\" alt=\"Open In Colab\"/></a>"
      ]
    },
    {
      "cell_type": "markdown",
      "metadata": {
        "id": "rNzuDB-x1Md-"
      },
      "source": [
        "# Introducción al SQL\n",
        "\n",
        "Este cuaderno interactivo te permite aprender y practicar la sintaxis SQL de una forma espero que sencilla.\n",
        "\n",
        "Para tener una base con la que practicar, he bajado una tabla de datos sobre contagios de COVID en Cataluña, obtenida en el portal  [Dades Obertas de la Generalitat](https://analisi.transparenciacatalunya.cat/Salut/Registre-de-casos-de-COVID-19-realitzats-a-Catalun/jj6z-iyrp/data).\n",
        "\n",
        "Pero, antes de seguir, ejecuta las celdas ocultas de la siguiente sección, que prepara el cuaderno para poder seguir las prácticas."
      ]
    },
    {
      "cell_type": "markdown",
      "metadata": {
        "id": "ZvfyyEIszZu_"
      },
      "source": [
        "## Preparativos\n",
        "\n",
        "Ejecuta las tres celdas siguientes:\n",
        "* **Montar Google Drive**: para poder acceder a la base de datos\n",
        "* **Conexión a base de datos (COVID)**: para establecer la conexión a la base de datos\n",
        "* **Creación del comando %%sql**: para escribir código SQL directamente.\n",
        "\n",
        "Una vez hecho, ejecuta la **celda de prueba** a continuación."
      ]
    },
    {
      "cell_type": "code",
      "metadata": {
        "colab": {
          "base_uri": "https://localhost:8080/"
        },
        "id": "NynysbT6pVuj",
        "outputId": "efae7ce1-b2dd-4950-dbdf-36ef1da95754"
      },
      "source": [
        "#@title Montar Google Drive\n",
        "#@markdown Ejecutar para acceder a la base de datos\n",
        "from google.colab import drive\n",
        "drive.mount('/gdrive')\n",
        "%cd /gdrive"
      ],
      "execution_count": null,
      "outputs": [
        {
          "output_type": "stream",
          "text": [
            "Drive already mounted at /gdrive; to attempt to forcibly remount, call drive.mount(\"/gdrive\", force_remount=True).\n",
            "/gdrive\n"
          ],
          "name": "stdout"
        }
      ]
    },
    {
      "cell_type": "code",
      "metadata": {
        "colab": {
          "base_uri": "https://localhost:8080/"
        },
        "id": "3CaFKFESqLBD",
        "outputId": "2ff83ab6-76a6-4757-8a01-9abd915383c8"
      },
      "source": [
        "!ls MyDrive/\n"
      ],
      "execution_count": null,
      "outputs": [
        {
          "output_type": "stream",
          "text": [
            "'20141203 Plan Estrategico PS.xls'\n",
            "'20141203 Plan Estrategico PS.xls.gsheet'\n",
            "'20150323 MWC2015_empresas_emails_www.xls'\n",
            "'20150323 MWC2015_empresas_emails_www.xls.gsheet'\n",
            "'2020-08 (1).csv'\n",
            "'2020-08 (2).csv'\n",
            " 2020-08.csv\n",
            " 2020-08.gsheet\n",
            "'Abono social  papá.gdoc'\n",
            "' AGUSTINA SALVADOR.gdoc'\n",
            " Amigotes.jpg\n",
            "'AngularJS - Phonecat - Getting Started.gdoc'\n",
            "'AngularJS - Step 0.gdoc'\n",
            "'Aniversario Alba - Intervención.gdoc'\n",
            "'Arrels: el grupo.gdoc'\n",
            "'Asuntos Ignasi'\n",
            " ATAM.gdoc\n",
            "'Autoedición - Publicar libro uno mismo.gdoc'\n",
            "'AWS - Montar daemon Quijote.gdoc'\n",
            "'AWS: nuevo usuario para acceso SSH.gdoc'\n",
            " B\n",
            "'Birdy - People Help The People - YouTube.png'\n",
            " Blog_ASP_Net.rar\n",
            "'Blogs (enlaces).gdoc'\n",
            "'Blues trigonométrico.mp3'\n",
            "'borrador dolores motos salvador.gdoc'\n",
            "'BORRADOR ESPERANZA LUNA .docx'\n",
            "'BORRADOR LOPEZ PEREZ OCTUBRE 2017.gdoc'\n",
            "'BORRADOR SRA GOMEZ 2.doc'\n",
            "'Capítulos largos y cortos.gdoc'\n",
            "'Carta de recomendación Abril Díaz.gdoc'\n",
            "'Casandra: No te preocupes por tu hijo.gdoc'\n",
            "'Casas de la familia.gmap'\n",
            "'Checklist viaje USA.gdoc'\n",
            " ClasePiano.avi\n",
            "'Cloud9: montar tuiteador Quijote.gdoc'\n",
            "'COBOL - en servidor Guille.gdoc'\n",
            "'CodeSchool - AngularJS.gdoc'\n",
            "'Colab Notebooks'\n",
            "'Como una piedra.gdoc'\n",
            "'Comparación nigiris.gdoc'\n",
            "'Compromisos Sociales.gdoc'\n",
            "'_CONSERVATORIO 2014'\n",
            "'Conspiració a Tarraco.gdoc'\n",
            "'Copia de Copia de ESPOIRITU SANTO.gdoc'\n",
            "'Copia de JupyterHub Notebooks sobre AWS v.3.gdoc'\n",
            "'Copia de Lista de formación marxista.gdoc'\n",
            "'Coronavirus Video 2020-04-26.mp4'\n",
            "'Cosas suspendidas (hasta terminar Quijote).gdoc'\n",
            "'Costa Brava.gmap'\n",
            " _COURSERA\n",
            " covid.db\n",
            "'Creando Twitter OAuth paso a paso.gdoc'\n",
            "'Crear AMI para Flask.gdoc'\n",
            "'Crear fichero troceado para tuitear.gdoc'\n",
            "'Crema fría de calabacín y yogur.gdoc'\n",
            " crisolidaridad.zip\n",
            "'Cuadrante Sant Jordi.gsheet'\n",
            "'Cuestionario Quijote.gdoc'\n",
            " CursoSQL.pem\n",
            " Demirjian.gsheet\n",
            "'Demirjian Resultados.gsheet'\n",
            " desconcierto2.jpg\n",
            "'Diario 1 (tapa azul) 6 sep 1993 - 20 ene 2005.gdoc'\n",
            "'Diario 2 (tapa negra) 20 dic 2004 - 23 ago 2008.gdoc'\n",
            "'Dieta gastritis.gdoc'\n",
            "'Docker osmnx en Guille - Clouding.gdoc'\n",
            "'Documento sin título (1).gdoc'\n",
            "'Documento sin título (2).gdoc'\n",
            "'Documento sin título (3).gdoc'\n",
            "'Documento sin título (4).gdoc'\n",
            "'Documento sin título.gdoc'\n",
            "'Dónde he vivido.gmap'\n",
            "'Dos Artículos: AI, ML y DL - Bernard Marr   DeepLearning4j.org.gdoc'\n",
            "'Dos Passos, John - Manhattan Transfer.doc'\n",
            "'Dossier El Quijote 17000 tuits.gdoc'\n",
            " DOx0EQIWkAEsNy7.jpg\n",
            "'Educación Online.gdoc'\n",
            "'El servidor Flask en Clouding.io.gdoc'\n",
            "'Enlaces para Martín Fierro.gdoc'\n",
            "'Entrevista EÑES.gdoc'\n",
            "'ENTREVISTA Rocío.gdoc'\n",
            "'Escuela Oficial de Idiomas.gdoc'\n",
            "'Establecimientos prácticas Settimo Torinese.gmap'\n",
            "'Esther - Pedrera.gdoc'\n",
            " __Estudios__\n",
            "'F04 - DIARIO (I).gdoc'\n",
            " Fabada.gdoc\n",
            "'Factura - plantilla.gdoc'\n",
            "'Fiscalización Sanitat Catalana.gdoc'\n",
            "'Flask y uWSGI - en wsl.gdoc'\n",
            "'Fotos familia para Guille.zip'\n",
            " FP-PAC5-MiVersión.gdoc\n",
            " FP-PAC7.gdoc\n",
            "'Freidora: temperatura vs minutos.gsheet'\n",
            "'Gas Iberdrola.gdoc'\n",
            "'Gastos 2012.gsheet'\n",
            "'Gastos Ignasi Agosto 2020.gsheet'\n",
            "'Gestiones financieras.gdoc'\n",
            "'Granada 2019.gmap'\n",
            "'Granada - Tapas.gmap'\n",
            " Guille\n",
            "'Guillem IPSI'\n",
            "'Guillem: problemas escolares.gdoc'\n",
            "'Gustavo Batista - 25 febrero.gdoc'\n",
            "'gustavo batista rodríguez 6 junio.gdoc'\n",
            "'HERMENÉUTICA DE EL MAGO DE OZ, versión prucés catalán.gdoc'\n",
            "'Hitos de mi vida.gdoc'\n",
            "'Hoja de cálculo sin título (1).gsheet'\n",
            "'Hoja de cálculo sin título.gsheet'\n",
            "'Ignasi cartas'\n",
            "'IGNASI, ESTE ES UN BUEN MOMENTO PARA INDEPENDIZARSE.gdoc'\n",
            "'Ignasi: procrastinación.gdoc'\n",
            " IGNASI-UOC.gdoc\n",
            "'Implante 12 - Estudio.gdoc'\n",
            "'Información para arreglar Taskbar Windows 10.gdoc'\n",
            "'Información personal'\n",
            "'Información TAT Granada.gdoc'\n",
            "'Inicio de sesión - Cuentas de Google.png'\n",
            "'Institutos de Informática.gmap'\n",
            "'Internet Services: Arsys.es.gdoc'\n",
            "'Internet Services: X10.mx.gdoc'\n",
            " IP06~32PT04PR7~1_03R00_1415.pdf\n",
            " IP13~7PR7~1_03.pdf\n",
            " Irlanda.gmap\n",
            "'Japón: alojamiento - proceso de búsqueda.gdoc'\n",
            "'JupyterHub Notebooks sobre AWS v.1.gdoc'\n",
            "'JupyterHub Notebooks sobre AWS v.2.gdoc'\n",
            "'JupyterHub on AWS-EC2: from scratch.gdoc'\n",
            " Koding.io.gdoc\n",
            "'La Carme Restaurant.gmap'\n",
            "'La Coruña.gmap'\n",
            "'LA MISERIA'\n",
            "'La Pedrera: descarga proyecto Cloud9 a local (a mano).gdoc'\n",
            "'Laravel en Cloud9 y AWS - PHP.gdoc'\n",
            "'Laravel - Homestead - Instalación.gdoc'\n",
            "'La semana de Ignasi.gdoc'\n",
            "'Las frases del Quijote.gdoc'\n",
            "'La solidaridad intergeneracional y los jóvenes.gdoc'\n",
            "'Las palabras del Quijote.gdoc'\n",
            "'Libro de notas.gdoc'\n",
            "'Libro: SELECT * FROM'\n",
            "'Libros PTT'\n",
            "'Limpiar cuarto de baño.gdoc'\n",
            "'Mapa sin nombre.gmap'\n",
            "'Martín Fierro: solución técnica FEDERATED.gdoc'\n",
            "'Material propio en Internet.gdoc'\n",
            "'Medicina: dolor de estómago.gdoc'\n",
            " MEGA-RECOVERYKEY.txt\n",
            "'Me gusta el vicio.docx'\n",
            "'Mejores descargas de vídeos y libros por Internet.gdoc'\n",
            "'Miriadax - Tema 2 - Estructura CSS.gdoc'\n",
            "'Mis contactos consolidados'\n",
            "'Mis ubicaciones guardadas.gmap'\n",
            "'Mochila urbana 5 días.gdoc'\n",
            "'Monitor APACHE (2019).gdoc'\n",
            "'Monitorizar APACHE AWS vía MySQL.gdoc'\n",
            "'Música - Arrels'\n",
            "'Musicología y Conservatorios para Ignasi.gdoc'\n",
            " MWC2015_empresas_emails.gsheet\n",
            "'Node-js y Express.gdoc'\n",
            "'NOVELA - PRIMERA PARTE.gdoc'\n",
            "'Nuria de la Puente Gallego - nuevo.gdoc'\n",
            "'Ofertas Fibra.gdoc'\n",
            "'PapiConcilia - escrito para Usúe.gdoc'\n",
            " __ParaguasSolidario\n",
            "'Parte 1 de 4.zip'\n",
            "'Parte 2 de 4.zip'\n",
            "'Parte 3 de 4.zip'\n",
            "'Parte 4 de 4.zip'\n",
            "'Participación Elecciones 2015 - por horas.gsheet'\n",
            "'Pastillero papá - instrucciones.gdoc'\n",
            "'PayPal desde PHP.gdoc'\n",
            "'Portátil ASUS.gdoc'\n",
            " _Prejubilación\n",
            " _Programación\n",
            "'Programación en Java.gdoc'\n",
            "'Programación en Rust.gdoc'\n",
            "'Proyecto Enviador Web Control - Symfony - Clouding.gdoc'\n",
            " Proyecto.gsite\n",
            "'Proyectos programación.gdoc'\n",
            "'Putty con Python - para quijote17000.es.ipynb'\n",
            "'PyMySQL - Guardar un diccionario.gdoc'\n",
            "'PythonAnywhere Key Test.gsheet'\n",
            "'Quedarse sin disco en Linux.gdoc'\n",
            "'Quijote280 en Clouding.io.gdoc'\n",
            "'Quijote Daemon - Reiniciar proceso.gdoc'\n",
            "'Recetas y alimentación'\n",
            "'Recibidos (5) - onofre.macanas@gmail.com -.png'\n",
            "'Redes Sociales Ed.Online.gdoc'\n",
            "'Relaciones con Telefónica.gdoc'\n",
            "'Renta 2017.gdoc'\n",
            "'Renta 2018.gdoc'\n",
            "'Repeticiones de Dios.gdoc'\n",
            "'Repeticiones de España.gdoc'\n",
            "'Residencias 3ª edad Bellvitge.gmap'\n",
            "'Restaurantes chinos Just-Eat.gdoc'\n",
            "'Reunión padres Salesianos.gdoc'\n",
            "'Riqueza léxica - Lista de correo.gdoc'\n",
            " rondaVerda.gpx\n",
            "'RUST: otro lenguaje de programación.gdoc'\n",
            "'Ruta verda.gmap'\n",
            "'Seguimiento de followers (ya_no_soy).gdoc'\n",
            "'Servidores remotos y subsistemas.gdoc'\n",
            "'Sin título.gmap'\n",
            "'Subir objetos a S3 vía Javascript cliente.gdoc'\n",
            "'Tareas del día.gdoc'\n",
            "'TAT Granada 2016.gslides'\n",
            "'TAT Granada - notas.gdoc'\n",
            "'Teclado interactivo Juanita.pptx'\n",
            "'Tipos de plataformas PaaS, IaaS, SaaS.gdoc'\n",
            "'_TO-DO: Archivado de información de tareas.gdoc'\n",
            "'_TO-DO: Tareas pendientes.gdoc'\n",
            "'Tokyo para Ignasi.gmap'\n",
            "'Trabajos verano Guillem.gdoc'\n",
            "'¿Tuitear El Quijote?.gdoc'\n",
            "'Tuits Hora Publicación.xlsx'\n",
            "'Tuits Hora Publicación.xlsx.gsheet'\n",
            "'Tutorial GitHub.gdoc'\n",
            "'Tweets sobre la etiqueta.png'\n",
            "'Ubuntu 18 - Instalación de cero.gdoc'\n",
            "'Valores numéricos.gdoc'\n",
            "'Verano 2010 - Oeste Americano.gmap'\n",
            "'Visual Twitter.gdoc'\n",
            "'Walden - La vida en los bosques - H.D.Thoreau.pdf'\n",
            "'Web Development con Google App Engine desde cero.gdoc'\n",
            " ZIPS\n",
            " ZZZ_Archivo\n"
          ],
          "name": "stdout"
        }
      ]
    },
    {
      "cell_type": "code",
      "metadata": {
        "colab": {
          "base_uri": "https://localhost:8080/"
        },
        "cellView": "form",
        "id": "AtRIonLyXYEX",
        "outputId": "9adf3e8b-c2a8-437d-d585-0f4d619fe517"
      },
      "source": [
        "#@title Conexión a base de datos (COVID)\n",
        "#@markdown Ejecutar para seguir con el tutorial\n",
        "import sqlite3\n",
        "cn = sqlite3.connect(\"/gdrive/MyDrive/covid.db\")\n",
        "cr = cn.cursor()\n",
        "print(\"Conexión establecida\")"
      ],
      "execution_count": null,
      "outputs": [
        {
          "output_type": "stream",
          "text": [
            "Conexión establecida\n"
          ],
          "name": "stdout"
        }
      ]
    },
    {
      "cell_type": "code",
      "metadata": {
        "cellView": "form",
        "id": "aLu4vXjNt1s5"
      },
      "source": [
        "#@title Creación del comando %%sql\n",
        "\n",
        "#@markdown Normalmente en las celdas escribes código Python, pero los códigos mágicos (%%comando) permiten usar otros lenguajes.\n",
        "\n",
        "#@markdown Aquí crearemos el comando **%%sql**, que te permitirá escribir comandos SQL directamente en las celdas siguientes, usando un formato como el del siguiente ejemplo:\n",
        "\n",
        "#@markdown ```%%sql```<br>\n",
        "#@markdown ```SELECT * FROM data LIMIT 10```\n",
        "\n",
        "from IPython.core.magic import (register_line_magic, register_cell_magic,\n",
        "                                register_line_cell_magic)\n",
        "import json\n",
        "import prettytable\n",
        "\n",
        "@register_cell_magic\n",
        "def sql(line, cell):\n",
        "    parametros = line.split(' ')\n",
        "\n",
        "    ## Habilito por defecto la visualización en bonito\n",
        "    ## Si quieres recuperar el conjunto de datos, hay que \n",
        "    ## poner 'datos' en la línea del comando mágico, como en\n",
        "    ##\n",
        "    ## %%sql datos\n",
        "\n",
        "    imprime = True\n",
        "    if 'datos' in parametros:\n",
        "      imprime = False\n",
        "    ## imprime = 'tabla' in parametros\n",
        "\n",
        "    ## Para alinear las celdas de la tabla a la izquierda\n",
        "    leftalign = 'lalign' in parametros\n",
        "    data = {}\n",
        "    \n",
        "    cr.execute(cell)\n",
        "    if cr:\n",
        "        if imprime:\n",
        "            x = prettytable.from_db_cursor(cr)\n",
        "            if leftalign:\n",
        "                for fld in x.field_names:\n",
        "                    x.align[fld] = 'l'\n",
        "            print(x)\n",
        "        else:\n",
        "            return cr.fetchall()"
      ],
      "execution_count": null,
      "outputs": []
    },
    {
      "cell_type": "markdown",
      "metadata": {
        "id": "nawiGHt03132"
      },
      "source": [
        "# Celda de prueba\n",
        "\n",
        " El resultado debe ser 256360, que son las filas que contiene la tabla."
      ]
    },
    {
      "cell_type": "code",
      "metadata": {
        "id": "6cPSlxig35kM",
        "colab": {
          "base_uri": "https://localhost:8080/"
        },
        "outputId": "74699d8d-ef3f-4a51-9c7a-8a33701af211"
      },
      "source": [
        "%%sql\n",
        "SELECT COUNT(*) FROM data"
      ],
      "execution_count": null,
      "outputs": [
        {
          "output_type": "stream",
          "text": [
            "+----------+\n",
            "| COUNT(*) |\n",
            "+----------+\n",
            "|  256360  |\n",
            "+----------+\n"
          ],
          "name": "stdout"
        }
      ]
    },
    {
      "cell_type": "markdown",
      "metadata": {
        "id": "PKTpE5H1GXTt"
      },
      "source": [
        "# Lo básico de las consultas SQL\n",
        "\n",
        "Una frase SQL tiene esta estructura básica:\n",
        "\n",
        "```\n",
        "SELECT (lista campos y expresiones)\n",
        "FROM (tabla o tablas)\n",
        "WHERE (expresión lógica)\n",
        "GROUP BY (lista campos y expresiones)\n",
        "HAVING (expresión lógica)\n",
        "ORDER BY (lista campos para la ordenación)\n",
        "```\n",
        "Cada uno de estos 6 elementos es una cláusula principal del lenguaje, que puede\n",
        "complicarse tanto como sea necesario, pero siempre conservando este orden. Las cláusulas ```WHERE```, ```GROUP BY```, ```HAVING``` y ```ORDER BY``` son opcionales.\n",
        "\n",
        "Es importante entender el orden en que un motor SQL ejecuta estas cláusulas, ya que no corresponde con el que aparece en la sintaxis. El verdadero orden de ejecución es el que sigue:\n",
        "\n",
        "* **FROM**: Lo primero es saber dónde están los datos.\n",
        "* **WHERE**: Decidir qué selección de filas necesitamos (opcional; puede que las queramos todas).\n",
        "* **GROUP BY**: Para un determinado tipo de consultas, lo que queremos es hacer montoncitos por categorías, para obtener datos para cada montoncito. Ya lo veremos, pero esta cláusula es la que hace esos montoncitos (opcional; las consultas normales no necesitan montoncitos).\n",
        "* **HAVING**: Si hemos hecho montoncitos, esta cláusula es un WHERE sobre cosas que hayamos calculado en esos montoncitos. Es opcional también.\n",
        "* **SELECT**: Esta cláusula es obligatoria. Aquí tendremos una lista de los campos o expresiones que vamos a devolver al usuario (que provienen de todo lo que hemos calculado previamente).\n",
        "* **ORDER BY**: Una última cosa opcional es ordenar la tabla de resultados de una u otra manera.\n",
        "\n",
        "Veremos las distintas cláusulas más adelante, pero primero vamos con una cosa importante que no se explica normalmente.\n",
        "\n"
      ]
    },
    {
      "cell_type": "markdown",
      "metadata": {
        "id": "a2Po77_Z71vm"
      },
      "source": [
        "# ¿Qué datos tiene mi tabla?\n",
        "\n",
        "Para hacer consultas a una base de datos, primero hay que saber de qué datos estamos hablando.\n",
        "\n",
        "Hay una serie de comandos SQL digamos *prospectivos* que permiten hacerse una idea del contenido de una tabla, el problema es que si aún no sabemos SQL no vamos a entenderlos completamente. Aún así, son tan útiles que los voy a explicar, y así vamos viendo qué datos tenemos para hacer nuestras pruebas (y, de paso, iremos aprendiendo SQL).\n",
        "\n"
      ]
    },
    {
      "cell_type": "markdown",
      "metadata": {
        "id": "1rIoR2lgB5A2"
      },
      "source": [
        "## ¿De cuántas filas hablamos?\n",
        "\n",
        "No es lo mismo una tabla con 100 filas que otra con 100.000.000. Si pedimos **todas** las filas de la tabla, en el segundo caso posiblemente no lleguemos a ver el resultado, porque el servidor se atascará.\n",
        "\n",
        "Así que la primera consulta que haremos será esta (que ya vimos antes):"
      ]
    },
    {
      "cell_type": "code",
      "metadata": {
        "colab": {
          "base_uri": "https://localhost:8080/"
        },
        "id": "dzhbHmZouxwk",
        "outputId": "75bd979f-acda-47e7-ac28-4f758a0860eb"
      },
      "source": [
        "%%sql \n",
        "SELECT COUNT(*) \n",
        "FROM data"
      ],
      "execution_count": null,
      "outputs": [
        {
          "output_type": "stream",
          "text": [
            "+----------+\n",
            "| COUNT(*) |\n",
            "+----------+\n",
            "|  256360  |\n",
            "+----------+\n"
          ],
          "name": "stdout"
        }
      ]
    },
    {
      "cell_type": "markdown",
      "metadata": {
        "id": "ZE94Ni1k9c3y"
      },
      "source": [
        "### Explicación\n",
        "\n",
        "**FROM data** significa que seleccionamos la tabla **data** para nuestra consulta.\n",
        "\n",
        "**SELECT COUNT(*)** significa *'mira cuántas filas hay y me lo dices'*.\n",
        "\n",
        "**SELECT** es la cláusula de selección, donde podemos poner una lista de campos o expresiones que queremos obtener de la consulta.\n",
        "\n",
        "**COUNT(*)** es una función de agregación. Normalmente se usa con los montoncitos que genera la cláusula **GROUP BY**, pero si no tenemos esta cláusula, se entiende que el montoncito es único e incluye todas las filas de la tabla.\n",
        "\n",
        "El asterisco **(*)** viene a significar **TODAS** las filas, pero no vamos a profundizar más aquí. Baste decir que la función COUNT() puede contar de varias maneras distintas, pero la más corriente es esta. "
      ]
    },
    {
      "cell_type": "markdown",
      "metadata": {
        "id": "3QJm5MhgCBjr"
      },
      "source": [
        "## ¿Qué columnas contiene?\n",
        "\n",
        "Aquí se trata de saber tanto el nombre de las columnas como una muestra de su contenido. Para ello nos basta (en principio) una pequeña muestra. Vamos con el SQL:"
      ]
    },
    {
      "cell_type": "code",
      "metadata": {
        "colab": {
          "base_uri": "https://localhost:8080/"
        },
        "id": "06yN-tttCjqA",
        "outputId": "a193fb39-03cd-473d-db4d-31657c289d02"
      },
      "source": [
        "%%sql\n",
        "\n",
        "SELECT * \n",
        "FROM data \n",
        "LIMIT 10"
      ],
      "execution_count": null,
      "outputs": [
        {
          "output_type": "stream",
          "text": [
            "+--------------+-------------+--------------+----------+--------------------+----------+\n",
            "| TipusCasData | ComarcaCodi | MunicipiCodi | SexeCodi | TipusCasDescripcio | NumCasos |\n",
            "+--------------+-------------+--------------+----------+--------------------+----------+\n",
            "|  2020-11-27  |      19     |    17114     |    0     |      Sospitós      |   135    |\n",
            "|  2020-11-27  |      09     |    43104     |    1     |      Sospitós      |    1     |\n",
            "|  2020-11-27  |      03     |    08013     |    0     |      Sospitós      |    1     |\n",
            "|  2020-11-27  |      07     |    08218     |    0     |      Sospitós      |    2     |\n",
            "|  2020-11-27  |      18     |    25058     |    0     |      Sospitós      |    3     |\n",
            "|  2020-11-27  |      11     |    08211     |    0     |      Sospitós      |    12    |\n",
            "|  2020-11-27  |      11     |    08001     |    0     |      Sospitós      |    4     |\n",
            "|  2020-11-27  |      28     |    17137     |    0     |      Sospitós      |    8     |\n",
            "|  2020-11-27  |      28     |    17056     |    0     |      Sospitós      |    1     |\n",
            "|  2020-11-27  |      09     |    43155     |    1     |      Sospitós      |    9     |\n",
            "+--------------+-------------+--------------+----------+--------------------+----------+\n"
          ],
          "name": "stdout"
        }
      ]
    },
    {
      "cell_type": "markdown",
      "metadata": {
        "id": "skLijAAhC1hq"
      },
      "source": [
        "### Explicación\n",
        "\n",
        "Vamos a señalar solo las cláusulas que incluyan novedades:\n",
        "\n",
        "* **LIMIT 10**: esto significa que solo queremos recuperar 10 filas. Total, queremos una degustación, tan solo tener una idea de lo que hay. Esta es una cláusula que no pusimos entre las básicas, la razón es que no es un estándar, cada fabricante usa una sintaxis. Esta es la que usa **sqlite**, la base de datos que estoy usando para este cuaderno. En el **SQL Server de Microsoft**, el comando sería ```SELECT TOP 10 ...```. No sé ahora si otros fabricantes tienen otras sintaxis para esto.\n",
        "\n",
        "* **SELECT ***: El asterisco aquí significa *'enséñame todas las columnas que haya en la tabla'*. Esta es la sintaxis más común para la cláusula **SELECT**. De hecho, la versión equivalente sería:\n",
        "\n",
        "```\n",
        "SELECT TipusCasData, ComarcaCodi, MunicipiCodi, \n",
        "       SexeCodi, TipusCasDescripcio, NumCasos\n",
        "FROM data\n",
        "LIMIT 10\n",
        "```\n",
        "\n",
        "lo que pone en evidencia el ahorro que conlleva usar el asterisco."
      ]
    },
    {
      "cell_type": "markdown",
      "metadata": {
        "id": "1dc_sIsrEqFz"
      },
      "source": [
        "## ¿Qué contiene cada columna?\n",
        "\n",
        "Esta tabla tiene la mayoría de sus campos codificados, así que es difícil a simple vista saber qué significa su contenido. Sin embargo, la cuestión es importante para entender los datos, así que tenemos que investigar un poco las columnas en concreto.\n",
        "\n",
        "De la muestra anterior, ya vemos que *TipusCasData* parece contener fechas: una primera prospección sería saber de qué rango de fechas hablamos, es decir, cuál es la mayor y cuál la menor. Para ello, tenemos las funciones de agregación **MIN(*campo*)** y **MAX(*campo*)**.\n",
        "\n",
        "Mira de construir la consulta correspondiente..."
      ]
    },
    {
      "cell_type": "code",
      "metadata": {
        "id": "f-zQKKzhF0hR"
      },
      "source": [
        "%%sql\n",
        "\n",
        "SELECT <rellena esto!>\n",
        "FROM data"
      ],
      "execution_count": null,
      "outputs": []
    },
    {
      "cell_type": "markdown",
      "metadata": {
        "id": "BUtvlS-0GDFz"
      },
      "source": [
        "### Solución"
      ]
    },
    {
      "cell_type": "code",
      "metadata": {
        "colab": {
          "base_uri": "https://localhost:8080/"
        },
        "id": "Nt-dVZ-OGGrm",
        "outputId": "378c3c17-1a4b-47dc-f787-5ca18bf859bf"
      },
      "source": [
        "%%sql\n",
        "\n",
        "SELECT MIN(TipusCasData), MAX(TipusCasData)\n",
        "FROM data"
      ],
      "execution_count": null,
      "outputs": [
        {
          "output_type": "stream",
          "text": [
            "+-------------------+-------------------+\n",
            "| MIN(TipusCasData) | MAX(TipusCasData) |\n",
            "+-------------------+-------------------+\n",
            "|     2020-02-26    |     2020-11-27    |\n",
            "+-------------------+-------------------+\n"
          ],
          "name": "stdout"
        }
      ]
    },
    {
      "cell_type": "markdown",
      "metadata": {
        "id": "McASYQeTGUDL"
      },
      "source": [
        "#### Explicación\n",
        "\n",
        "Ya sabemos algo importante de nuestra tabla: que contiene datos que van desde febrero hasta noviembre.\n",
        "\n",
        "Las funciones **MIN(), MAX()** son funciones de agregado, como **COUNT()** y, por tanto, funcionarían con los montoncitos generados por la cláusula **GROUP BY**, si existiera. Como dijimos, si no existe el motor de la base de datos entiende que toda la tabla es un mismo montoncito.\n",
        "\n",
        "Por esa misma razón, en esta consulta solo sale una fila de resultados: solo tenemos un montoncito, así que solo puede haber un valor máximo y mínimo del conjunto completo."
      ]
    },
    {
      "cell_type": "markdown",
      "metadata": {
        "id": "AUxoDQapHk0n"
      },
      "source": [
        "## ¿Cuántos valores distintos tiene una columna?\n",
        "\n",
        "Las columnas pueden contener datos muy variados. \n",
        "\n",
        "Puedes tener un mismo valor que se repite a menudo en las distintas filas (como, por ejemplo, el código de comarca), o puede ser que sea muy variado, como las cantidades de cada producto en un almacén.\n",
        "\n",
        "Por tanto, nos interesa distinguir los campos de código de los que contienen solo datos. Ya sabemos que tenemos más de 200.000 filas, ahora querríamos saber cuántos valores distintos tiene cada columna (al menos, en aquellas columnas que nos parecen mejores candidatas a ser columnas de códigos o *dimensiones*, como las llaman a veces).\n",
        "\n",
        "Veamos la consulta para esto (puedes probar a ejecutar con distintos campos y ver qué valores obtienes):"
      ]
    },
    {
      "cell_type": "code",
      "metadata": {
        "colab": {
          "base_uri": "https://localhost:8080/"
        },
        "id": "gp6ZvEibHvas",
        "outputId": "bab57d7e-1449-4630-d0ca-d0a26c30b7b6"
      },
      "source": [
        "%%sql\n",
        "\n",
        "SELECT COUNT(DISTINCT sexeCodi)\n",
        "FROM data"
      ],
      "execution_count": null,
      "outputs": [
        {
          "output_type": "stream",
          "text": [
            "+--------------------------+\n",
            "| COUNT(DISTINCT sexeCodi) |\n",
            "+--------------------------+\n",
            "|            2             |\n",
            "+--------------------------+\n"
          ],
          "name": "stdout"
        }
      ]
    },
    {
      "cell_type": "markdown",
      "metadata": {
        "id": "nsqLxVyEJeBI"
      },
      "source": [
        "### Explicación\n",
        "\n",
        "**COUNT(DISTINCT expresion)**: Esta es una de las variaciones que tiene la función **COUNT()**. Lo que significa el **DISTINCT** es *'calcula para cada fila la expresión dada, y cuenta cuántos valores distintos se obtienen'*. *Expresion* a menudo es el nombre de la columna, pero podría ser cualquier expresión más complicada (por ejemplo, contar cuántos valores de la columna X empiezan por la misma letra)."
      ]
    },
    {
      "cell_type": "markdown",
      "metadata": {
        "id": "Jz8YadacKxgZ"
      },
      "source": [
        "## ¿Y qué valores en concreto tiene una columna?\n",
        "\n",
        "Para aquellas columnas con pinta de códigos, podemos obtener una lista de valores de una forma muy simple. Tomemos, por ejempo, la columna *TipusCasDescripcio*, un caso interesante porque tiene pocos valores y, además, no vienen codificados."
      ]
    },
    {
      "cell_type": "code",
      "metadata": {
        "colab": {
          "base_uri": "https://localhost:8080/"
        },
        "id": "QLTyFyuZLYKQ",
        "outputId": "a89db935-21dd-4fc3-b392-dbfcd64a0385"
      },
      "source": [
        "%%sql lalign  ## lalign no es más que un indicador para que alinee los resultados a la izquierda\n",
        "\n",
        "SELECT DISTINCT TipusCasDescripcio\n",
        "FROM data\n",
        "LIMIT 100"
      ],
      "execution_count": null,
      "outputs": [
        {
          "output_type": "stream",
          "text": [
            "+------------------------+\n",
            "| TipusCasDescripcio     |\n",
            "+------------------------+\n",
            "| Sospitós               |\n",
            "| Positiu PCR            |\n",
            "| Positiu per ELISA      |\n",
            "| PCR probable           |\n",
            "| Positiu per Test Ràpid |\n",
            "| Epidemiològic          |\n",
            "+------------------------+\n"
          ],
          "name": "stdout"
        }
      ]
    },
    {
      "cell_type": "markdown",
      "metadata": {
        "id": "pXk3zaoZL0X8"
      },
      "source": [
        "### Explicación\n",
        "\n",
        "* **SELECT DISTINCT**: Devuelve la colección de filas encontradas, pero descartando las que sean iguales. En las columnas que corresponden a dimensiones, estos valores son limitados, así que podemos hacer un **SELECT** sin miedo a devolver miles de filas. Sin embargo, siempre que hacemos prospección es bueno cubrirse con una cláusula **LIMIT n** por si las moscas."
      ]
    },
    {
      "cell_type": "markdown",
      "metadata": {
        "id": "Te5ZvmNvMu-Z"
      },
      "source": [
        "# Otras tablas\n",
        "\n",
        "Hemos visto que tenemos columnas con códigos (que no sabemos en principio qué significan) y otra (*TipusCasDescripcio*) que viene con códigos legibles.\n",
        "\n",
        "En una base de datos suele hacerse un proceso que se llama normalización, y que consiste en crear tablas con los códigos y descripciones correspondientes a una columna de la tabla principal, donde solo vienen los códigos. El SQL permite hacer una consulta que combine los datos de todas esas tablas.\n",
        "\n",
        "Pero primero hay que saber qué tablas son. "
      ]
    },
    {
      "cell_type": "code",
      "metadata": {
        "colab": {
          "base_uri": "https://localhost:8080/"
        },
        "id": "diNBUJwzNp-r",
        "outputId": "63789249-9928-4d3e-86bf-b9c1b27ed7e8"
      },
      "source": [
        "%%sql \n",
        "\n",
        "SELECT name\n",
        "FROM sqlite_master \n",
        "WHERE type = 'table' AND name != 'data'"
      ],
      "execution_count": null,
      "outputs": [
        {
          "output_type": "stream",
          "text": [
            "+-----------+\n",
            "|    name   |\n",
            "+-----------+\n",
            "| Municipis |\n",
            "|  Comarcas |\n",
            "|    Sexe   |\n",
            "|    data   |\n",
            "+-----------+\n"
          ],
          "name": "stdout"
        }
      ]
    },
    {
      "cell_type": "markdown",
      "metadata": {
        "id": "gys7Q4RtOWUZ"
      },
      "source": [
        "### Explicación\n",
        "\n",
        "* **WHERE ... name != 'data'**: comento esto - se trata de que nos muestre todas las tablas menos la que se llama *data*, que ya sabemos que es la principal, con la que hemos estado trabajando hasta ahora. Puedes jugar a cambiar cosas en la consulta para ver qué otras cosas hay en esta tabla de sistema\n",
        "\n",
        "#### Tablas de sistema\n",
        "\n",
        "Todo sistema de base de datos guarda información sobre sí misma en tablas que es posible consultar. El único problema es que esas tablas de sistema no están estandarizadas, de modo que cada fabricante las implementa según su criterio.\n",
        "\n",
        "En el caso de *Sqlite*, tenemos la tabla **sqlite_master**, que hemos usado aquí.\n",
        "\n",
        "Para *Oracle*, tenemos **all_tables** y **user_tables**, entre otras.\n",
        "\n",
        "En *SQL Server*, está **SYSOBJECTS**.\n",
        "\n",
        "En fin, que hay que estudiar cada caso por separado para saber dónde están los metadatos de cada sistema.\n"
      ]
    },
    {
      "cell_type": "markdown",
      "metadata": {
        "id": "FWytR6RmQrR6"
      },
      "source": [
        "### Inspección de tablas asociadas\n",
        "\n",
        "Ahora puedes dedicar un momento a consultar el contenido de estas tablas. Ten cuidado de ver el número de filas primero, o de mantener una cláusula **LIMIT** para más seguridad."
      ]
    },
    {
      "cell_type": "code",
      "metadata": {
        "id": "u0l7XriuRAb6"
      },
      "source": [
        "%%sql lalign\n",
        "\n",
        "SELECT * \n",
        "FROM Municipis\n",
        "LIMIT 100"
      ],
      "execution_count": null,
      "outputs": []
    },
    {
      "cell_type": "markdown",
      "metadata": {
        "id": "jwWRdrhDSvsS"
      },
      "source": [
        "# Usar vistas en SQL\n",
        "\n",
        "Tener una base de datos normalizada tiene muchas ventajas: se evita repetir información, se reduce el tamaño y se evita que haya información defectuosa (nadie escribirá *Barcelona* en un sitio y *Bcn* en otro, por ejemplo). Sin embargo, tiene un inconveniente serio, y es que las consultas se complicarán, si queremos sacar información legible.\n",
        "\n",
        "Para ello, SQL permite combinar tablas, algo que veremos más adelante. Lo que veremos ahora es que esas consultas complejas se pueden guardar dándoles un nombre y usarlas como si fueran tablas, lo que es especialmente conveniente. En este caso, tenemos una tabla llamada **vista** que nos ahorrará (por ahora) el tener que saber cómo se combinan las distintas tablas. El resultado:"
      ]
    },
    {
      "cell_type": "code",
      "metadata": {
        "colab": {
          "base_uri": "https://localhost:8080/"
        },
        "id": "KW14qAzyU3nI",
        "outputId": "a2a75331-8c35-403f-fff2-a25f663d24d9"
      },
      "source": [
        "%%sql\n",
        "SELECT *\n",
        "FROM vista\n",
        "LIMIT 10"
      ],
      "execution_count": null,
      "outputs": [
        {
          "output_type": "stream",
          "text": [
            "+--------------+-------------+-------------------+--------------+--------------------------+----------+----------------+--------------------+----------+\n",
            "| TipusCasData | ComarcaCodi | ComarcaDescripcio | MunicipiCodi |    MunicipiDescripcio    | SexeCodi | SexeDescripcio | TipusCasDescripcio | NumCasos |\n",
            "+--------------+-------------+-------------------+--------------+--------------------------+----------+----------------+--------------------+----------+\n",
            "|  2020-11-27  |      19     |      Garrotxa     |    17114     |           Olot           |    0     |      Home      |      Sospitós      |   135    |\n",
            "|  2020-11-27  |      09     |     Baix Ebre     |    43104     |        El Perelló        |    1     |      Dona      |      Sospitós      |    1     |\n",
            "|  2020-11-27  |      03     |    Alt Penedès    |    08013     |  Avinyonet del Penedès   |    0     |      Home      |      Sospitós      |    1     |\n",
            "|  2020-11-27  |      07     |       Bages       |    08218     | Sant Joan de Vilatorrada |    0     |      Home      |      Sospitós      |    2     |\n",
            "|  2020-11-27  |      18     |     Garrigues     |    25058     |   Les Borges Blanques    |    0     |      Home      |      Sospitós      |    3     |\n",
            "|  2020-11-27  |      11     |   Baix Llobregat  |    08211     | Sant Feliu de Llobregat  |    0     |      Home      |      Sospitós      |    12    |\n",
            "|  2020-11-27  |      11     |   Baix Llobregat  |    08001     |          Abrera          |    0     |      Home      |      Sospitós      |    4     |\n",
            "|  2020-11-27  |      28     |  Pla de l'Estany  |    17137     |        Porqueres         |    0     |      Home      |      Sospitós      |    8     |\n",
            "|  2020-11-27  |      28     |  Pla de l'Estany  |    17056     |    Cornellà del Terri    |    0     |      Home      |      Sospitós      |    1     |\n",
            "|  2020-11-27  |      09     |     Baix Ebre     |    43155     |         Tortosa          |    1     |      Dona      |      Sospitós      |    9     |\n",
            "+--------------+-------------+-------------------+--------------+--------------------------+----------+----------------+--------------------+----------+\n"
          ],
          "name": "stdout"
        }
      ]
    },
    {
      "cell_type": "markdown",
      "metadata": {
        "id": "nKIFGSuvVSlL"
      },
      "source": [
        "# Las cláusulas SQL en detalle\n",
        "\n",
        "Veremos ahora las cláusulas SQL, en el orden en que las usa el motor de cualquier base de datos, mirando sus variaciones."
      ]
    },
    {
      "cell_type": "markdown",
      "metadata": {
        "id": "vRzd7WjDWj0i"
      },
      "source": [
        "## Cláusula FROM\n",
        "\n",
        "**FROM tabla**: esta cláusula, como dijimos, es la que inicia la consulta. Su función es seleccionar la tabla (o conjuntos de tablas) de las que vamos a sacar los datos.\n",
        "\n",
        "La verdadera complejidad de esta cláusula aparecerá cuando se combinen varias tablas, cosa que no vamos a hacer todavía.\n",
        "\n",
        "De momento nos basta con saber que es el primer paso que hace el motor de datos al ejecutar una consulta SQL: seleccionar la fuente de los datos.\n",
        "\n"
      ]
    },
    {
      "cell_type": "markdown",
      "metadata": {
        "id": "BE_OwFMesXgH"
      },
      "source": [
        "## Cláusula WHERE\n",
        "\n",
        "**WHERE (expresion lógica)**: la cláusula **WHERE** se ejecuta para cada fila de la tabla seleccionada con **FROM**. La *expresión lógica* puede ser una combinación de operaciones que usualmente combina datos de los campos y devuelve un valor **Verdadero** o **Falso**, en función del cual la fila pasará (o no) este primer filtro de la consulta.\n",
        "\n",
        "### Ejemplos de expresiones lógicas\n",
        "\n",
        "#### Operadores de comparación y lógicos\n",
        "\n",
        "Los típicos operadores que tenemos en matemáticas: &lt;, &gt; =, != (distinto), y los lógicos, que en SQL son **AND, OR y NOT**.\n",
        "* **numCasos >= 100**: deja pasar las filas que tengan más de 100 en el campo *NumCasos*.\n",
        "* **numCasos >= 100 AND SexeDescripcio = 'Home'**: deja pasar las filas que cumplan lad dos condiciones: que tengan más de 100 en el campo *NumCasos* y ek valor 'Home' en el campo *SexeDescripció'.\n",
        "* **TipusCasDescripció = 'Sospitós'**: pasan solo las filas que tengan el valor *'Sospitós'* en el campo *TipusCasDescripció*.\n",
        "\n",
        "#### BETWEEN: operador de rango\n",
        "\n",
        "Sirve para filtrar valores que estén entre un valor mínimo y máximo.\n",
        "* **TipusCasData BETWEEN '2020-10-01' AND '2020-11-01'**: recupera sólo las filas del mes de noviembre.\n",
        "\n",
        "#### LIKE: operador de comparación\n",
        "\n",
        "El operador **LIKE** compara el valor de texto de un campo con una determinada plantilla. Los caracteres '%' y '_' se usan como comodines:\n",
        "* **%** representa a un número variable de caracteres\n",
        "* **_** representa a un solo carácter\n",
        "\n",
        "Así, por ejemplo:\n",
        "* **ComarcaDescripcio LIKE 'S%'**: recupera las filas cuya *'ComarcaDescripcio'* empieza por 'S'.\n",
        "* **ComarcaDescripcio LIKE '%x%'**: filas que contengan el carácter *'x'* en el campo *'ComarcaDescripcio'*.\n",
        "\n"
      ]
    },
    {
      "cell_type": "code",
      "metadata": {
        "colab": {
          "base_uri": "https://localhost:8080/"
        },
        "id": "Xzl9s56qYbj8",
        "outputId": "344bbbd8-e86e-4cce-e669-b4cc33665cdd"
      },
      "source": [
        "%%sql\n",
        "\n",
        "SELECT *\n",
        "FROM Comarcas\n",
        "WHERE ComarcaDescripcio LIKE '%x%'\n",
        "LIMIT 10;\n"
      ],
      "execution_count": null,
      "outputs": [
        {
          "output_type": "stream",
          "text": [
            "+-------------+-------------------+\n",
            "| ComarcaCodi | ComarcaDescripcio |\n",
            "+-------------+-------------------+\n",
            "|      19     |      Garrotxa     |\n",
            "|      09     |     Baix Ebre     |\n",
            "|      11     |   Baix Llobregat  |\n",
            "|      08     |     Baix Camp     |\n",
            "|      12     |    Baix Penedès   |\n",
            "|      10     |    Baix Empordà   |\n",
            "+-------------+-------------------+\n"
          ],
          "name": "stdout"
        }
      ]
    },
    {
      "cell_type": "markdown",
      "metadata": {
        "id": "5LMss9KVyfXE"
      },
      "source": [
        "### Ejemplo WHERE\n",
        "\n",
        "Seleccionar las filas que contengan más de 500 casos de *'Positiu PCR'* durante Octubre."
      ]
    },
    {
      "cell_type": "code",
      "metadata": {
        "id": "smwIUYxo1LI0"
      },
      "source": [
        "%%sql\n",
        "\n",
        "SELECT *\n",
        "FROM vista\n",
        "WHERE (tu condición lógica aquí)"
      ],
      "execution_count": null,
      "outputs": []
    },
    {
      "cell_type": "markdown",
      "metadata": {
        "id": "7Bc00Rkv1Zs6"
      },
      "source": [
        "### Solución"
      ]
    },
    {
      "cell_type": "code",
      "metadata": {
        "colab": {
          "base_uri": "https://localhost:8080/"
        },
        "id": "E_owJvdtYtZn",
        "outputId": "1de19d4d-1642-4b8b-e170-d1fa4d33ca70"
      },
      "source": [
        "%%sql\n",
        "\n",
        "SELECT * \n",
        "FROM vista\n",
        "WHERE NumCasos > 500 \n",
        "      AND \n",
        "      TipusCasDescripcio = 'Positiu PCR' \n",
        "      AND \n",
        "      TipusCasData BETWEEN '2020-10-01' AND '2020-11-01'\n",
        "LIMIT 50;"
      ],
      "execution_count": null,
      "outputs": [
        {
          "output_type": "stream",
          "text": [
            "+--------------+-------------+-------------------+--------------+--------------------+----------+----------------+--------------------+----------+\n",
            "| TipusCasData | ComarcaCodi | ComarcaDescripcio | MunicipiCodi | MunicipiDescripcio | SexeCodi | SexeDescripcio | TipusCasDescripcio | NumCasos |\n",
            "+--------------+-------------+-------------------+--------------+--------------------+----------+----------------+--------------------+----------+\n",
            "|  2020-10-30  |      13     |     Barcelonès    |    08019     |     Barcelona      |    1     |      Dona      |    Positiu PCR     |   605    |\n",
            "|  2020-10-29  |      13     |     Barcelonès    |    08019     |     Barcelona      |    1     |      Dona      |    Positiu PCR     |   509    |\n",
            "|  2020-10-28  |      13     |     Barcelonès    |    08019     |     Barcelona      |    1     |      Dona      |    Positiu PCR     |   609    |\n",
            "|  2020-10-28  |      13     |     Barcelonès    |    08019     |     Barcelona      |    0     |      Home      |    Positiu PCR     |   544    |\n",
            "|  2020-10-27  |      13     |     Barcelonès    |    08019     |     Barcelona      |    1     |      Dona      |    Positiu PCR     |   677    |\n",
            "|  2020-10-27  |      13     |     Barcelonès    |    08019     |     Barcelona      |    0     |      Home      |    Positiu PCR     |   601    |\n",
            "|  2020-10-26  |      13     |     Barcelonès    |    08019     |     Barcelona      |    1     |      Dona      |    Positiu PCR     |   545    |\n",
            "|  2020-10-23  |      13     |     Barcelonès    |    08019     |     Barcelona      |    0     |      Home      |    Positiu PCR     |   586    |\n",
            "|  2020-10-23  |      13     |     Barcelonès    |    08019     |     Barcelona      |    1     |      Dona      |    Positiu PCR     |   659    |\n",
            "|  2020-10-22  |      13     |     Barcelonès    |    08019     |     Barcelona      |    0     |      Home      |    Positiu PCR     |   582    |\n",
            "|  2020-10-22  |      13     |     Barcelonès    |    08019     |     Barcelona      |    1     |      Dona      |    Positiu PCR     |   725    |\n",
            "|  2020-10-21  |      13     |     Barcelonès    |    08019     |     Barcelona      |    1     |      Dona      |    Positiu PCR     |   760    |\n",
            "|  2020-10-21  |      13     |     Barcelonès    |    08019     |     Barcelona      |    0     |      Home      |    Positiu PCR     |   650    |\n",
            "|  2020-10-20  |      13     |     Barcelonès    |    08019     |     Barcelona      |    0     |      Home      |    Positiu PCR     |   530    |\n",
            "|  2020-10-20  |      13     |     Barcelonès    |    08019     |     Barcelona      |    1     |      Dona      |    Positiu PCR     |   567    |\n",
            "|  2020-10-16  |      13     |     Barcelonès    |    08019     |     Barcelona      |    1     |      Dona      |    Positiu PCR     |   515    |\n",
            "|  2020-10-15  |      13     |     Barcelonès    |    08019     |     Barcelona      |    1     |      Dona      |    Positiu PCR     |   544    |\n",
            "+--------------+-------------+-------------------+--------------+--------------------+----------+----------------+--------------------+----------+\n"
          ],
          "name": "stdout"
        }
      ]
    },
    {
      "cell_type": "markdown",
      "metadata": {
        "id": "4fdZIrVP2gOK"
      },
      "source": [
        "## Cláusula SELECT\n",
        "\n",
        "Dejaremos las cláusulas **GROUP BY** y **HAVING** para más adelante, ya que pertenecen a una clase diferente de consulta SQL respecto de las que hemos visto hasta ahora. Hay dos tipos de consultas SQL:\n",
        "\n",
        "* **Consultas de detalle**: se devuelven todas o parte de las filas originales, ya sean las columnas existentes u otras calculadas *ad hoc*.\n",
        "* **Consultas de agregación**: se devuelven filas con datos sumarizados, es decir, correspondientes a los distintos grupos creados a partir de las filas originales.\n",
        "\n",
        "La cláusula **SELECT** se usa para definir qué columnas queremos ver en el resultado final.\n",
        "\n"
      ]
    },
    {
      "cell_type": "markdown",
      "metadata": {
        "id": "M_M4DAfE0yF-"
      },
      "source": [
        "## Cláusula ORDER BY\n",
        "\n",
        "\n",
        "\n",
        "La cláusula **ORDER BY"
      ]
    }
  ]
}