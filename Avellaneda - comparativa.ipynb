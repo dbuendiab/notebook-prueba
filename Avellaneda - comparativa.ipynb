{
 "metadata": {
  "name": "",
  "signature": "sha256:5d6ea113efbacdf235eded2b82c8cc85dd8185f4e0fc97a5b77b48b81900aedf"
 },
 "nbformat": 3,
 "nbformat_minor": 0,
 "worksheets": [
  {
   "cells": [
    {
     "cell_type": "markdown",
     "metadata": {},
     "source": [
      "# COMPARACI\u00d3N El Quijote, partes 1 y 2, con El Quijote de Avellaneda"
     ]
    },
    {
     "cell_type": "code",
     "collapsed": false,
     "input": [
      "import codecs\n",
      "textoQ12 = codecs.open(\"dQ12.txt\",\"r\",\"utf-8\").read().lower()\n",
      "textoQA = codecs.open(\"dQA.txt\",\"r\",\"cp1252\").read().lower()"
     ],
     "language": "python",
     "metadata": {},
     "outputs": [],
     "prompt_number": 2
    },
    {
     "cell_type": "heading",
     "level": 2,
     "metadata": {},
     "source": [
      "Partici\u00f3n de los textos por palabras"
     ]
    },
    {
     "cell_type": "code",
     "collapsed": false,
     "input": [
      "import re\n",
      "patron = re.compile(\"\\W+\")\n",
      "listaQ12 = patron.split(textoQ12)\n",
      "listaQA = patron.split(textoQA)\n",
      "\n",
      "## Suprime entradas en blanco y num\u00e9ricas ----\n",
      "listaQ12 = [x for x in listaQ12 if x >= 'a']\n",
      "listaQA = [x for x in listaQA if x >= 'a']"
     ],
     "language": "python",
     "metadata": {},
     "outputs": [],
     "prompt_number": 6
    },
    {
     "cell_type": "markdown",
     "metadata": {},
     "source": [
      "* En el texto de Cervantes hay 377K palabras, m\u00e1s del doble que en el de Avellaneda (138K)"
     ]
    },
    {
     "cell_type": "code",
     "collapsed": false,
     "input": [
      "print(\"Palabras en Q12:\", len(listaQ12), \"en QA:\", len(listaQA), \"Ratio:\", len(listaQ12)/ len(listaQA))"
     ],
     "language": "python",
     "metadata": {},
     "outputs": [
      {
       "output_type": "stream",
       "stream": "stdout",
       "text": [
        "Palabras en Q12: 377269 en QA: 138584 Ratio: 2.7223128211048895\n"
       ]
      }
     ],
     "prompt_number": 7
    },
    {
     "cell_type": "heading",
     "level": 2,
     "metadata": {},
     "source": [
      "Relaci\u00f3n de palabras \u00fanicas"
     ]
    },
    {
     "cell_type": "markdown",
     "metadata": {},
     "source": [
      "La instrucci\u00f3n ```set()``` crea una lista eliminando los duplicados."
     ]
    },
    {
     "cell_type": "code",
     "collapsed": false,
     "input": [
      "setQ12 = set(listaQ12)\n",
      "setQA = set(listaQA)"
     ],
     "language": "python",
     "metadata": {},
     "outputs": [],
     "prompt_number": 8
    },
    {
     "cell_type": "markdown",
     "metadata": {},
     "source": [
      "* El l\u00e9xico de Cervantes es mayor que el de Avellaneda en un ratio 1.76:1"
     ]
    },
    {
     "cell_type": "code",
     "collapsed": false,
     "input": [
      "print(\"Palabras DISTINTAS en Q12:\", len(setQ12), \"en QA:\", len(setQA), \"Ratio:\", len(setQ12) / len(setQA))"
     ],
     "language": "python",
     "metadata": {},
     "outputs": [
      {
       "output_type": "stream",
       "stream": "stdout",
       "text": [
        "Palabras DISTINTAS en Q12: 22646 en QA: 12854 Ratio: 1.7617862144079663\n"
       ]
      }
     ],
     "prompt_number": 53
    },
    {
     "cell_type": "markdown",
     "metadata": {},
     "source": [
      "* Palabras distintas relativas al total: aqu\u00ed Avellaneda gana (casi 1 palabra nueva de cada 10, por 0.6 de cada diez en Cervantes)\n",
      "\n",
      "*De todos modos esta comparativa es enga\u00f1osa, porque son textos de longitudes distintas y la mayor longitud penaliza.*"
     ]
    },
    {
     "cell_type": "code",
     "collapsed": false,
     "input": [
      "len(setQ12) / len(listaQ12), len(setQA) / len(listaQA)"
     ],
     "language": "python",
     "metadata": {},
     "outputs": [
      {
       "metadata": {},
       "output_type": "pyout",
       "prompt_number": 54,
       "text": [
        "(0.06002533967355291, 0.09274705610713462)"
       ]
      }
     ],
     "prompt_number": 54
    },
    {
     "cell_type": "heading",
     "level": 2,
     "metadata": {},
     "source": [
      "Palabras m\u00e1s frecuentes"
     ]
    },
    {
     "cell_type": "markdown",
     "metadata": {},
     "source": [
      "El objeto ```Counter``` hace el recuento de las repeticiones"
     ]
    },
    {
     "cell_type": "code",
     "collapsed": false,
     "input": [
      "from collections import Counter\n",
      "cntQ12 = Counter(listaQ12)\n",
      "cntQA = Counter(listaQA)"
     ],
     "language": "python",
     "metadata": {},
     "outputs": [],
     "prompt_number": 55
    },
    {
     "cell_type": "markdown",
     "metadata": {},
     "source": [
      "Las 50 palabras m\u00e1s frecuentes en uno y otro texto. El valor 100 est\u00e1 normalizado representando a la palabra m\u00e1s repetida."
     ]
    },
    {
     "cell_type": "code",
     "collapsed": false,
     "input": [
      "num_words_Q12 = len(listaQ12)\n",
      "num_words_QA = len(listaQA)\n",
      "\n",
      "max_Q12 = None\n",
      "max_QA = None\n",
      "\n",
      "print(\"\\t        Q12\\t\\t          QA\")\n",
      "print(\"-\" * 60)\n",
      "\n",
      "for i in range(100):\n",
      "    word_Q12, freq_Q12 = cntQ12.most_common()[i]\n",
      "    word_QA, freq_QA = cntQA.most_common()[i]\n",
      "    \n",
      "    if max_Q12 is None and max_QA is None:\n",
      "        max_Q12 = freq_Q12\n",
      "        max_QA = freq_QA\n",
      "    \n",
      "    print(\"%3s: %10s -> %5s (%.0f) %10s -> %5s (%.0f)\" % (i+1, \n",
      "                                                          word_Q12, \n",
      "                                                          freq_Q12, \n",
      "                                                          100 * freq_Q12 // max_Q12, \n",
      "                                                          word_QA, \n",
      "                                                          freq_QA, \n",
      "                                                          100 *freq_QA // max_QA))"
     ],
     "language": "python",
     "metadata": {},
     "outputs": [
      {
       "output_type": "stream",
       "stream": "stdout",
       "text": [
        "\t        Q12\t\t          QA\n",
        "------------------------------------------------------------\n",
        "  1:        que -> 20464 (100)         de ->  6878 (100)\n",
        "  2:          y -> 17992 (87)        que ->  6593 (95)"
       ]
      },
      {
       "output_type": "stream",
       "stream": "stdout",
       "text": [
        "\n",
        "  3:         de -> 17983 (87)          y ->  6050 (87)\n",
        "  4:         la -> 10244 (50)         la ->  3857 (56)\n",
        "  5:          a ->  9723 (47)          a ->  3764 (54)"
       ]
      },
      {
       "output_type": "stream",
       "stream": "stdout",
       "text": [
        "\n",
        "  6:         en ->  8154 (39)         en ->  3176 (46)\n",
        "  7:         el ->  8104 (39)         el ->  2608 (37)\n",
        "  8:         no ->  6290 (30)        con ->  2116 (30)"
       ]
      },
      {
       "output_type": "stream",
       "stream": "stdout",
       "text": [
        "\n",
        "  9:        los ->  4706 (22)        por ->  1679 (24)\n",
        " 10:         se ->  4652 (22)         no ->  1652 (24)\n",
        " 11:        con ->  4169 (20)        los ->  1487 (21)"
       ]
      },
      {
       "output_type": "stream",
       "stream": "stdout",
       "text": [
        "\n",
        " 12:        por ->  3873 (18)         le ->  1448 (21)\n",
        " 13:        las ->  3443 (16)         se ->  1385 (20)\n",
        " 14:         lo ->  3419 (16)         su ->  1335 (19)"
       ]
      },
      {
       "output_type": "stream",
       "stream": "stdout",
       "text": [
        "\n",
        " 15:         le ->  3383 (16)        don ->  1143 (16)\n",
        " 16:         su ->  3332 (16)        las ->  1117 (16)\n",
        " 17:        don ->  2627 (12)         lo ->  1107 (16)"
       ]
      },
      {
       "output_type": "stream",
       "stream": "stdout",
       "text": [
        "\n",
        " 18:        del ->  2450 (11)         me ->   907 (13)\n",
        " 19:         me ->  2337 (11)        del ->   894 (12)\n",
        " 20:       como ->  2248 (10)       como ->   789 (11)"
       ]
      },
      {
       "output_type": "stream",
       "stream": "stdout",
       "text": [
        "\n",
        " 21:    quijote ->  2156 (10)     sancho ->   785 (11)\n",
        " 22:     sancho ->  2144 (10)         un ->   770 (11)\n",
        " 23:         es ->  2128 (10)       para ->   766 (11)"
       ]
      },
      {
       "output_type": "stream",
       "stream": "stdout",
       "text": [
        "\n",
        " 24:         yo ->  2071 (10)    quijote ->   746 (10)\n",
        " 25:        m\u00e1s ->  2030 (9)         mi ->   712 (10)\n",
        " 26:         si ->  1953 (9)         es ->   679 (9)"
       ]
      },
      {
       "output_type": "stream",
       "stream": "stdout",
       "text": [
        "\n",
        " 27:         un ->  1925 (9)         si ->   662 (9)\n",
        " 28:       dijo ->  1807 (8)       dijo ->   635 (9)\n",
        " 29:         al ->  1711 (8)         al ->   587 (8)"
       ]
      },
      {
       "output_type": "stream",
       "stream": "stdout",
       "text": [
        "\n",
        " 30:         mi ->  1694 (8)         yo ->   575 (8)\n",
        " 31:       para ->  1428 (6)         \u00e9l ->   558 (8)\n",
        " 32:     porque ->  1393 (6)        m\u00e1s ->   558 (8)"
       ]
      },
      {
       "output_type": "stream",
       "stream": "stdout",
       "text": [
        "\n",
        " 33:         ni ->  1353 (6)        una ->   550 (7)\n",
        " 34:        una ->  1327 (6)     merced ->   539 (7)\n",
        " 35:         \u00e9l ->  1268 (6)       pues ->   528 (7)"
       ]
      },
      {
       "output_type": "stream",
       "stream": "stdout",
       "text": [
        "\n",
        " 36:        tan ->  1236 (6)      vuesa ->   493 (7)\n",
        " 37:          o ->  1199 (5)      se\u00f1or ->   489 (7)\n",
        " 38:       todo ->  1176 (5)        tan ->   469 (6)"
       ]
      },
      {
       "output_type": "stream",
       "stream": "stdout",
       "text": [
        "\n",
        " 39:        sin ->  1150 (5)         ha ->   412 (5)\n",
        " 40:  respondi\u00f3 ->  1062 (5)      todos ->   406 (5)\n",
        " 41:        as\u00ed ->  1058 (5)        sin ->   402 (5)"
       ]
      },
      {
       "output_type": "stream",
       "stream": "stdout",
       "text": [
        "\n",
        " 42:        ser ->  1053 (5)      hab\u00eda ->   400 (5)\n",
        " 43:      se\u00f1or ->  1051 (5)       cual ->   394 (5)\n",
        " 44:         ha ->  1048 (5)        sus ->   380 (5)"
       ]
      },
      {
       "output_type": "stream",
       "stream": "stdout",
       "text": [
        "\n",
        " 45:       bien ->  1041 (5)     porque ->   362 (5)\n",
        " 46:        sus ->  1036 (5)          o ->   362 (5)\n",
        " 47:      hab\u00eda ->  1032 (5)       todo ->   356 (5)"
       ]
      },
      {
       "output_type": "stream",
       "stream": "stdout",
       "text": [
        "\n",
        " 48:       pero ->  1015 (4)       pero ->   356 (5)\n",
        " 49:     merced ->   895 (4)       bien ->   354 (5)\n",
        " 50:       esto ->   885 (4)       ella ->   332 (4)\n",
        " 51:       pues ->   855 (4)         ya ->   326 (4)"
       ]
      },
      {
       "output_type": "stream",
       "stream": "stdout",
       "text": [
        "\n",
        " 52:    vuestra ->   849 (4)       esto ->   289 (4)\n",
        " 53:        qu\u00e9 ->   842 (4)  caballero ->   273 (3)\n",
        " 54:      todos ->   816 (3)      quien ->   272 (3)"
       ]
      },
      {
       "output_type": "stream",
       "stream": "stdout",
       "text": [
        "\n",
        " 55:         ya ->   783 (3)       esta ->   267 (3)\n",
        " 56:     cuando ->   752 (3)      hacer ->   267 (3)\n",
        " 57:        era ->   752 (3)        qu\u00e9 ->   263 (3)"
       ]
      },
      {
       "output_type": "stream",
       "stream": "stdout",
       "text": [
        "\n",
        " 58:         te ->   717 (3)         ni ->   262 (3)\n",
        " 59:       sino ->   694 (3)       casa ->   260 (3)\n",
        " 60:       cual ->   690 (3)        muy ->   255 (3)"
       ]
      },
      {
       "output_type": "stream",
       "stream": "stdout",
       "text": [
        "\n",
        " 61:        dos ->   683 (3)        as\u00ed ->   246 (3)\n",
        " 62:      donde ->   673 (3)        dos ->   242 (3)\n",
        " 63:  caballero ->   656 (3)         os ->   239 (3)"
       ]
      },
      {
       "output_type": "stream",
       "stream": "stdout",
       "text": [
        "\n",
        " 64:        fue ->   641 (3)        era ->   237 (3)\n",
        " 65:       este ->   636 (3)       dios ->   236 (3)\n",
        " 66:      quien ->   614 (3)       aqu\u00ed ->   230 (3)"
       ]
      },
      {
       "output_type": "stream",
       "stream": "stdout",
       "text": [
        "\n",
        " 67:       esta ->   612 (2)      luego ->   229 (3)\n",
        " 68:       ella ->   599 (2)        ser ->   225 (3)\n",
        " 69:      decir ->   576 (2)   diciendo ->   224 (3)"
       ]
      },
      {
       "output_type": "stream",
       "stream": "stdout",
       "text": [
        "\n",
        " 70:         he ->   533 (2)        les ->   223 (3)\n",
        " 71:      hacer ->   531 (2)     cuando ->   220 (3)\n",
        " 72:       dios ->   529 (2)       este ->   210 (3)"
       ]
      },
      {
       "output_type": "stream",
       "stream": "stdout",
       "text": [
        "\n",
        " 73:        muy ->   529 (2)        nos ->   205 (2)\n",
        " 74:     aunque ->   528 (2)  respondi\u00f3 ->   203 (2)\n",
        " 75:     se\u00f1ora ->   515 (2)     estaba ->   188 (2)"
       ]
      },
      {
       "output_type": "stream",
       "stream": "stdout",
       "text": [
        "\n",
        " 76:       aqu\u00ed ->   515 (2)       mano ->   188 (2)\n",
        " 77:       otro ->   509 (2)     \u00e1lvaro ->   186 (2)\n",
        " 78:       otra ->   506 (2)      hecho ->   185 (2)"
       ]
      },
      {
       "output_type": "stream",
       "stream": "stdout",
       "text": [
        "\n",
        " 79:         m\u00ed ->   499 (2)       poco ->   184 (2)\n",
        " 80:      aquel ->   485 (2)         he ->   179 (2)\n",
        " 81:        son ->   482 (2)       c\u00f3mo ->   176 (2)"
       ]
      },
      {
       "output_type": "stream",
       "stream": "stdout",
       "text": [
        "\n",
        " 82:     estaba ->   477 (2)       tras ->   173 (2)\n",
        " 83:        hay ->   470 (2)         m\u00ed ->   172 (2)\n",
        " 84:         os ->   459 (2)      hasta ->   168 (2)"
       ]
      },
      {
       "output_type": "stream",
       "stream": "stdout",
       "text": [
        "\n",
        " 85:        mal ->   456 (2)        fue ->   167 (2)\n",
        " 86:      sobre ->   449 (2) caballeros ->   165 (2)\n",
        " 87:       cosa ->   442 (2)      reina ->   163 (2)"
       ]
      },
      {
       "output_type": "stream",
       "stream": "stdout",
       "text": [
        "\n",
        " 88:        nos ->   440 (2)       vida ->   155 (2)\n",
        " 89:       buen ->   438 (2)      aquel ->   151 (2)\n",
        " 90:       est\u00e1 ->   437 (2)       sino ->   151 (2)"
       ]
      },
      {
       "output_type": "stream",
       "stream": "stdout",
       "text": [
        "\n",
        " 91:     verdad ->   430 (2)      tiene ->   151 (2)\n",
        " 92:        tal ->   426 (2)        tal ->   151 (2)\n",
        " 93:       all\u00ed ->   421 (2)      tengo ->   150 (2)"
       ]
      },
      {
       "output_type": "stream",
       "stream": "stdout",
       "text": [
        "\n",
        " 94:      tanto ->   418 (2)       otra ->   149 (2)\n",
        " 95:        ver ->   404 (1)      manos ->   147 (2)\n",
        " 96:      tengo ->   402 (1)      sobre ->   146 (2)"
       ]
      },
      {
       "output_type": "stream",
       "stream": "stdout",
       "text": [
        "\n",
        " 97:      mundo ->   392 (1)        ver ->   144 (2)\n",
        " 98:      luego ->   390 (1)        amo ->   141 (2)\n",
        " 99:         s\u00e9 ->   388 (1)        vos ->   140 (2)"
       ]
      },
      {
       "output_type": "stream",
       "stream": "stdout",
       "text": [
        "\n",
        "100:        mis ->   387 (1)       all\u00ed ->   140 (2)\n"
       ]
      }
     ],
     "prompt_number": 56
    },
    {
     "cell_type": "code",
     "collapsed": false,
     "input": [
      "num_words_Q12 = len(listaQ12)\n",
      "num_words_QA = len(listaQA)\n",
      "\n",
      "for i in range(100):\n",
      "    word_Q12, freq_Q12 = cntQ12.most_common()[i]\n",
      "    if word_Q12 in cntQA:\n",
      "        freq_QA = cntQA[word_Q12]\n",
      "    else:\n",
      "        freq_QA = 0\n",
      "        \n",
      "    freq_rel_Q12 = freq_Q12 / num_words_Q12 * 100\n",
      "    freq_rel_QA = freq_QA / num_words_QA * 100\n",
      "    \n",
      "    print(\"%s: %10s (%s)\\t %s <-> %s\\t %.2f <-> %.2f = %.0f\" %(i, word_Q12, cntQA.most_common()[i][0],\n",
      "                                                          freq_Q12, freq_QA, \n",
      "                                                          freq_rel_Q12, freq_rel_QA, \n",
      "                                                          100 * (freq_rel_Q12 - freq_rel_QA)))\n",
      "    \n",
      "    "
     ],
     "language": "python",
     "metadata": {},
     "outputs": [
      {
       "output_type": "stream",
       "stream": "stdout",
       "text": [
        "0:        que (de)\t 20464 <-> 6593\t 5.42 <-> 4.76 = 67\n",
        "1:          y (que)\t 17992 <-> 6050\t 4.77 <-> 4.37 = 40\n",
        "2:         de (y)\t 17983 <-> 6878\t 4.77 <-> 4.96 = -20\n",
        "3:         la (la)\t 10244 <-> 3857\t 2.72 <-> 2.78 = -7\n",
        "4:          a (a)\t 9723 <-> 3764\t 2.58 <-> 2.72 = -14"
       ]
      },
      {
       "output_type": "stream",
       "stream": "stdout",
       "text": [
        "\n",
        "5:         en (en)\t 8154 <-> 3176\t 2.16 <-> 2.29 = -13\n",
        "6:         el (el)\t 8104 <-> 2608\t 2.15 <-> 1.88 = 27\n",
        "7:         no (con)\t 6290 <-> 1652\t 1.67 <-> 1.19 = 48"
       ]
      },
      {
       "output_type": "stream",
       "stream": "stdout",
       "text": [
        "\n",
        "8:        los (por)\t 4706 <-> 1487\t 1.25 <-> 1.07 = 17\n",
        "9:         se (no)\t 4652 <-> 1385\t 1.23 <-> 1.00 = 23\n",
        "10:        con (los)\t 4169 <-> 2116\t 1.11 <-> 1.53 = -42"
       ]
      },
      {
       "output_type": "stream",
       "stream": "stdout",
       "text": [
        "\n",
        "11:        por (le)\t 3873 <-> 1679\t 1.03 <-> 1.21 = -18\n",
        "12:        las (se)\t 3443 <-> 1117\t 0.91 <-> 0.81 = 11\n",
        "13:         lo (su)\t 3419 <-> 1107\t 0.91 <-> 0.80 = 11"
       ]
      },
      {
       "output_type": "stream",
       "stream": "stdout",
       "text": [
        "\n",
        "14:         le (don)\t 3383 <-> 1448\t 0.90 <-> 1.04 = -15\n",
        "15:         su (las)\t 3332 <-> 1335\t 0.88 <-> 0.96 = -8\n",
        "16:        don (lo)\t 2627 <-> 1143\t 0.70 <-> 0.82 = -13"
       ]
      },
      {
       "output_type": "stream",
       "stream": "stdout",
       "text": [
        "\n",
        "17:        del (me)\t 2450 <-> 894\t 0.65 <-> 0.65 = 0\n",
        "18:         me (del)\t 2337 <-> 907\t 0.62 <-> 0.65 = -3\n",
        "19:       como (como)\t 2248 <-> 789\t 0.60 <-> 0.57 = 3"
       ]
      },
      {
       "output_type": "stream",
       "stream": "stdout",
       "text": [
        "\n",
        "20:    quijote (sancho)\t 2156 <-> 746\t 0.57 <-> 0.54 = 3\n",
        "21:     sancho (un)\t 2144 <-> 785\t 0.57 <-> 0.57 = 0\n",
        "22:         es (para)\t 2128 <-> 679\t 0.56 <-> 0.49 = 7"
       ]
      },
      {
       "output_type": "stream",
       "stream": "stdout",
       "text": [
        "\n",
        "23:         yo (quijote)\t 2071 <-> 575\t 0.55 <-> 0.41 = 13\n",
        "24:        m\u00e1s (mi)\t 2030 <-> 558\t 0.54 <-> 0.40 = 14\n",
        "25:         si (es)\t 1953 <-> 662\t 0.52 <-> 0.48 = 4"
       ]
      },
      {
       "output_type": "stream",
       "stream": "stdout",
       "text": [
        "\n",
        "26:         un (si)\t 1925 <-> 770\t 0.51 <-> 0.56 = -5\n",
        "27:       dijo (dijo)\t 1807 <-> 635\t 0.48 <-> 0.46 = 2\n",
        "28:         al (al)\t 1711 <-> 587\t 0.45 <-> 0.42 = 3"
       ]
      },
      {
       "output_type": "stream",
       "stream": "stdout",
       "text": [
        "\n",
        "29:         mi (yo)\t 1694 <-> 712\t 0.45 <-> 0.51 = -6\n",
        "30:       para (\u00e9l)\t 1428 <-> 766\t 0.38 <-> 0.55 = -17\n",
        "31:     porque (m\u00e1s)\t 1393 <-> 362\t 0.37 <-> 0.26 = 11"
       ]
      },
      {
       "output_type": "stream",
       "stream": "stdout",
       "text": [
        "\n",
        "32:         ni (una)\t 1353 <-> 262\t 0.36 <-> 0.19 = 17\n",
        "33:        una (merced)\t 1327 <-> 550\t 0.35 <-> 0.40 = -5\n",
        "34:         \u00e9l (pues)\t 1268 <-> 558\t 0.34 <-> 0.40 = -7"
       ]
      },
      {
       "output_type": "stream",
       "stream": "stdout",
       "text": [
        "\n",
        "35:        tan (vuesa)\t 1236 <-> 469\t 0.33 <-> 0.34 = -1\n",
        "36:          o (se\u00f1or)\t 1199 <-> 362\t 0.32 <-> 0.26 = 6\n",
        "37:       todo (tan)\t 1176 <-> 356\t 0.31 <-> 0.26 = 5"
       ]
      },
      {
       "output_type": "stream",
       "stream": "stdout",
       "text": [
        "\n",
        "38:        sin (ha)\t 1150 <-> 402\t 0.30 <-> 0.29 = 1\n",
        "39:  respondi\u00f3 (todos)\t 1062 <-> 203\t 0.28 <-> 0.15 = 14\n",
        "40:        as\u00ed (sin)\t 1058 <-> 246\t 0.28 <-> 0.18 = 10"
       ]
      },
      {
       "output_type": "stream",
       "stream": "stdout",
       "text": [
        "\n",
        "41:        ser (hab\u00eda)\t 1053 <-> 225\t 0.28 <-> 0.16 = 12\n",
        "42:      se\u00f1or (cual)\t 1051 <-> 489\t 0.28 <-> 0.35 = -7\n",
        "43:         ha (sus)\t 1048 <-> 412\t 0.28 <-> 0.30 = -2"
       ]
      },
      {
       "output_type": "stream",
       "stream": "stdout",
       "text": [
        "\n",
        "44:       bien (porque)\t 1041 <-> 354\t 0.28 <-> 0.26 = 2\n",
        "45:        sus (o)\t 1036 <-> 380\t 0.27 <-> 0.27 = 0\n",
        "46:      hab\u00eda (todo)\t 1032 <-> 400\t 0.27 <-> 0.29 = -2"
       ]
      },
      {
       "output_type": "stream",
       "stream": "stdout",
       "text": [
        "\n",
        "47:       pero (pero)\t 1015 <-> 356\t 0.27 <-> 0.26 = 1\n",
        "48:     merced (bien)\t 895 <-> 539\t 0.24 <-> 0.39 = -15\n",
        "49:       esto (ella)\t 885 <-> 289\t 0.23 <-> 0.21 = 3"
       ]
      },
      {
       "output_type": "stream",
       "stream": "stdout",
       "text": [
        "\n",
        "50:       pues (ya)\t 855 <-> 528\t 0.23 <-> 0.38 = -15\n",
        "51:    vuestra (esto)\t 849 <-> 86\t 0.23 <-> 0.06 = 16\n",
        "52:        qu\u00e9 (caballero)\t 842 <-> 263\t 0.22 <-> 0.19 = 3"
       ]
      },
      {
       "output_type": "stream",
       "stream": "stdout",
       "text": [
        "\n",
        "53:      todos (quien)\t 816 <-> 406\t 0.22 <-> 0.29 = -8\n",
        "54:         ya (esta)\t 783 <-> 326\t 0.21 <-> 0.24 = -3\n",
        "55:     cuando (hacer)\t 752 <-> 220\t 0.20 <-> 0.16 = 4"
       ]
      },
      {
       "output_type": "stream",
       "stream": "stdout",
       "text": [
        "\n",
        "56:        era (qu\u00e9)\t 752 <-> 237\t 0.20 <-> 0.17 = 3\n",
        "57:         te (ni)\t 717 <-> 128\t 0.19 <-> 0.09 = 10\n",
        "58:       sino (casa)\t 694 <-> 151\t 0.18 <-> 0.11 = 7"
       ]
      },
      {
       "output_type": "stream",
       "stream": "stdout",
       "text": [
        "\n",
        "59:       cual (muy)\t 690 <-> 394\t 0.18 <-> 0.28 = -10\n",
        "60:        dos (as\u00ed)\t 683 <-> 242\t 0.18 <-> 0.17 = 1\n",
        "61:      donde (dos)\t 673 <-> 113\t 0.18 <-> 0.08 = 10"
       ]
      },
      {
       "output_type": "stream",
       "stream": "stdout",
       "text": [
        "\n",
        "62:  caballero (os)\t 656 <-> 273\t 0.17 <-> 0.20 = -2\n",
        "63:        fue (era)\t 641 <-> 167\t 0.17 <-> 0.12 = 5\n",
        "64:       este (dios)\t 636 <-> 210\t 0.17 <-> 0.15 = 2"
       ]
      },
      {
       "output_type": "stream",
       "stream": "stdout",
       "text": [
        "\n",
        "65:      quien (aqu\u00ed)\t 614 <-> 272\t 0.16 <-> 0.20 = -3\n",
        "66:       esta (luego)\t 612 <-> 267\t 0.16 <-> 0.19 = -3\n",
        "67:       ella (ser)\t 599 <-> 332\t 0.16 <-> 0.24 = -8"
       ]
      },
      {
       "output_type": "stream",
       "stream": "stdout",
       "text": [
        "\n",
        "68:      decir (diciendo)\t 576 <-> 134\t 0.15 <-> 0.10 = 6\n",
        "69:         he (les)\t 533 <-> 179\t 0.14 <-> 0.13 = 1\n",
        "70:      hacer (cuando)\t 531 <-> 267\t 0.14 <-> 0.19 = -5"
       ]
      },
      {
       "output_type": "stream",
       "stream": "stdout",
       "text": [
        "\n",
        "71:       dios (este)\t 529 <-> 236\t 0.14 <-> 0.17 = -3\n",
        "72:        muy (nos)\t 529 <-> 255\t 0.14 <-> 0.18 = -4\n",
        "73:     aunque (respondi\u00f3)\t 528 <-> 139\t 0.14 <-> 0.10 = 4"
       ]
      },
      {
       "output_type": "stream",
       "stream": "stdout",
       "text": [
        "\n",
        "74:     se\u00f1ora (estaba)\t 515 <-> 117\t 0.14 <-> 0.08 = 5\n",
        "75:       aqu\u00ed (mano)\t 515 <-> 230\t 0.14 <-> 0.17 = -3\n",
        "76:       otro (\u00e1lvaro)\t 509 <-> 116\t 0.13 <-> 0.08 = 5"
       ]
      },
      {
       "output_type": "stream",
       "stream": "stdout",
       "text": [
        "\n",
        "77:       otra (hecho)\t 506 <-> 149\t 0.13 <-> 0.11 = 3\n",
        "78:         m\u00ed (poco)\t 499 <-> 172\t 0.13 <-> 0.12 = 1\n",
        "79:      aquel (he)\t 485 <-> 151\t 0.13 <-> 0.11 = 2"
       ]
      },
      {
       "output_type": "stream",
       "stream": "stdout",
       "text": [
        "\n",
        "80:        son (c\u00f3mo)\t 482 <-> 121\t 0.13 <-> 0.09 = 4\n",
        "81:     estaba (tras)\t 477 <-> 188\t 0.13 <-> 0.14 = -1\n",
        "82:        hay (m\u00ed)\t 470 <-> 120\t 0.12 <-> 0.09 = 4\n",
        "83:         os (hasta)\t 459 <-> 239\t 0.12 <-> 0.17 = -5"
       ]
      },
      {
       "output_type": "stream",
       "stream": "stdout",
       "text": [
        "\n",
        "84:        mal (fue)\t 456 <-> 119\t 0.12 <-> 0.09 = 4\n",
        "85:      sobre (caballeros)\t 449 <-> 146\t 0.12 <-> 0.11 = 1\n",
        "86:       cosa (reina)\t 442 <-> 117\t 0.12 <-> 0.08 = 3\n",
        "87:        nos (vida)\t 440 <-> 205\t 0.12 <-> 0.15 = -3"
       ]
      },
      {
       "output_type": "stream",
       "stream": "stdout",
       "text": [
        "\n",
        "88:       buen (aquel)\t 438 <-> 134\t 0.12 <-> 0.10 = 2\n",
        "89:       est\u00e1 (sino)\t 437 <-> 124\t 0.12 <-> 0.09 = 3\n",
        "90:     verdad (tiene)\t 430 <-> 72\t 0.11 <-> 0.05 = 6"
       ]
      },
      {
       "output_type": "stream",
       "stream": "stdout",
       "text": [
        "\n",
        "91:        tal (tal)\t 426 <-> 151\t 0.11 <-> 0.11 = 0\n",
        "92:       all\u00ed (tengo)\t 421 <-> 140\t 0.11 <-> 0.10 = 1\n",
        "93:      tanto (otra)\t 418 <-> 135\t 0.11 <-> 0.10 = 1"
       ]
      },
      {
       "output_type": "stream",
       "stream": "stdout",
       "text": [
        "\n",
        "94:        ver (manos)\t 404 <-> 144\t 0.11 <-> 0.10 = 0\n",
        "95:      tengo (sobre)\t 402 <-> 150\t 0.11 <-> 0.11 = -0\n",
        "96:      mundo (ver)\t 392 <-> 135\t 0.10 <-> 0.10 = 1"
       ]
      },
      {
       "output_type": "stream",
       "stream": "stdout",
       "text": [
        "\n",
        "97:      luego (amo)\t 390 <-> 229\t 0.10 <-> 0.17 = -6\n",
        "98:         s\u00e9 (vos)\t 388 <-> 88\t 0.10 <-> 0.06 = 4\n",
        "99:        mis (all\u00ed)\t 387 <-> 120\t 0.10 <-> 0.09 = 2"
       ]
      },
      {
       "output_type": "stream",
       "stream": "stdout",
       "text": [
        "\n"
       ]
      }
     ],
     "prompt_number": 57
    },
    {
     "cell_type": "code",
     "collapsed": false,
     "input": [
      "## Esto lleva unos cuantos minutos\n",
      "\n",
      "list_Q12_not_QA = []\n",
      "for i in range(len(cntQ12)):\n",
      "    word_Q12, freq_Q12 = cntQ12.most_common()[i]\n",
      "    if word_Q12 not in cntQA:\n",
      "        list_Q12_not_QA.append(cntQ12.most_common()[i])\n",
      "\n",
      "list_QA_not_Q12 = []\n",
      "for i in range(len(cntQA)):\n",
      "    word_QA, freq_QA = cntQA.most_common()[i]\n",
      "    if word_QA not in cntQ12:\n",
      "        list_QA_not_Q12.append(cntQA.most_common()[i])"
     ],
     "language": "python",
     "metadata": {},
     "outputs": [],
     "prompt_number": 58
    },
    {
     "cell_type": "code",
     "collapsed": false,
     "input": [
      "len(list_Q12_not_QA), len(list_QA_not_Q12)"
     ],
     "language": "python",
     "metadata": {},
     "outputs": [
      {
       "metadata": {},
       "output_type": "pyout",
       "prompt_number": 70,
       "text": [
        "(14552, 4760)"
       ]
      }
     ],
     "prompt_number": 70
    },
    {
     "cell_type": "code",
     "collapsed": false,
     "input": [
      "## Guardar las listas en ficheros JSON para no tener que calcularlas de nuevo ----\n",
      "import codecs, json\n",
      "import os.path\n",
      "\n",
      "if not os.path.exists(\"list_Q12_not_QA.json\"):\n",
      "    codecs.open(\"list_Q12_not_QA.json\",\"w\",\"utf-8\").write(json.dumps(list_Q12_not_QA, indent=2))\n",
      "if not os.path.exists(\"list_QA_not_Q12.json\"):\n",
      "    codecs.open(\"list_QA_not_Q12.json\",\"w\",\"utf-8\").write(json.dumps(list_QA_not_Q12, indent=2))"
     ],
     "language": "python",
     "metadata": {},
     "outputs": [],
     "prompt_number": 72
    },
    {
     "cell_type": "code",
     "collapsed": false,
     "input": [],
     "language": "python",
     "metadata": {},
     "outputs": []
    },
    {
     "cell_type": "code",
     "collapsed": false,
     "input": [
      "from pymongo import MongoClient\n",
      "client = MongoClient()\n",
      "db = client.avellaneda\n",
      "c = db.palabras"
     ],
     "language": "python",
     "metadata": {},
     "outputs": [],
     "prompt_number": 11
    },
    {
     "cell_type": "code",
     "collapsed": false,
     "input": [
      "iii = 0\n",
      "for p in setQ12:\n",
      "    query = {'palabra': p}\n",
      "    update = {\"$set\": {'Q12': True}}\n",
      "    c.update(query, update, upsert=True)\n",
      "    iii += 1\n",
      "    if iii % 100 == 0:\n",
      "        print(iii)\n"
     ],
     "language": "python",
     "metadata": {},
     "outputs": []
    },
    {
     "cell_type": "code",
     "collapsed": false,
     "input": [
      "iii = 0\n",
      "for p in setQA:\n",
      "    query = {'palabra': p}\n",
      "    update = {\"$set\": {'QA': True}}\n",
      "    c.update(query, update, upsert=True)\n",
      "    iii += 1\n",
      "    if iii % 100 == 0:\n",
      "        print(iii)"
     ],
     "language": "python",
     "metadata": {},
     "outputs": []
    },
    {
     "cell_type": "code",
     "collapsed": false,
     "input": [
      "c.count(), c.count({'Q12': True}), c.count({'QA': True}), c.count({'Q12': True, 'QA': True})\n"
     ],
     "language": "python",
     "metadata": {},
     "outputs": [
      {
       "metadata": {},
       "output_type": "pyout",
       "prompt_number": 34,
       "text": [
        "(27398, 22642, 12849, 8093)"
       ]
      }
     ],
     "prompt_number": 34
    },
    {
     "cell_type": "code",
     "collapsed": false,
     "input": [
      "import time\n",
      "\n",
      "iii = 0\n",
      "for xxx in c.aggregate([{'$sort': {'palabra':1}},{'$project': {'palabra':1, 'Q12': 1, 'QA': 1, '_id':0}}]):\n",
      "    palabra = xxx['palabra']\n",
      "    lexema = buscar_lexema(palabra)\n",
      "    query = {'palabra': palabra}\n",
      "    update = {\"$set\": {'lexema': lexema}}\n",
      "    c.update(query, update)\n",
      "    iii += 1\n",
      "    print(iii, palabra, lexema['status'])\n",
      "    #time.sleep(2)\n"
     ],
     "language": "python",
     "metadata": {},
     "outputs": [
      {
       "output_type": "stream",
       "stream": "stdout",
       "text": [
        "1 a OK\n",
        "2"
       ]
      },
      {
       "output_type": "stream",
       "stream": "stdout",
       "text": [
        " ab OK\n",
        "3"
       ]
      },
      {
       "output_type": "stream",
       "stream": "stdout",
       "text": [
        " abad OK\n",
        "4"
       ]
      },
      {
       "output_type": "stream",
       "stream": "stdout",
       "text": [
        " abadejo OK\n",
        "5"
       ]
      },
      {
       "output_type": "stream",
       "stream": "stdout",
       "text": [
        " abades OK\n",
        "6"
       ]
      },
      {
       "output_type": "stream",
       "stream": "stdout",
       "text": [
        " abadesa OK\n",
        "7"
       ]
      },
      {
       "output_type": "stream",
       "stream": "stdout",
       "text": [
        " abaja OK\n",
        "8"
       ]
      },
      {
       "output_type": "stream",
       "stream": "stdout",
       "text": [
        " abajan OK\n",
        "9"
       ]
      },
      {
       "output_type": "stream",
       "stream": "stdout",
       "text": [
        " abajar OK\n",
        "10"
       ]
      },
      {
       "output_type": "stream",
       "stream": "stdout",
       "text": [
        " abajaron OK\n",
        "11"
       ]
      },
      {
       "output_type": "stream",
       "stream": "stdout",
       "text": [
        " abajarse OK\n",
        "12"
       ]
      },
      {
       "output_type": "stream",
       "stream": "stdout",
       "text": [
        " abaje OK\n",
        "13"
       ]
      },
      {
       "output_type": "stream",
       "stream": "stdout",
       "text": [
        " abajen OK\n",
        "14"
       ]
      },
      {
       "output_type": "stream",
       "stream": "stdout",
       "text": [
        " abajo OK\n",
        "15"
       ]
      },
      {
       "output_type": "stream",
       "stream": "stdout",
       "text": [
        " abaj\u00e1ndose OK\n",
        "16"
       ]
      },
      {
       "output_type": "stream",
       "stream": "stdout",
       "text": [
        " abaj\u00e9 OK\n",
        "17"
       ]
      },
      {
       "output_type": "stream",
       "stream": "stdout",
       "text": [
        " abaj\u00f3 OK\n",
        "18"
       ]
      },
      {
       "output_type": "stream",
       "stream": "stdout",
       "text": [
        " abal\u00e1nzase OK\n",
        "19"
       ]
      },
      {
       "output_type": "stream",
       "stream": "stdout",
       "text": [
        " abandonarme OK\n",
        "20"
       ]
      },
      {
       "output_type": "stream",
       "stream": "stdout",
       "text": [
        " abarraganada OK\n",
        "21"
       ]
      },
      {
       "output_type": "stream",
       "stream": "stdout",
       "text": [
        " abarraganados OK\n",
        "22"
       ]
      },
      {
       "output_type": "stream",
       "stream": "stdout",
       "text": [
        " abatanar OK\n",
        "23"
       ]
      },
      {
       "output_type": "stream",
       "stream": "stdout",
       "text": [
        " abaten OK\n",
        "24"
       ]
      },
      {
       "output_type": "stream",
       "stream": "stdout",
       "text": [
        " abatida OK\n",
        "25"
       ]
      },
      {
       "output_type": "stream",
       "stream": "stdout",
       "text": [
        " abatido OK\n",
        "26"
       ]
      },
      {
       "output_type": "stream",
       "stream": "stdout",
       "text": [
        " abatiendo OK\n",
        "27"
       ]
      },
      {
       "output_type": "stream",
       "stream": "stdout",
       "text": [
        " abatieres OK\n",
        "28"
       ]
      },
      {
       "output_type": "stream",
       "stream": "stdout",
       "text": [
        " abatieron OK\n",
        "29"
       ]
      },
      {
       "output_type": "stream",
       "stream": "stdout",
       "text": [
        " abatir OK\n",
        "30"
       ]
      },
      {
       "output_type": "stream",
       "stream": "stdout",
       "text": [
        " abc OK\n",
        "31"
       ]
      },
      {
       "output_type": "stream",
       "stream": "stdout",
       "text": [
        " abecedario OK\n",
        "32"
       ]
      },
      {
       "output_type": "stream",
       "stream": "stdout",
       "text": [
        " abec\u00e9 OK\n",
        "33"
       ]
      },
      {
       "output_type": "stream",
       "stream": "stdout",
       "text": [
        " abeja OK\n",
        "34"
       ]
      },
      {
       "output_type": "stream",
       "stream": "stdout",
       "text": [
        " abejas OK\n",
        "35"
       ]
      },
      {
       "output_type": "stream",
       "stream": "stdout",
       "text": [
        " abencerraje OK\n",
        "36"
       ]
      },
      {
       "output_type": "stream",
       "stream": "stdout",
       "text": [
        " abencerrajes OK\n",
        "37"
       ]
      },
      {
       "output_type": "stream",
       "stream": "stdout",
       "text": [
        " aben\u00e1mar No encontrado\n",
        "38"
       ]
      },
      {
       "output_type": "stream",
       "stream": "stdout",
       "text": [
        " aberenjenado OK\n",
        "39"
       ]
      },
      {
       "output_type": "stream",
       "stream": "stdout",
       "text": [
        " abernuncio No encontrado\n",
        "40"
       ]
      },
      {
       "output_type": "stream",
       "stream": "stdout",
       "text": [
        " abertura OK\n",
        "41"
       ]
      },
      {
       "output_type": "stream",
       "stream": "stdout",
       "text": [
        " abest No encontrado\n",
        "42"
       ]
      },
      {
       "output_type": "stream",
       "stream": "stdout",
       "text": [
        " abierta OK\n",
        "43"
       ]
      },
      {
       "output_type": "stream",
       "stream": "stdout",
       "text": [
        " abiertas OK\n",
        "44"
       ]
      },
      {
       "output_type": "stream",
       "stream": "stdout",
       "text": [
        " abierto OK\n",
        "45"
       ]
      },
      {
       "output_type": "stream",
       "stream": "stdout",
       "text": [
        " abiertos OK\n",
        "46"
       ]
      },
      {
       "output_type": "stream",
       "stream": "stdout",
       "text": [
        " abindarr\u00e1ez No encontrado\n",
        "47"
       ]
      },
      {
       "output_type": "stream",
       "stream": "stdout",
       "text": [
        " abismo OK\n",
        "48"
       ]
      },
      {
       "output_type": "stream",
       "stream": "stdout",
       "text": [
        " abismos OK\n",
        "49"
       ]
      },
      {
       "output_type": "stream",
       "stream": "stdout",
       "text": [
        " ablandaba OK\n",
        "50"
       ]
      },
      {
       "output_type": "stream",
       "stream": "stdout",
       "text": [
        " ablandaban OK\n",
        "51"
       ]
      },
      {
       "output_type": "stream",
       "stream": "stdout",
       "text": [
        " ablandado OK\n",
        "52"
       ]
      },
      {
       "output_type": "stream",
       "stream": "stdout",
       "text": [
        " ablandan OK\n",
        "53"
       ]
      },
      {
       "output_type": "stream",
       "stream": "stdout",
       "text": [
        " ablandar OK\n",
        "54"
       ]
      },
      {
       "output_type": "stream",
       "stream": "stdout",
       "text": [
        " ablandara OK\n",
        "55"
       ]
      },
      {
       "output_type": "stream",
       "stream": "stdout",
       "text": [
        " ablandarme OK\n",
        "56"
       ]
      },
      {
       "output_type": "stream",
       "stream": "stdout",
       "text": [
        " ablandaron OK\n",
        "57"
       ]
      },
      {
       "output_type": "stream",
       "stream": "stdout",
       "text": [
        " ablandarte OK\n",
        "58"
       ]
      },
      {
       "output_type": "stream",
       "stream": "stdout",
       "text": [
        " ablande OK\n",
        "59"
       ]
      },
      {
       "output_type": "stream",
       "stream": "stdout",
       "text": [
        " abland\u00e1is OK\n",
        "60"
       ]
      },
      {
       "output_type": "stream",
       "stream": "stdout",
       "text": [
        " abland\u00f3 OK\n",
        "61"
       ]
      },
      {
       "output_type": "stream",
       "stream": "stdout",
       "text": [
        " abl\u00e1ndate OK\n",
        "62"
       ]
      },
      {
       "output_type": "stream",
       "stream": "stdout",
       "text": [
        " abobado OK\n",
        "63"
       ]
      },
      {
       "output_type": "stream",
       "stream": "stdout",
       "text": [
        " abogada OK\n",
        "64"
       ]
      },
      {
       "output_type": "stream",
       "stream": "stdout",
       "text": [
        " abogado OK\n",
        "65"
       ]
      },
      {
       "output_type": "stream",
       "stream": "stdout",
       "text": [
        " abolengo OK\n",
        "66"
       ]
      },
      {
       "output_type": "stream",
       "stream": "stdout",
       "text": [
        " abollada OK\n",
        "67"
       ]
      },
      {
       "output_type": "stream",
       "stream": "stdout",
       "text": [
        " abollado OK\n",
        "68"
       ]
      },
      {
       "output_type": "stream",
       "stream": "stdout",
       "text": [
        " abolorio OK\n",
        "69"
       ]
      },
      {
       "output_type": "stream",
       "stream": "stdout",
       "text": [
        " abominable OK\n",
        "70"
       ]
      },
      {
       "output_type": "stream",
       "stream": "stdout",
       "text": [
        " abominaciones OK\n",
        "71"
       ]
      },
      {
       "output_type": "stream",
       "stream": "stdout",
       "text": [
        " abominado OK\n",
        "72"
       ]
      },
      {
       "output_type": "stream",
       "stream": "stdout",
       "text": [
        " abomino OK\n",
        "73"
       ]
      },
      {
       "output_type": "stream",
       "stream": "stdout",
       "text": [
        " abomin\u00e1bamos OK\n",
        "74"
       ]
      },
      {
       "output_type": "stream",
       "stream": "stdout",
       "text": [
        " abonado No encontrado\n",
        "75"
       ]
      },
      {
       "output_type": "stream",
       "stream": "stdout",
       "text": [
        " abonados No encontrado\n",
        "76"
       ]
      },
      {
       "output_type": "stream",
       "stream": "stdout",
       "text": [
        " abonando No encontrado\n",
        "77"
       ]
      },
      {
       "output_type": "stream",
       "stream": "stdout",
       "text": [
        " abonasen No encontrado\n",
        "78"
       ]
      },
      {
       "output_type": "stream",
       "stream": "stdout",
       "text": [
        " abono No encontrado\n",
        "79"
       ]
      },
      {
       "output_type": "stream",
       "stream": "stdout",
       "text": [
        " aborrascadas No encontrado\n",
        "80"
       ]
      },
      {
       "output_type": "stream",
       "stream": "stdout",
       "text": [
        " aborrece No encontrado\n",
        "81"
       ]
      },
      {
       "output_type": "stream",
       "stream": "stdout",
       "text": [
        " aborrecen No encontrado\n",
        "82"
       ]
      },
      {
       "output_type": "stream",
       "stream": "stdout",
       "text": [
        " aborrecer\u00edan No encontrado\n",
        "83"
       ]
      },
      {
       "output_type": "stream",
       "stream": "stdout",
       "text": [
        " aborrecible No encontrado\n",
        "84"
       ]
      },
      {
       "output_type": "stream",
       "stream": "stdout",
       "text": [
        " aborrecida No encontrado\n",
        "85"
       ]
      },
      {
       "output_type": "stream",
       "stream": "stdout",
       "text": [
        " aborrecido No encontrado\n",
        "86"
       ]
      },
      {
       "output_type": "stream",
       "stream": "stdout",
       "text": [
        " aborrecidos No encontrado\n",
        "87"
       ]
      },
      {
       "output_type": "stream",
       "stream": "stdout",
       "text": [
        " aborreciendo No encontrado\n",
        "88"
       ]
      },
      {
       "output_type": "stream",
       "stream": "stdout",
       "text": [
        " aborrecimiento No encontrado\n",
        "89"
       ]
      },
      {
       "output_type": "stream",
       "stream": "stdout",
       "text": [
        " aborreci\u00f3 No encontrado\n",
        "90"
       ]
      },
      {
       "output_type": "stream",
       "stream": "stdout",
       "text": [
        " aborrec\u00ed No encontrado\n",
        "91"
       ]
      },
      {
       "output_type": "stream",
       "stream": "stdout",
       "text": [
        " aborrec\u00eda No encontrado\n",
        "92"
       ]
      },
      {
       "output_type": "stream",
       "stream": "stdout",
       "text": [
        " aborrezco No encontrado\n",
        "93"
       ]
      },
      {
       "output_type": "stream",
       "stream": "stdout",
       "text": [
        " abra No encontrado\n",
        "94"
       ]
      },
      {
       "output_type": "stream",
       "stream": "stdout",
       "text": [
        " abrac\u00e9 No encontrado\n",
        "95"
       ]
      },
      {
       "output_type": "stream",
       "stream": "stdout",
       "text": [
        " abraham No encontrado\n",
        "96"
       ]
      },
      {
       "output_type": "stream",
       "stream": "stdout",
       "text": [
        " abran No encontrado\n",
        "97"
       ]
      },
      {
       "output_type": "stream",
       "stream": "stdout",
       "text": [
        " abrasa No encontrado\n",
        "98"
       ]
      },
      {
       "output_type": "stream",
       "stream": "stdout",
       "text": [
        " abrasaba No encontrado\n",
        "99"
       ]
      },
      {
       "output_type": "stream",
       "stream": "stdout",
       "text": [
        " abrasada No encontrado\n",
        "100"
       ]
      },
      {
       "output_type": "stream",
       "stream": "stdout",
       "text": [
        " abrasadas No encontrado\n",
        "101"
       ]
      },
      {
       "output_type": "stream",
       "stream": "stdout",
       "text": [
        " abrasado No encontrado\n",
        "102"
       ]
      },
      {
       "output_type": "stream",
       "stream": "stdout",
       "text": [
        " abrasadores No encontrado\n",
        "103"
       ]
      },
      {
       "output_type": "stream",
       "stream": "stdout",
       "text": [
        " abrasados No encontrado\n",
        "104"
       ]
      },
      {
       "output_type": "stream",
       "stream": "stdout",
       "text": [
        " abrasan No encontrado\n",
        "105"
       ]
      },
      {
       "output_type": "stream",
       "stream": "stdout",
       "text": [
        " abrasando No encontrado\n",
        "106"
       ]
      },
      {
       "output_type": "stream",
       "stream": "stdout",
       "text": [
        " abrasar No encontrado\n",
        "107"
       ]
      },
      {
       "output_type": "stream",
       "stream": "stdout",
       "text": [
        " abrasarla No encontrado\n",
        "108"
       ]
      },
      {
       "output_type": "stream",
       "stream": "stdout",
       "text": [
        " abrasarnos No encontrado\n",
        "109"
       ]
      },
      {
       "output_type": "stream",
       "stream": "stdout",
       "text": [
        " abrasarse No encontrado\n",
        "110"
       ]
      },
      {
       "output_type": "stream",
       "stream": "stdout",
       "text": [
        " abrasasen No encontrado\n",
        "111"
       ]
      },
      {
       "output_type": "stream",
       "stream": "stdout",
       "text": [
        " abrasemos No encontrado\n",
        "112"
       ]
      },
      {
       "output_type": "stream",
       "stream": "stdout",
       "text": [
        " abras\u00e1is No encontrado\n",
        "113"
       ]
      },
      {
       "output_type": "stream",
       "stream": "stdout",
       "text": [
        " abras\u00f3 No encontrado\n",
        "114"
       ]
      },
      {
       "output_type": "stream",
       "stream": "stdout",
       "text": [
        " abraza No encontrado\n",
        "115"
       ]
      },
      {
       "output_type": "stream",
       "stream": "stdout",
       "text": [
        " abrazaba No encontrado\n",
        "116"
       ]
      },
      {
       "output_type": "stream",
       "stream": "stdout",
       "text": [
        " abrazaban No encontrado\n",
        "117"
       ]
      },
      {
       "output_type": "stream",
       "stream": "stdout",
       "text": [
        " abrazada No encontrado\n",
        "118"
       ]
      },
      {
       "output_type": "stream",
       "stream": "stdout",
       "text": [
        " abrazado No encontrado\n",
        "119"
       ]
      },
      {
       "output_type": "stream",
       "stream": "stdout",
       "text": [
        " abrazamiento No encontrado\n",
        "120"
       ]
      },
      {
       "output_type": "stream",
       "stream": "stdout",
       "text": [
        " abrazando No encontrado\n",
        "121"
       ]
      },
      {
       "output_type": "stream",
       "stream": "stdout",
       "text": [
        " abrazar No encontrado\n",
        "122"
       ]
      },
      {
       "output_type": "stream",
       "stream": "stdout",
       "text": [
        " abrazara No encontrado\n",
        "123"
       ]
      },
      {
       "output_type": "stream",
       "stream": "stdout",
       "text": [
        " abrazarle No encontrado\n",
        "124"
       ]
      },
      {
       "output_type": "stream",
       "stream": "stdout",
       "text": [
        " abrazarme No encontrado\n",
        "125"
       ]
      },
      {
       "output_type": "stream",
       "stream": "stdout",
       "text": [
        " abrazaron No encontrado\n",
        "126"
       ]
      },
      {
       "output_type": "stream",
       "stream": "stdout",
       "text": [
        " abrazarse No encontrado\n",
        "127"
       ]
      },
      {
       "output_type": "stream",
       "stream": "stdout",
       "text": [
        " abrazar\u00e1 No encontrado\n",
        "128"
       ]
      },
      {
       "output_type": "stream",
       "stream": "stdout",
       "text": [
        " abrazase No encontrado\n",
        "129"
       ]
      },
      {
       "output_type": "stream",
       "stream": "stdout",
       "text": [
        " abrazo No encontrado\n",
        "130"
       ]
      },
      {
       "output_type": "stream",
       "stream": "stdout",
       "text": [
        " abrazos No encontrado\n",
        "131"
       ]
      },
      {
       "output_type": "stream",
       "stream": "stdout",
       "text": [
        " abraz\u00e1ndola No encontrado\n",
        "132"
       ]
      },
      {
       "output_type": "stream",
       "stream": "stdout",
       "text": [
        " abraz\u00e1ndole No encontrado\n",
        "133"
       ]
      },
      {
       "output_type": "stream",
       "stream": "stdout",
       "text": [
        " abraz\u00e1ndolo No encontrado\n",
        "134"
       ]
      },
      {
       "output_type": "stream",
       "stream": "stdout",
       "text": [
        " abraz\u00e1ndonos No encontrado\n",
        "135"
       ]
      },
      {
       "output_type": "stream",
       "stream": "stdout",
       "text": [
        " abraz\u00e1ndose No encontrado\n",
        "136"
       ]
      },
      {
       "output_type": "stream",
       "stream": "stdout",
       "text": [
        " abraz\u00e1ronle No encontrado\n",
        "137"
       ]
      },
      {
       "output_type": "stream",
       "stream": "stdout",
       "text": [
        " abraz\u00e1ronse No encontrado\n",
        "138"
       ]
      },
      {
       "output_type": "stream",
       "stream": "stdout",
       "text": [
        " abraz\u00e1rselos No encontrado\n",
        "139"
       ]
      },
      {
       "output_type": "stream",
       "stream": "stdout",
       "text": [
        " abraz\u00f3 No encontrado\n",
        "140"
       ]
      },
      {
       "output_type": "stream",
       "stream": "stdout",
       "text": [
        " abraz\u00f3la No encontrado\n",
        "141"
       ]
      },
      {
       "output_type": "stream",
       "stream": "stdout",
       "text": [
        " abraz\u00f3le No encontrado\n",
        "142"
       ]
      },
      {
       "output_type": "stream",
       "stream": "stdout",
       "text": [
        " abraz\u00f3los No encontrado\n",
        "143"
       ]
      },
      {
       "output_type": "stream",
       "stream": "stdout",
       "text": [
        " abre No encontrado\n",
        "144"
       ]
      },
      {
       "output_type": "stream",
       "stream": "stdout",
       "text": [
        " abrenuncio No encontrado\n",
        "145"
       ]
      },
      {
       "output_type": "stream",
       "stream": "stdout",
       "text": [
        " abrevian No encontrado\n",
        "146"
       ]
      },
      {
       "output_type": "stream",
       "stream": "stdout",
       "text": [
        " abreviar No encontrado\n",
        "147"
       ]
      },
      {
       "output_type": "stream",
       "stream": "stdout",
       "text": [
        " abrevies No encontrado\n",
        "148"
       ]
      },
      {
       "output_type": "stream",
       "stream": "stdout",
       "text": [
        " abrevi\u00f3 No encontrado\n",
        "149"
       ]
      },
      {
       "output_type": "stream",
       "stream": "stdout",
       "text": [
        " abrid No encontrado\n",
        "150"
       ]
      },
      {
       "output_type": "stream",
       "stream": "stdout",
       "text": [
        " abriendo No encontrado\n",
        "151"
       ]
      },
      {
       "output_type": "stream",
       "stream": "stdout",
       "text": [
        " abriera No encontrado\n",
        "152"
       ]
      },
      {
       "output_type": "stream",
       "stream": "stdout",
       "text": [
        " abrieran No encontrado\n",
        "153"
       ]
      },
      {
       "output_type": "stream",
       "stream": "stdout",
       "text": [
        " abrieron No encontrado\n",
        "154"
       ]
      },
      {
       "output_type": "stream",
       "stream": "stdout",
       "text": [
        " abriese No encontrado\n",
        "155"
       ]
      },
      {
       "output_type": "stream",
       "stream": "stdout",
       "text": [
        " abriesen No encontrado\n",
        "156"
       ]
      },
      {
       "output_type": "stream",
       "stream": "stdout",
       "text": [
        " abrigo No encontrado\n",
        "157"
       ]
      },
      {
       "output_type": "stream",
       "stream": "stdout",
       "text": [
        " abrig\u00f3 No encontrado\n",
        "158"
       ]
      },
      {
       "output_type": "stream",
       "stream": "stdout",
       "text": [
        " abril No encontrado\n",
        "159"
       ]
      },
      {
       "output_type": "stream",
       "stream": "stdout",
       "text": [
        " abrir No encontrado\n",
        "160"
       ]
      },
      {
       "output_type": "stream",
       "stream": "stdout",
       "text": [
        " abrirla No encontrado\n",
        "161"
       ]
      },
      {
       "output_type": "stream",
       "stream": "stdout",
       "text": [
        " abrirle No encontrado\n",
        "162"
       ]
      },
      {
       "output_type": "stream",
       "stream": "stdout",
       "text": [
        " abrirse No encontrado\n",
        "163"
       ]
      },
      {
       "output_type": "stream",
       "stream": "stdout",
       "text": [
        " abrir\u00e1 No encontrado\n",
        "164"
       ]
      },
      {
       "output_type": "stream",
       "stream": "stdout",
       "text": [
        " abrir\u00e9 No encontrado\n",
        "165"
       ]
      },
      {
       "output_type": "stream",
       "stream": "stdout",
       "text": [
        " abrir\u00eda No encontrado\n",
        "166"
       ]
      },
      {
       "output_type": "stream",
       "stream": "stdout",
       "text": [
        " abrir\u00edan No encontrado\n",
        "167"
       ]
      },
      {
       "output_type": "stream",
       "stream": "stdout",
       "text": [
        " abriste No encontrado\n",
        "168"
       ]
      },
      {
       "output_type": "stream",
       "stream": "stdout",
       "text": [
        " abri\u00e9ndola No encontrado\n",
        "169"
       ]
      },
      {
       "output_type": "stream",
       "stream": "stdout",
       "text": [
        " abri\u00e9ndole No encontrado\n",
        "170"
       ]
      },
      {
       "output_type": "stream",
       "stream": "stdout",
       "text": [
        " abri\u00e9ndolos No encontrado\n",
        "171"
       ]
      },
      {
       "output_type": "stream",
       "stream": "stdout",
       "text": [
        " abri\u00e9ndose No encontrado\n",
        "172"
       ]
      },
      {
       "output_type": "stream",
       "stream": "stdout",
       "text": [
        " abri\u00f3 No encontrado\n",
        "173"
       ]
      },
      {
       "output_type": "stream",
       "stream": "stdout",
       "text": [
        " abri\u00f3le No encontrado\n",
        "174"
       ]
      },
      {
       "output_type": "stream",
       "stream": "stdout",
       "text": [
        " abri\u00f3se No encontrado\n",
        "175"
       ]
      },
      {
       "output_type": "stream",
       "stream": "stdout",
       "text": [
        " abro No encontrado\n",
        "176"
       ]
      },
      {
       "output_type": "stream",
       "stream": "stdout",
       "text": [
        " abrojos No encontrado\n",
        "177"
       ]
      },
      {
       "output_type": "stream",
       "stream": "stdout",
       "text": [
        " abr\u00e1is No encontrado\n",
        "178"
       ]
      },
      {
       "output_type": "stream",
       "stream": "stdout",
       "text": [
        " abr\u00ed No encontrado\n",
        "179"
       ]
      },
      {
       "output_type": "stream",
       "stream": "stdout",
       "text": [
        " abr\u00eda No encontrado\n",
        "180"
       ]
      },
      {
       "output_type": "stream",
       "stream": "stdout",
       "text": [
        " abr\u00edan No encontrado\n",
        "181"
       ]
      },
      {
       "output_type": "stream",
       "stream": "stdout",
       "text": [
        " abr\u00edla No encontrado\n",
        "182"
       ]
      },
      {
       "output_type": "stream",
       "stream": "stdout",
       "text": [
        " abr\u00eds No encontrado\n",
        "183"
       ]
      },
      {
       "output_type": "stream",
       "stream": "stdout",
       "text": [
        " absens No encontrado\n",
        "184"
       ]
      },
      {
       "output_type": "stream",
       "stream": "stdout",
       "text": [
        " absit No encontrado\n",
        "185"
       ]
      },
      {
       "output_type": "stream",
       "stream": "stdout",
       "text": [
        " absoluci\u00f3n No encontrado\n",
        "186"
       ]
      },
      {
       "output_type": "stream",
       "stream": "stdout",
       "text": [
        " absoluta No encontrado\n",
        "187"
       ]
      },
      {
       "output_type": "stream",
       "stream": "stdout",
       "text": [
        " absolutamente No encontrado\n",
        "188"
       ]
      },
      {
       "output_type": "stream",
       "stream": "stdout",
       "text": [
        " absoluto No encontrado\n",
        "189"
       ]
      },
      {
       "output_type": "stream",
       "stream": "stdout",
       "text": [
        " absolutos No encontrado\n",
        "190"
       ]
      },
      {
       "output_type": "stream",
       "stream": "stdout",
       "text": [
        " absortar No encontrado\n",
        "191"
       ]
      },
      {
       "output_type": "stream",
       "stream": "stdout",
       "text": [
        " absorto No encontrado\n",
        "192"
       ]
      },
      {
       "output_type": "stream",
       "stream": "stdout",
       "text": [
        " abstengas No encontrado\n",
        "193"
       ]
      },
      {
       "output_type": "stream",
       "stream": "stdout",
       "text": [
        " absteni\u00e9ndote No encontrado\n",
        "194"
       ]
      },
      {
       "output_type": "stream",
       "stream": "stdout",
       "text": [
        " absuelto No encontrado\n",
        "195"
       ]
      },
      {
       "output_type": "stream",
       "stream": "stdout",
       "text": [
        " absuelve No encontrado\n",
        "196"
       ]
      },
      {
       "output_type": "stream",
       "stream": "stdout",
       "text": [
        " absuelvo No encontrado\n",
        "197"
       ]
      },
      {
       "output_type": "stream",
       "stream": "stdout",
       "text": [
        " absurdos No encontrado\n",
        "198"
       ]
      },
      {
       "output_type": "stream",
       "stream": "stdout",
       "text": [
        " abuelos No encontrado\n",
        "199"
       ]
      },
      {
       "output_type": "stream",
       "stream": "stdout",
       "text": [
        " abunda No encontrado\n",
        "200"
       ]
      },
      {
       "output_type": "stream",
       "stream": "stdout",
       "text": [
        " abundaba No encontrado\n",
        "201"
       ]
      },
      {
       "output_type": "stream",
       "stream": "stdout",
       "text": [
        " abundaban No encontrado\n",
        "202"
       ]
      },
      {
       "output_type": "stream",
       "stream": "stdout",
       "text": [
        " abundan No encontrado\n",
        "203"
       ]
      },
      {
       "output_type": "stream",
       "stream": "stdout",
       "text": [
        " abundancia No encontrado\n",
        "204"
       ]
      },
      {
       "output_type": "stream",
       "stream": "stdout",
       "text": [
        " abundante No encontrado\n",
        "205"
       ]
      },
      {
       "output_type": "stream",
       "stream": "stdout",
       "text": [
        " abundantemente No encontrado\n",
        "206"
       ]
      },
      {
       "output_type": "stream",
       "stream": "stdout",
       "text": [
        " abundantes No encontrado\n",
        "207"
       ]
      },
      {
       "output_type": "stream",
       "stream": "stdout",
       "text": [
        " abundant\u00edsima No encontrado\n",
        "208"
       ]
      },
      {
       "output_type": "stream",
       "stream": "stdout",
       "text": [
        " abundant\u00edsimamente No encontrado\n",
        "209"
       ]
      },
      {
       "output_type": "stream",
       "stream": "stdout",
       "text": [
        " abundant\u00edsimo No encontrado\n",
        "210"
       ]
      },
      {
       "output_type": "stream",
       "stream": "stdout",
       "text": [
        " abundosa No encontrado\n",
        "211"
       ]
      },
      {
       "output_type": "stream",
       "stream": "stdout",
       "text": [
        " abundoso No encontrado\n",
        "212"
       ]
      },
      {
       "output_type": "stream",
       "stream": "stdout",
       "text": [
        " aburrida No encontrado\n",
        "213"
       ]
      },
      {
       "output_type": "stream",
       "stream": "stdout",
       "text": [
        " abuso No encontrado\n",
        "214"
       ]
      },
      {
       "output_type": "stream",
       "stream": "stdout",
       "text": [
        " abusos No encontrado\n",
        "215"
       ]
      },
      {
       "output_type": "stream",
       "stream": "stdout",
       "text": [
        " acaba No encontrado\n",
        "216"
       ]
      },
      {
       "output_type": "stream",
       "stream": "stdout",
       "text": [
        " acababa No encontrado\n",
        "217"
       ]
      },
      {
       "output_type": "stream",
       "stream": "stdout",
       "text": [
        " acababan No encontrado\n",
        "218"
       ]
      },
      {
       "output_type": "stream",
       "stream": "stdout",
       "text": [
        " acabable No encontrado\n",
        "219"
       ]
      },
      {
       "output_type": "stream",
       "stream": "stdout",
       "text": [
        " acabad No encontrado\n",
        "220"
       ]
      },
      {
       "output_type": "stream",
       "stream": "stdout",
       "text": [
        " acabada No encontrado\n",
        "221"
       ]
      },
      {
       "output_type": "stream",
       "stream": "stdout",
       "text": [
        " acabadas No encontrado\n",
        "222"
       ]
      },
      {
       "output_type": "stream",
       "stream": "stdout",
       "text": [
        " acabadme No encontrado\n",
        "223"
       ]
      },
      {
       "output_type": "stream",
       "stream": "stdout",
       "text": [
        " acabado No encontrado\n",
        "224"
       ]
      },
      {
       "output_type": "stream",
       "stream": "stdout",
       "text": [
        " acabados No encontrado\n",
        "225"
       ]
      },
      {
       "output_type": "stream",
       "stream": "stdout",
       "text": [
        " acaballa No encontrado\n",
        "226"
       ]
      },
      {
       "output_type": "stream",
       "stream": "stdout",
       "text": [
        " acaballe No encontrado\n",
        "227"
       ]
      },
      {
       "output_type": "stream",
       "stream": "stdout",
       "text": [
        " acabamiento No encontrado\n",
        "228"
       ]
      },
      {
       "output_type": "stream",
       "stream": "stdout",
       "text": [
        " acabamos No encontrado\n",
        "229"
       ]
      },
      {
       "output_type": "stream",
       "stream": "stdout",
       "text": [
        " acaban No encontrado\n",
        "230"
       ]
      },
      {
       "output_type": "stream",
       "stream": "stdout",
       "text": [
        " acabando No encontrado\n",
        "231"
       ]
      },
      {
       "output_type": "stream",
       "stream": "stdout",
       "text": [
        " acabar No encontrado\n",
        "232"
       ]
      },
      {
       "output_type": "stream",
       "stream": "stdout",
       "text": [
        " acabara No encontrado\n",
        "233"
       ]
      },
      {
       "output_type": "stream",
       "stream": "stdout",
       "text": [
        " acabaran No encontrado\n",
        "234"
       ]
      },
      {
       "output_type": "stream",
       "stream": "stdout",
       "text": [
        " acabare No encontrado\n",
        "235"
       ]
      },
      {
       "output_type": "stream",
       "stream": "stdout",
       "text": [
        " acabaremos No encontrado\n",
        "236"
       ]
      },
      {
       "output_type": "stream",
       "stream": "stdout",
       "text": [
        " acabarla No encontrado\n",
        "237"
       ]
      },
      {
       "output_type": "stream",
       "stream": "stdout",
       "text": [
        " acabarle No encontrado\n",
        "238"
       ]
      },
      {
       "output_type": "stream",
       "stream": "stdout",
       "text": [
        " acabarnos No encontrado\n",
        "239"
       ]
      },
      {
       "output_type": "stream",
       "stream": "stdout",
       "text": [
        " acabaron No encontrado\n",
        "240"
       ]
      },
      {
       "output_type": "stream",
       "stream": "stdout",
       "text": [
        " acabarse No encontrado\n",
        "241"
       ]
      },
      {
       "output_type": "stream",
       "stream": "stdout",
       "text": [
        " acabar\u00e1 No encontrado\n",
        "242"
       ]
      },
      {
       "output_type": "stream",
       "stream": "stdout",
       "text": [
        " acabar\u00e1s No encontrado\n",
        "243"
       ]
      },
      {
       "output_type": "stream",
       "stream": "stdout",
       "text": [
        " acabar\u00e9 No encontrado\n",
        "244"
       ]
      },
      {
       "output_type": "stream",
       "stream": "stdout",
       "text": [
        " acabar\u00edamos No encontrado\n",
        "245"
       ]
      },
      {
       "output_type": "stream",
       "stream": "stdout",
       "text": [
        " acabas No encontrado\n",
        "246"
       ]
      },
      {
       "output_type": "stream",
       "stream": "stdout",
       "text": [
        " acabase No encontrado\n",
        "247"
       ]
      },
      {
       "output_type": "stream",
       "stream": "stdout",
       "text": [
        " acabasen No encontrado\n",
        "248"
       ]
      },
      {
       "output_type": "stream",
       "stream": "stdout",
       "text": [
        " acabaste No encontrado\n",
        "249"
       ]
      },
      {
       "output_type": "stream",
       "stream": "stdout",
       "text": [
        " acabe No encontrado\n",
        "250"
       ]
      },
      {
       "output_type": "stream",
       "stream": "stdout",
       "text": [
        " acabemos No encontrado\n",
        "251"
       ]
      },
      {
       "output_type": "stream",
       "stream": "stdout",
       "text": [
        " acaben No encontrado\n",
        "252"
       ]
      },
      {
       "output_type": "stream",
       "stream": "stdout",
       "text": [
        " acabo No encontrado\n",
        "253"
       ]
      },
      {
       "output_type": "stream",
       "stream": "stdout",
       "text": [
        " acabose No encontrado\n",
        "254"
       ]
      },
      {
       "output_type": "stream",
       "stream": "stdout",
       "text": [
        " acab\u00e1bamos No encontrado\n",
        "255"
       ]
      },
      {
       "output_type": "stream",
       "stream": "stdout",
       "text": [
        " acab\u00e1is No encontrado\n",
        "256"
       ]
      },
      {
       "output_type": "stream",
       "stream": "stdout",
       "text": [
        " acab\u00e1ndola No encontrado\n",
        "257"
       ]
      },
      {
       "output_type": "stream",
       "stream": "stdout",
       "text": [
        " acab\u00e1ndolos No encontrado\n",
        "258"
       ]
      },
      {
       "output_type": "stream",
       "stream": "stdout",
       "text": [
        " acab\u00e1ndonoslas No encontrado\n",
        "259"
       ]
      },
      {
       "output_type": "stream",
       "stream": "stdout",
       "text": [
        " acab\u00e1ndose No encontrado\n",
        "260"
       ]
      },
      {
       "output_type": "stream",
       "stream": "stdout",
       "text": [
        " acab\u00e1ronse No encontrado\n",
        "261"
       ]
      },
      {
       "output_type": "stream",
       "stream": "stdout",
       "text": [
        " acab\u00e1rsele No encontrado\n",
        "262"
       ]
      },
      {
       "output_type": "stream",
       "stream": "stdout",
       "text": [
        " acab\u00e1rseme No encontrado\n",
        "263"
       ]
      },
      {
       "output_type": "stream",
       "stream": "stdout",
       "text": [
        " acab\u00e9is No encontrado\n",
        "264"
       ]
      },
      {
       "output_type": "stream",
       "stream": "stdout",
       "text": [
        " acab\u00f3 No encontrado\n",
        "265"
       ]
      },
      {
       "output_type": "stream",
       "stream": "stdout",
       "text": [
        " acab\u00f3se No encontrado\n",
        "266"
       ]
      },
      {
       "output_type": "stream",
       "stream": "stdout",
       "text": [
        " academias No encontrado\n",
        "267"
       ]
      },
      {
       "output_type": "stream",
       "stream": "stdout",
       "text": [
        " acad\u00e9mico No encontrado\n",
        "268"
       ]
      },
      {
       "output_type": "stream",
       "stream": "stdout",
       "text": [
        " acad\u00e9micos No encontrado\n",
        "269"
       ]
      },
      {
       "output_type": "stream",
       "stream": "stdout",
       "text": [
        " acaece No encontrado\n",
        "270"
       ]
      },
      {
       "output_type": "stream",
       "stream": "stdout",
       "text": [
        " acaecen No encontrado\n",
        "271"
       ]
      },
      {
       "output_type": "stream",
       "stream": "stdout",
       "text": [
        " acaecido No encontrado\n",
        "272"
       ]
      },
      {
       "output_type": "stream",
       "stream": "stdout",
       "text": [
        " acaecimiento No encontrado\n",
        "273"
       ]
      },
      {
       "output_type": "stream",
       "stream": "stdout",
       "text": [
        " acaecimientos No encontrado\n",
        "274"
       ]
      },
      {
       "output_type": "stream",
       "stream": "stdout",
       "text": [
        " acaeci\u00f3 No encontrado\n",
        "275"
       ]
      },
      {
       "output_type": "stream",
       "stream": "stdout",
       "text": [
        " acallar No encontrado\n",
        "276"
       ]
      },
      {
       "output_type": "stream",
       "stream": "stdout",
       "text": [
        " acallase No encontrado\n",
        "277"
       ]
      },
      {
       "output_type": "stream",
       "stream": "stdout",
       "text": [
        " acallole No encontrado\n",
        "278"
       ]
      },
      {
       "output_type": "stream",
       "stream": "stdout",
       "text": [
        " acamuzado No encontrado\n",
        "279"
       ]
      },
      {
       "output_type": "stream",
       "stream": "stdout",
       "text": [
        " acanaladas No encontrado\n",
        "280"
       ]
      },
      {
       "output_type": "stream",
       "stream": "stdout",
       "text": [
        " acardenalado No encontrado\n",
        "281"
       ]
      },
      {
       "output_type": "stream",
       "stream": "stdout",
       "text": [
        " acardenalarme No encontrado\n",
        "282"
       ]
      },
      {
       "output_type": "stream",
       "stream": "stdout",
       "text": [
        " acariciar No encontrado\n",
        "283"
       ]
      },
      {
       "output_type": "stream",
       "stream": "stdout",
       "text": [
        " acariciase No encontrado\n",
        "284"
       ]
      },
      {
       "output_type": "stream",
       "stream": "stdout",
       "text": [
        " acarici\u00e1ndola No encontrado\n",
        "285"
       ]
      },
      {
       "output_type": "stream",
       "stream": "stdout",
       "text": [
        " acaronte No encontrado\n",
        "286"
       ]
      },
      {
       "output_type": "stream",
       "stream": "stdout",
       "text": [
        " acarrea No encontrado\n",
        "287"
       ]
      },
      {
       "output_type": "stream",
       "stream": "stdout",
       "text": [
        " acarrean No encontrado\n",
        "288"
       ]
      },
      {
       "output_type": "stream",
       "stream": "stdout",
       "text": [
        " acaso No encontrado\n",
        "289"
       ]
      },
      {
       "output_type": "stream",
       "stream": "stdout",
       "text": [
        " acatamiento No encontrado\n",
        "290"
       ]
      },
      {
       "output_type": "stream",
       "stream": "stdout",
       "text": [
        " accidente No encontrado\n",
        "291"
       ]
      },
      {
       "output_type": "stream",
       "stream": "stdout",
       "text": [
        " accidentes No encontrado\n",
        "292"
       ]
      },
      {
       "output_type": "stream",
       "stream": "stdout",
       "text": [
        " acciones No encontrado\n",
        "293"
       ]
      },
      {
       "output_type": "stream",
       "stream": "stdout",
       "text": [
        " acci\u00f3n No encontrado\n",
        "294"
       ]
      },
      {
       "output_type": "stream",
       "stream": "stdout",
       "text": [
        " acebo No encontrado\n",
        "295"
       ]
      },
      {
       "output_type": "stream",
       "stream": "stdout",
       "text": [
        " acechando No encontrado\n",
        "296"
       ]
      },
      {
       "output_type": "stream",
       "stream": "stdout",
       "text": [
        " aceda No encontrado\n",
        "297"
       ]
      },
      {
       "output_type": "stream",
       "stream": "stdout",
       "text": [
        " acefaros No encontrado\n",
        "298"
       ]
      },
      {
       "output_type": "stream",
       "stream": "stdout",
       "text": [
        " aceite No encontrado\n",
        "299"
       ]
      },
      {
       "output_type": "stream",
       "stream": "stdout",
       "text": [
        " aceitera No encontrado\n",
        "300"
       ]
      },
      {
       "output_type": "stream",
       "stream": "stdout",
       "text": [
        " aceitunas No encontrado\n",
        "301"
       ]
      },
      {
       "output_type": "stream",
       "stream": "stdout",
       "text": [
        " acelerada No encontrado\n",
        "302"
       ]
      },
      {
       "output_type": "stream",
       "stream": "stdout",
       "text": [
        " acelerado No encontrado\n",
        "303"
       ]
      },
      {
       "output_type": "stream",
       "stream": "stdout",
       "text": [
        " acelerando No encontrado\n",
        "304"
       ]
      },
      {
       "output_type": "stream",
       "stream": "stdout",
       "text": [
        " acendrad\u00edsimo No encontrado\n",
        "305"
       ]
      },
      {
       "output_type": "stream",
       "stream": "stdout",
       "text": [
        " acento No encontrado\n",
        "306"
       ]
      },
      {
       "output_type": "stream",
       "stream": "stdout",
       "text": [
        " acentos No encontrado\n",
        "307"
       ]
      },
      {
       "output_type": "stream",
       "stream": "stdout",
       "text": [
        " acepillar No encontrado\n",
        "308"
       ]
      },
      {
       "output_type": "stream",
       "stream": "stdout",
       "text": [
        " aceptaba No encontrado\n",
        "309"
       ]
      },
      {
       "output_type": "stream",
       "stream": "stdout",
       "text": [
        " aceptar No encontrado\n",
        "310"
       ]
      },
      {
       "output_type": "stream",
       "stream": "stdout",
       "text": [
        " aceptase No encontrado\n",
        "311"
       ]
      },
      {
       "output_type": "stream",
       "stream": "stdout",
       "text": [
        " acepto No encontrado\n",
        "312"
       ]
      },
      {
       "output_type": "stream",
       "stream": "stdout",
       "text": [
        " acept\u00f3 No encontrado\n",
        "313"
       ]
      },
      {
       "output_type": "stream",
       "stream": "stdout",
       "text": [
        " acept\u00f3lo No encontrado\n",
        "314"
       ]
      },
      {
       "output_type": "stream",
       "stream": "stdout",
       "text": [
        " acerada No encontrado\n",
        "315"
       ]
      },
      {
       "output_type": "stream",
       "stream": "stdout",
       "text": [
        " acerado No encontrado\n",
        "316"
       ]
      },
      {
       "output_type": "stream",
       "stream": "stdout",
       "text": [
        " acerbo No encontrado\n",
        "317"
       ]
      },
      {
       "output_type": "stream",
       "stream": "stdout",
       "text": [
        " acerbus No encontrado\n",
        "318"
       ]
      },
      {
       "output_type": "stream",
       "stream": "stdout",
       "text": [
        " acerb\u00edsimamente No encontrado\n",
        "319"
       ]
      },
      {
       "output_type": "stream",
       "stream": "stdout",
       "text": [
        " acerca No encontrado\n",
        "320"
       ]
      },
      {
       "output_type": "stream",
       "stream": "stdout",
       "text": [
        " acercado No encontrado\n",
        "321"
       ]
      },
      {
       "output_type": "stream",
       "stream": "stdout",
       "text": [
        " acercando No encontrado\n",
        "322"
       ]
      },
      {
       "output_type": "stream",
       "stream": "stdout",
       "text": [
        " acercar\u00e9 No encontrado\n",
        "323"
       ]
      },
      {
       "output_type": "stream",
       "stream": "stdout",
       "text": [
        " acercose No encontrado\n",
        "324"
       ]
      },
      {
       "output_type": "stream",
       "stream": "stdout",
       "text": [
        " acerc\u00e1ndose No encontrado\n",
        "325"
       ]
      },
      {
       "output_type": "stream",
       "stream": "stdout",
       "text": [
        " acerc\u00e1rsele No encontrado\n",
        "326"
       ]
      },
      {
       "output_type": "stream",
       "stream": "stdout",
       "text": [
        " acerc\u00f3 No encontrado\n",
        "327"
       ]
      },
      {
       "output_type": "stream",
       "stream": "stdout",
       "text": [
        " acerc\u00f3se No encontrado\n",
        "328"
       ]
      },
      {
       "output_type": "stream",
       "stream": "stdout",
       "text": [
        " acero No encontrado\n",
        "329"
       ]
      },
      {
       "output_type": "stream",
       "stream": "stdout",
       "text": [
        " aceros No encontrado\n",
        "330"
       ]
      },
      {
       "output_type": "stream",
       "stream": "stdout",
       "text": [
        " acertaba No encontrado\n",
        "331"
       ]
      },
      {
       "output_type": "stream",
       "stream": "stdout",
       "text": [
        " acertaban No encontrado\n",
        "332"
       ]
      },
      {
       "output_type": "stream",
       "stream": "stdout",
       "text": [
        " acertada No encontrado\n",
        "333"
       ]
      },
      {
       "output_type": "stream",
       "stream": "stdout",
       "text": [
        " acertadas No encontrado\n",
        "334"
       ]
      },
      {
       "output_type": "stream",
       "stream": "stdout",
       "text": [
        " acertado No encontrado\n",
        "335"
       ]
      },
      {
       "output_type": "stream",
       "stream": "stdout",
       "text": [
        " acertados No encontrado\n",
        "336"
       ]
      },
      {
       "output_type": "stream",
       "stream": "stdout",
       "text": [
        " acertad\u00edsimo No encontrado\n",
        "337"
       ]
      },
      {
       "output_type": "stream",
       "stream": "stdout",
       "text": [
        " acertar No encontrado\n",
        "338"
       ]
      },
      {
       "output_type": "stream",
       "stream": "stdout",
       "text": [
        " acertara No encontrado\n",
        "339"
       ]
      },
      {
       "output_type": "stream",
       "stream": "stdout",
       "text": [
        " acertare No encontrado\n",
        "340"
       ]
      },
      {
       "output_type": "stream",
       "stream": "stdout",
       "text": [
        " acertares No encontrado\n",
        "341"
       ]
      },
      {
       "output_type": "stream",
       "stream": "stdout",
       "text": [
        " acertarle No encontrado\n",
        "342"
       ]
      },
      {
       "output_type": "stream",
       "stream": "stdout",
       "text": [
        " acertaron No encontrado\n",
        "343"
       ]
      },
      {
       "output_type": "stream",
       "stream": "stdout",
       "text": [
        " acertar\u00e9 No encontrado\n",
        "344"
       ]
      },
      {
       "output_type": "stream",
       "stream": "stdout",
       "text": [
        " acertar\u00e9is No encontrado\n",
        "345"
       ]
      },
      {
       "output_type": "stream",
       "stream": "stdout",
       "text": [
        " acertase No encontrado\n",
        "346"
       ]
      },
      {
       "output_type": "stream",
       "stream": "stdout",
       "text": [
        " acertasen No encontrado\n",
        "347"
       ]
      },
      {
       "output_type": "stream",
       "stream": "stdout",
       "text": [
        " acertastes No encontrado\n",
        "348"
       ]
      },
      {
       "output_type": "stream",
       "stream": "stdout",
       "text": [
        " acert\u00e1is No encontrado\n",
        "349"
       ]
      },
      {
       "output_type": "stream",
       "stream": "stdout",
       "text": [
        " acert\u00e1ndola No encontrado\n",
        "350"
       ]
      },
      {
       "output_type": "stream",
       "stream": "stdout",
       "text": [
        " acert\u00e1ndole No encontrado\n",
        "351"
       ]
      },
      {
       "output_type": "stream",
       "stream": "stdout",
       "text": [
        " acert\u00e1ramos No encontrado\n",
        "352"
       ]
      },
      {
       "output_type": "stream",
       "stream": "stdout",
       "text": [
        " acert\u00e9 No encontrado\n",
        "353"
       ]
      },
      {
       "output_type": "stream",
       "stream": "stdout",
       "text": [
        " acert\u00f3 No encontrado\n"
       ]
      },
      {
       "ename": "KeyboardInterrupt",
       "evalue": "",
       "output_type": "pyerr",
       "traceback": [
        "\u001b[1;31m---------------------------------------------------------------------------\u001b[0m\n\u001b[1;31mKeyboardInterrupt\u001b[0m                         Traceback (most recent call last)",
        "\u001b[1;32m<ipython-input-51-bfae182b43c1>\u001b[0m in \u001b[0;36m<module>\u001b[1;34m()\u001b[0m\n\u001b[0;32m      4\u001b[0m \u001b[1;32mfor\u001b[0m \u001b[0mxxx\u001b[0m \u001b[1;32min\u001b[0m \u001b[0mc\u001b[0m\u001b[1;33m.\u001b[0m\u001b[0maggregate\u001b[0m\u001b[1;33m(\u001b[0m\u001b[1;33m[\u001b[0m\u001b[1;33m{\u001b[0m\u001b[1;34m'$sort'\u001b[0m\u001b[1;33m:\u001b[0m \u001b[1;33m{\u001b[0m\u001b[1;34m'palabra'\u001b[0m\u001b[1;33m:\u001b[0m\u001b[1;36m1\u001b[0m\u001b[1;33m}\u001b[0m\u001b[1;33m}\u001b[0m\u001b[1;33m,\u001b[0m\u001b[1;33m{\u001b[0m\u001b[1;34m'$project'\u001b[0m\u001b[1;33m:\u001b[0m \u001b[1;33m{\u001b[0m\u001b[1;34m'palabra'\u001b[0m\u001b[1;33m:\u001b[0m\u001b[1;36m1\u001b[0m\u001b[1;33m,\u001b[0m \u001b[1;34m'Q12'\u001b[0m\u001b[1;33m:\u001b[0m \u001b[1;36m1\u001b[0m\u001b[1;33m,\u001b[0m \u001b[1;34m'QA'\u001b[0m\u001b[1;33m:\u001b[0m \u001b[1;36m1\u001b[0m\u001b[1;33m,\u001b[0m \u001b[1;34m'_id'\u001b[0m\u001b[1;33m:\u001b[0m\u001b[1;36m0\u001b[0m\u001b[1;33m}\u001b[0m\u001b[1;33m}\u001b[0m\u001b[1;33m]\u001b[0m\u001b[1;33m)\u001b[0m\u001b[1;33m:\u001b[0m\u001b[1;33m\u001b[0m\u001b[0m\n\u001b[0;32m      5\u001b[0m     \u001b[0mpalabra\u001b[0m \u001b[1;33m=\u001b[0m \u001b[0mxxx\u001b[0m\u001b[1;33m[\u001b[0m\u001b[1;34m'palabra'\u001b[0m\u001b[1;33m]\u001b[0m\u001b[1;33m\u001b[0m\u001b[0m\n\u001b[1;32m----> 6\u001b[1;33m     \u001b[0mlexema\u001b[0m \u001b[1;33m=\u001b[0m \u001b[0mbuscar_lexema\u001b[0m\u001b[1;33m(\u001b[0m\u001b[0mpalabra\u001b[0m\u001b[1;33m)\u001b[0m\u001b[1;33m\u001b[0m\u001b[0m\n\u001b[0m\u001b[0;32m      7\u001b[0m     \u001b[0mquery\u001b[0m \u001b[1;33m=\u001b[0m \u001b[1;33m{\u001b[0m\u001b[1;34m'palabra'\u001b[0m\u001b[1;33m:\u001b[0m \u001b[0mpalabra\u001b[0m\u001b[1;33m}\u001b[0m\u001b[1;33m\u001b[0m\u001b[0m\n\u001b[0;32m      8\u001b[0m     \u001b[0mupdate\u001b[0m \u001b[1;33m=\u001b[0m \u001b[1;33m{\u001b[0m\u001b[1;34m\"$set\"\u001b[0m\u001b[1;33m:\u001b[0m \u001b[1;33m{\u001b[0m\u001b[1;34m'lexema'\u001b[0m\u001b[1;33m:\u001b[0m \u001b[0mlexema\u001b[0m\u001b[1;33m}\u001b[0m\u001b[1;33m}\u001b[0m\u001b[1;33m\u001b[0m\u001b[0m\n",
        "\u001b[1;32m<ipython-input-41-1931dd93af26>\u001b[0m in \u001b[0;36mbuscar_lexema\u001b[1;34m(palabra)\u001b[0m\n\u001b[0;32m      8\u001b[0m     \u001b[0mdata\u001b[0m \u001b[1;33m=\u001b[0m \u001b[1;33m{\u001b[0m\u001b[1;34m\"Verbo\"\u001b[0m\u001b[1;33m:\u001b[0m\u001b[0mpalabra\u001b[0m\u001b[1;33m}\u001b[0m\u001b[1;33m\u001b[0m\u001b[0m\n\u001b[0;32m      9\u001b[0m \u001b[1;33m\u001b[0m\u001b[0m\n\u001b[1;32m---> 10\u001b[1;33m     \u001b[0mresp\u001b[0m \u001b[1;33m=\u001b[0m \u001b[0mrequests\u001b[0m\u001b[1;33m.\u001b[0m\u001b[0mpost\u001b[0m\u001b[1;33m(\u001b[0m\u001b[0murl\u001b[0m\u001b[1;33m,\u001b[0m \u001b[0mdata\u001b[0m\u001b[1;33m)\u001b[0m\u001b[1;33m\u001b[0m\u001b[0m\n\u001b[0m\u001b[0;32m     11\u001b[0m \u001b[1;33m\u001b[0m\u001b[0m\n\u001b[0;32m     12\u001b[0m     \u001b[1;32mif\u001b[0m \u001b[0mresp\u001b[0m\u001b[1;33m.\u001b[0m\u001b[0mstatus_code\u001b[0m \u001b[1;33m==\u001b[0m \u001b[1;36m200\u001b[0m\u001b[1;33m:\u001b[0m\u001b[1;33m\u001b[0m\u001b[0m\n",
        "\u001b[1;32mC:\\Python34\\lib\\site-packages\\requests\\api.py\u001b[0m in \u001b[0;36mpost\u001b[1;34m(url, data, json, **kwargs)\u001b[0m\n\u001b[0;32m    109\u001b[0m     \"\"\"\n\u001b[0;32m    110\u001b[0m \u001b[1;33m\u001b[0m\u001b[0m\n\u001b[1;32m--> 111\u001b[1;33m     \u001b[1;32mreturn\u001b[0m \u001b[0mrequest\u001b[0m\u001b[1;33m(\u001b[0m\u001b[1;34m'post'\u001b[0m\u001b[1;33m,\u001b[0m \u001b[0murl\u001b[0m\u001b[1;33m,\u001b[0m \u001b[0mdata\u001b[0m\u001b[1;33m=\u001b[0m\u001b[0mdata\u001b[0m\u001b[1;33m,\u001b[0m \u001b[0mjson\u001b[0m\u001b[1;33m=\u001b[0m\u001b[0mjson\u001b[0m\u001b[1;33m,\u001b[0m \u001b[1;33m**\u001b[0m\u001b[0mkwargs\u001b[0m\u001b[1;33m)\u001b[0m\u001b[1;33m\u001b[0m\u001b[0m\n\u001b[0m\u001b[0;32m    112\u001b[0m \u001b[1;33m\u001b[0m\u001b[0m\n\u001b[0;32m    113\u001b[0m \u001b[1;33m\u001b[0m\u001b[0m\n",
        "\u001b[1;32mC:\\Python34\\lib\\site-packages\\requests\\api.py\u001b[0m in \u001b[0;36mrequest\u001b[1;34m(method, url, **kwargs)\u001b[0m\n\u001b[0;32m     55\u001b[0m     \u001b[1;31m# cases, and look like a memory leak in others.\u001b[0m\u001b[1;33m\u001b[0m\u001b[1;33m\u001b[0m\u001b[0m\n\u001b[0;32m     56\u001b[0m     \u001b[1;32mwith\u001b[0m \u001b[0msessions\u001b[0m\u001b[1;33m.\u001b[0m\u001b[0mSession\u001b[0m\u001b[1;33m(\u001b[0m\u001b[1;33m)\u001b[0m \u001b[1;32mas\u001b[0m \u001b[0msession\u001b[0m\u001b[1;33m:\u001b[0m\u001b[1;33m\u001b[0m\u001b[0m\n\u001b[1;32m---> 57\u001b[1;33m         \u001b[1;32mreturn\u001b[0m \u001b[0msession\u001b[0m\u001b[1;33m.\u001b[0m\u001b[0mrequest\u001b[0m\u001b[1;33m(\u001b[0m\u001b[0mmethod\u001b[0m\u001b[1;33m=\u001b[0m\u001b[0mmethod\u001b[0m\u001b[1;33m,\u001b[0m \u001b[0murl\u001b[0m\u001b[1;33m=\u001b[0m\u001b[0murl\u001b[0m\u001b[1;33m,\u001b[0m \u001b[1;33m**\u001b[0m\u001b[0mkwargs\u001b[0m\u001b[1;33m)\u001b[0m\u001b[1;33m\u001b[0m\u001b[0m\n\u001b[0m\u001b[0;32m     58\u001b[0m \u001b[1;33m\u001b[0m\u001b[0m\n\u001b[0;32m     59\u001b[0m \u001b[1;33m\u001b[0m\u001b[0m\n",
        "\u001b[1;32mC:\\Python34\\lib\\site-packages\\requests\\sessions.py\u001b[0m in \u001b[0;36mrequest\u001b[1;34m(self, method, url, params, data, headers, cookies, files, auth, timeout, allow_redirects, proxies, hooks, stream, verify, cert, json)\u001b[0m\n\u001b[0;32m    473\u001b[0m         }\n\u001b[0;32m    474\u001b[0m         \u001b[0msend_kwargs\u001b[0m\u001b[1;33m.\u001b[0m\u001b[0mupdate\u001b[0m\u001b[1;33m(\u001b[0m\u001b[0msettings\u001b[0m\u001b[1;33m)\u001b[0m\u001b[1;33m\u001b[0m\u001b[0m\n\u001b[1;32m--> 475\u001b[1;33m         \u001b[0mresp\u001b[0m \u001b[1;33m=\u001b[0m \u001b[0mself\u001b[0m\u001b[1;33m.\u001b[0m\u001b[0msend\u001b[0m\u001b[1;33m(\u001b[0m\u001b[0mprep\u001b[0m\u001b[1;33m,\u001b[0m \u001b[1;33m**\u001b[0m\u001b[0msend_kwargs\u001b[0m\u001b[1;33m)\u001b[0m\u001b[1;33m\u001b[0m\u001b[0m\n\u001b[0m\u001b[0;32m    476\u001b[0m \u001b[1;33m\u001b[0m\u001b[0m\n\u001b[0;32m    477\u001b[0m         \u001b[1;32mreturn\u001b[0m \u001b[0mresp\u001b[0m\u001b[1;33m\u001b[0m\u001b[0m\n",
        "\u001b[1;32mC:\\Python34\\lib\\site-packages\\requests\\sessions.py\u001b[0m in \u001b[0;36msend\u001b[1;34m(self, request, **kwargs)\u001b[0m\n\u001b[0;32m    583\u001b[0m \u001b[1;33m\u001b[0m\u001b[0m\n\u001b[0;32m    584\u001b[0m         \u001b[1;31m# Send the request\u001b[0m\u001b[1;33m\u001b[0m\u001b[1;33m\u001b[0m\u001b[0m\n\u001b[1;32m--> 585\u001b[1;33m         \u001b[0mr\u001b[0m \u001b[1;33m=\u001b[0m \u001b[0madapter\u001b[0m\u001b[1;33m.\u001b[0m\u001b[0msend\u001b[0m\u001b[1;33m(\u001b[0m\u001b[0mrequest\u001b[0m\u001b[1;33m,\u001b[0m \u001b[1;33m**\u001b[0m\u001b[0mkwargs\u001b[0m\u001b[1;33m)\u001b[0m\u001b[1;33m\u001b[0m\u001b[0m\n\u001b[0m\u001b[0;32m    586\u001b[0m \u001b[1;33m\u001b[0m\u001b[0m\n\u001b[0;32m    587\u001b[0m         \u001b[1;31m# Total elapsed time of the request (approximately)\u001b[0m\u001b[1;33m\u001b[0m\u001b[1;33m\u001b[0m\u001b[0m\n",
        "\u001b[1;32mC:\\Python34\\lib\\site-packages\\requests\\adapters.py\u001b[0m in \u001b[0;36msend\u001b[1;34m(self, request, stream, timeout, verify, cert, proxies)\u001b[0m\n\u001b[0;32m    401\u001b[0m                     \u001b[0mdecode_content\u001b[0m\u001b[1;33m=\u001b[0m\u001b[1;32mFalse\u001b[0m\u001b[1;33m,\u001b[0m\u001b[1;33m\u001b[0m\u001b[0m\n\u001b[0;32m    402\u001b[0m                     \u001b[0mretries\u001b[0m\u001b[1;33m=\u001b[0m\u001b[0mself\u001b[0m\u001b[1;33m.\u001b[0m\u001b[0mmax_retries\u001b[0m\u001b[1;33m,\u001b[0m\u001b[1;33m\u001b[0m\u001b[0m\n\u001b[1;32m--> 403\u001b[1;33m                     \u001b[0mtimeout\u001b[0m\u001b[1;33m=\u001b[0m\u001b[0mtimeout\u001b[0m\u001b[1;33m\u001b[0m\u001b[0m\n\u001b[0m\u001b[0;32m    404\u001b[0m                 )\n\u001b[0;32m    405\u001b[0m \u001b[1;33m\u001b[0m\u001b[0m\n",
        "\u001b[1;32mC:\\Python34\\lib\\site-packages\\requests\\packages\\urllib3\\connectionpool.py\u001b[0m in \u001b[0;36murlopen\u001b[1;34m(self, method, url, body, headers, retries, redirect, assert_same_host, timeout, pool_timeout, release_conn, chunked, **response_kw)\u001b[0m\n\u001b[0;32m    576\u001b[0m                                                   \u001b[0mtimeout\u001b[0m\u001b[1;33m=\u001b[0m\u001b[0mtimeout_obj\u001b[0m\u001b[1;33m,\u001b[0m\u001b[1;33m\u001b[0m\u001b[0m\n\u001b[0;32m    577\u001b[0m                                                   \u001b[0mbody\u001b[0m\u001b[1;33m=\u001b[0m\u001b[0mbody\u001b[0m\u001b[1;33m,\u001b[0m \u001b[0mheaders\u001b[0m\u001b[1;33m=\u001b[0m\u001b[0mheaders\u001b[0m\u001b[1;33m,\u001b[0m\u001b[1;33m\u001b[0m\u001b[0m\n\u001b[1;32m--> 578\u001b[1;33m                                                   chunked=chunked)\n\u001b[0m\u001b[0;32m    579\u001b[0m \u001b[1;33m\u001b[0m\u001b[0m\n\u001b[0;32m    580\u001b[0m             \u001b[1;31m# If we're going to release the connection in ``finally:``, then\u001b[0m\u001b[1;33m\u001b[0m\u001b[1;33m\u001b[0m\u001b[0m\n",
        "\u001b[1;32mC:\\Python34\\lib\\site-packages\\requests\\packages\\urllib3\\connectionpool.py\u001b[0m in \u001b[0;36m_make_request\u001b[1;34m(self, conn, method, url, timeout, chunked, **httplib_request_kw)\u001b[0m\n\u001b[0;32m    385\u001b[0m                 \u001b[0mhttplib_response\u001b[0m \u001b[1;33m=\u001b[0m \u001b[0mconn\u001b[0m\u001b[1;33m.\u001b[0m\u001b[0mgetresponse\u001b[0m\u001b[1;33m(\u001b[0m\u001b[0mbuffering\u001b[0m\u001b[1;33m=\u001b[0m\u001b[1;32mTrue\u001b[0m\u001b[1;33m)\u001b[0m\u001b[1;33m\u001b[0m\u001b[0m\n\u001b[0;32m    386\u001b[0m             \u001b[1;32mexcept\u001b[0m \u001b[0mTypeError\u001b[0m\u001b[1;33m:\u001b[0m  \u001b[1;31m# Python 2.6 and older\u001b[0m\u001b[1;33m\u001b[0m\u001b[0m\n\u001b[1;32m--> 387\u001b[1;33m                 \u001b[0mhttplib_response\u001b[0m \u001b[1;33m=\u001b[0m \u001b[0mconn\u001b[0m\u001b[1;33m.\u001b[0m\u001b[0mgetresponse\u001b[0m\u001b[1;33m(\u001b[0m\u001b[1;33m)\u001b[0m\u001b[1;33m\u001b[0m\u001b[0m\n\u001b[0m\u001b[0;32m    388\u001b[0m         \u001b[1;32mexcept\u001b[0m \u001b[1;33m(\u001b[0m\u001b[0mSocketTimeout\u001b[0m\u001b[1;33m,\u001b[0m \u001b[0mBaseSSLError\u001b[0m\u001b[1;33m,\u001b[0m \u001b[0mSocketError\u001b[0m\u001b[1;33m)\u001b[0m \u001b[1;32mas\u001b[0m \u001b[0me\u001b[0m\u001b[1;33m:\u001b[0m\u001b[1;33m\u001b[0m\u001b[0m\n\u001b[0;32m    389\u001b[0m             \u001b[0mself\u001b[0m\u001b[1;33m.\u001b[0m\u001b[0m_raise_timeout\u001b[0m\u001b[1;33m(\u001b[0m\u001b[0merr\u001b[0m\u001b[1;33m=\u001b[0m\u001b[0me\u001b[0m\u001b[1;33m,\u001b[0m \u001b[0murl\u001b[0m\u001b[1;33m=\u001b[0m\u001b[0murl\u001b[0m\u001b[1;33m,\u001b[0m \u001b[0mtimeout_value\u001b[0m\u001b[1;33m=\u001b[0m\u001b[0mread_timeout\u001b[0m\u001b[1;33m)\u001b[0m\u001b[1;33m\u001b[0m\u001b[0m\n",
        "\u001b[1;32mC:\\Python34\\lib\\http\\client.py\u001b[0m in \u001b[0;36mgetresponse\u001b[1;34m(self)\u001b[0m\n\u001b[0;32m   1170\u001b[0m             \u001b[0mresponse\u001b[0m \u001b[1;33m=\u001b[0m \u001b[0mself\u001b[0m\u001b[1;33m.\u001b[0m\u001b[0mresponse_class\u001b[0m\u001b[1;33m(\u001b[0m\u001b[0mself\u001b[0m\u001b[1;33m.\u001b[0m\u001b[0msock\u001b[0m\u001b[1;33m,\u001b[0m \u001b[0mmethod\u001b[0m\u001b[1;33m=\u001b[0m\u001b[0mself\u001b[0m\u001b[1;33m.\u001b[0m\u001b[0m_method\u001b[0m\u001b[1;33m)\u001b[0m\u001b[1;33m\u001b[0m\u001b[0m\n\u001b[0;32m   1171\u001b[0m \u001b[1;33m\u001b[0m\u001b[0m\n\u001b[1;32m-> 1172\u001b[1;33m         \u001b[0mresponse\u001b[0m\u001b[1;33m.\u001b[0m\u001b[0mbegin\u001b[0m\u001b[1;33m(\u001b[0m\u001b[1;33m)\u001b[0m\u001b[1;33m\u001b[0m\u001b[0m\n\u001b[0m\u001b[0;32m   1173\u001b[0m         \u001b[1;32massert\u001b[0m \u001b[0mresponse\u001b[0m\u001b[1;33m.\u001b[0m\u001b[0mwill_close\u001b[0m \u001b[1;33m!=\u001b[0m \u001b[0m_UNKNOWN\u001b[0m\u001b[1;33m\u001b[0m\u001b[0m\n\u001b[0;32m   1174\u001b[0m         \u001b[0mself\u001b[0m\u001b[1;33m.\u001b[0m\u001b[0m__state\u001b[0m \u001b[1;33m=\u001b[0m \u001b[0m_CS_IDLE\u001b[0m\u001b[1;33m\u001b[0m\u001b[0m\n",
        "\u001b[1;32mC:\\Python34\\lib\\http\\client.py\u001b[0m in \u001b[0;36mbegin\u001b[1;34m(self)\u001b[0m\n\u001b[0;32m    349\u001b[0m         \u001b[1;31m# read until we get a non-100 response\u001b[0m\u001b[1;33m\u001b[0m\u001b[1;33m\u001b[0m\u001b[0m\n\u001b[0;32m    350\u001b[0m         \u001b[1;32mwhile\u001b[0m \u001b[1;32mTrue\u001b[0m\u001b[1;33m:\u001b[0m\u001b[1;33m\u001b[0m\u001b[0m\n\u001b[1;32m--> 351\u001b[1;33m             \u001b[0mversion\u001b[0m\u001b[1;33m,\u001b[0m \u001b[0mstatus\u001b[0m\u001b[1;33m,\u001b[0m \u001b[0mreason\u001b[0m \u001b[1;33m=\u001b[0m \u001b[0mself\u001b[0m\u001b[1;33m.\u001b[0m\u001b[0m_read_status\u001b[0m\u001b[1;33m(\u001b[0m\u001b[1;33m)\u001b[0m\u001b[1;33m\u001b[0m\u001b[0m\n\u001b[0m\u001b[0;32m    352\u001b[0m             \u001b[1;32mif\u001b[0m \u001b[0mstatus\u001b[0m \u001b[1;33m!=\u001b[0m \u001b[0mCONTINUE\u001b[0m\u001b[1;33m:\u001b[0m\u001b[1;33m\u001b[0m\u001b[0m\n\u001b[0;32m    353\u001b[0m                 \u001b[1;32mbreak\u001b[0m\u001b[1;33m\u001b[0m\u001b[0m\n",
        "\u001b[1;32mC:\\Python34\\lib\\http\\client.py\u001b[0m in \u001b[0;36m_read_status\u001b[1;34m(self)\u001b[0m\n\u001b[0;32m    311\u001b[0m \u001b[1;33m\u001b[0m\u001b[0m\n\u001b[0;32m    312\u001b[0m     \u001b[1;32mdef\u001b[0m \u001b[0m_read_status\u001b[0m\u001b[1;33m(\u001b[0m\u001b[0mself\u001b[0m\u001b[1;33m)\u001b[0m\u001b[1;33m:\u001b[0m\u001b[1;33m\u001b[0m\u001b[0m\n\u001b[1;32m--> 313\u001b[1;33m         \u001b[0mline\u001b[0m \u001b[1;33m=\u001b[0m \u001b[0mstr\u001b[0m\u001b[1;33m(\u001b[0m\u001b[0mself\u001b[0m\u001b[1;33m.\u001b[0m\u001b[0mfp\u001b[0m\u001b[1;33m.\u001b[0m\u001b[0mreadline\u001b[0m\u001b[1;33m(\u001b[0m\u001b[0m_MAXLINE\u001b[0m \u001b[1;33m+\u001b[0m \u001b[1;36m1\u001b[0m\u001b[1;33m)\u001b[0m\u001b[1;33m,\u001b[0m \u001b[1;34m\"iso-8859-1\"\u001b[0m\u001b[1;33m)\u001b[0m\u001b[1;33m\u001b[0m\u001b[0m\n\u001b[0m\u001b[0;32m    314\u001b[0m         \u001b[1;32mif\u001b[0m \u001b[0mlen\u001b[0m\u001b[1;33m(\u001b[0m\u001b[0mline\u001b[0m\u001b[1;33m)\u001b[0m \u001b[1;33m>\u001b[0m \u001b[0m_MAXLINE\u001b[0m\u001b[1;33m:\u001b[0m\u001b[1;33m\u001b[0m\u001b[0m\n\u001b[0;32m    315\u001b[0m             \u001b[1;32mraise\u001b[0m \u001b[0mLineTooLong\u001b[0m\u001b[1;33m(\u001b[0m\u001b[1;34m\"status line\"\u001b[0m\u001b[1;33m)\u001b[0m\u001b[1;33m\u001b[0m\u001b[0m\n",
        "\u001b[1;32mC:\\Python34\\lib\\socket.py\u001b[0m in \u001b[0;36mreadinto\u001b[1;34m(self, b)\u001b[0m\n\u001b[0;32m    369\u001b[0m         \u001b[1;32mwhile\u001b[0m \u001b[1;32mTrue\u001b[0m\u001b[1;33m:\u001b[0m\u001b[1;33m\u001b[0m\u001b[0m\n\u001b[0;32m    370\u001b[0m             \u001b[1;32mtry\u001b[0m\u001b[1;33m:\u001b[0m\u001b[1;33m\u001b[0m\u001b[0m\n\u001b[1;32m--> 371\u001b[1;33m                 \u001b[1;32mreturn\u001b[0m \u001b[0mself\u001b[0m\u001b[1;33m.\u001b[0m\u001b[0m_sock\u001b[0m\u001b[1;33m.\u001b[0m\u001b[0mrecv_into\u001b[0m\u001b[1;33m(\u001b[0m\u001b[0mb\u001b[0m\u001b[1;33m)\u001b[0m\u001b[1;33m\u001b[0m\u001b[0m\n\u001b[0m\u001b[0;32m    372\u001b[0m             \u001b[1;32mexcept\u001b[0m \u001b[0mtimeout\u001b[0m\u001b[1;33m:\u001b[0m\u001b[1;33m\u001b[0m\u001b[0m\n\u001b[0;32m    373\u001b[0m                 \u001b[0mself\u001b[0m\u001b[1;33m.\u001b[0m\u001b[0m_timeout_occurred\u001b[0m \u001b[1;33m=\u001b[0m \u001b[1;32mTrue\u001b[0m\u001b[1;33m\u001b[0m\u001b[0m\n",
        "\u001b[1;31mKeyboardInterrupt\u001b[0m: "
       ]
      }
     ],
     "prompt_number": 51
    },
    {
     "cell_type": "code",
     "collapsed": false,
     "input": [
      "import requests\n",
      "from bs4 import BeautifulSoup\n",
      "\n",
      "def buscar_lexema(palabra):\n",
      "    \n",
      "    url = \"http://www.gedlc.ulpgc.es/cgi-bin/nlematot\"\n",
      "    palabra = palabra.encode('iso-8859-1')\n",
      "    data = {\"Verbo\":palabra}\n",
      "\n",
      "    resp = requests.post(url, data)\n",
      "\n",
      "    if resp.status_code == 200:\n",
      "        bs = BeautifulSoup(resp.text)\n",
      "        seccion = bs.find('hr').text\n",
      "        clave = 'Forma can\u00f3nica:'\n",
      "        if clave in seccion:\n",
      "            indice = seccion.index(clave)\n",
      "            texto = seccion[indice:]\n",
      "            return {\"status\": \"OK\", \"lexemas\": get_lexemas(texto)}\n",
      "        else:\n",
      "            return {\"status\": \"No encontrado\"}\n",
      "    else:\n",
      "        return {\"status\": \"Error POST: \" + str(resp.status_code)}\n",
      "    \n",
      "    \n",
      "    \n",
      "import re\n",
      "\n",
      "def get_lexemas(texto_hr):\n",
      "    patron = re.compile(\"(Forma can\u00f3nica:|Flexi\u00f3n:|Categor\u00eda:)\")\n",
      "    lista = patron.split(texto_hr)\n",
      "    lista_claves = [x[:-1] for x in lista[1::2]]  ## Quitar los dos puntos finales. Evitar el elemento vac\u00edo inicial\n",
      "    lista_definiciones = [x.strip() for x in lista[2::2]] ## Quitar los espacios iniciales y finales\n",
      "    nueva_lista = [x for x in zip(lista_claves, lista_definiciones)]\n",
      "    lexemas = [elemento for elemento in zip(lista_definiciones[::3], lista_definiciones[1::3], lista_definiciones[2::3])]\n",
      "    clave2 = 'Clasificaci\u00f3n sem\u00e1ntica:'\n",
      "    for i, lx in enumerate(lexemas):\n",
      "        if clave2 in lx[2]:\n",
      "            lx20, lx21 = lx[2].split(clave2)\n",
      "            lexemas[i] = (lx[0], lx[1], lx20, lx21)\n",
      "    return lexemas\n"
     ],
     "language": "python",
     "metadata": {},
     "outputs": [],
     "prompt_number": 41
    },
    {
     "cell_type": "code",
     "collapsed": false,
     "input": [],
     "language": "python",
     "metadata": {},
     "outputs": []
    },
    {
     "cell_type": "code",
     "collapsed": false,
     "input": [],
     "language": "python",
     "metadata": {},
     "outputs": []
    },
    {
     "cell_type": "code",
     "collapsed": false,
     "input": [
      "for xxx in c.aggregate([{'$sort': {'palabra':1}},{'$project': {'palabra':1, 'Q12': 1, 'QA': 1, 'lexema': 1, '_id':0}}]):\n",
      "    forma_canonica = ''\n",
      "    q12 = qa = \"\"\n",
      "    try:\n",
      "        forma_canonica = xxx['lexema']['lexemas'][0][0]\n",
      "        q12 = 'Q12' if 'Q12' in xxx else '---'\n",
      "        qa = 'QA' if 'QA' in xxx else '--'\n",
      "    except:\n",
      "        pass\n",
      "    print (\"%20s: %20s %20s %20s\" % (xxx['palabra'], forma_canonica, q12, qa))\n",
      "    if 'lexema' not in xxx:\n",
      "        break\n"
     ],
     "language": "python",
     "metadata": {},
     "outputs": [
      {
       "output_type": "stream",
       "stream": "stdout",
       "text": [
        "                   a:                    a                  Q12                   QA\n",
        "                  ab:                   ab                  ---                   QA\n",
        "                abad:                 abad                  Q12                   QA\n",
        "             abadejo:              abadejo                  Q12                   QA\n",
        "              abades:              abadesa                  Q12                   --\n",
        "             abadesa:              abadesa                  Q12                   --\n",
        "               abaja:               abajar                  Q12                   --\n",
        "              abajan:               abajar                  Q12                   --\n",
        "              abajar:               abajar                  ---                   QA\n",
        "            abajaron:               abajar                  ---                   QA\n",
        "            abajarse:               abajar                  Q12                   --\n",
        "               abaje:               abajar                  ---                   QA\n",
        "              abajen:               abajar                  Q12                   --\n",
        "               abajo:                abajo                  Q12                   QA\n",
        "          abaj\u00e1ndose:               abajar                  ---                   QA\n",
        "               abaj\u00e9:               abajar                  ---                   QA\n",
        "               abaj\u00f3:               abajar                  Q12                   QA\n",
        "          abal\u00e1nzase:            abalanzar                  Q12                   --\n",
        "         abandonarme:            abandonar                  Q12                   --\n",
        "        abarraganada:          abarraganar                  Q12                   --\n",
        "       abarraganados:          abarraganar                  Q12                   --\n",
        "            abatanar:             abatanar                  Q12                   --\n",
        "              abaten:               abatir                  Q12                   --\n",
        "             abatida:              abatida                  ---                   QA\n",
        "             abatido:              abatido                  Q12                   --\n",
        "           abatiendo:               abatir                  Q12                   --\n",
        "           abatieres:               abatir                  Q12                   --\n",
        "           abatieron:               abatir                  Q12                   --\n",
        "              abatir:               abatir                  ---                   QA\n",
        "                 abc:                  abc                  Q12                   --\n",
        "          abecedario:           abecedario                  Q12                   --\n",
        "               abec\u00e9:                abec\u00e9                  ---                   QA\n",
        "               abeja:                abeja                  ---                   QA\n",
        "              abejas:                abeja                  Q12                   --\n",
        "         abencerraje:          abencerraje                  Q12                   QA\n",
        "        abencerrajes:          abencerraje                  ---                   QA\n",
        "            aben\u00e1mar:                                                               \n",
        "        aberenjenado:         aberenjenado                  Q12                   --\n",
        "          abernuncio:                                                               \n",
        "            abertura:             abertura                  Q12                   --\n",
        "               abest:                                                               \n",
        "             abierta:              abierta                  Q12                   QA\n",
        "            abiertas:                abrir                  Q12                   --\n",
        "             abierto:              abierto                  Q12                   QA\n",
        "            abiertos:                abrir                  Q12                   QA\n",
        "         abindarr\u00e1ez:                                                               \n",
        "              abismo:               abismo                  Q12                   --\n",
        "             abismos:               abismo                  Q12                   --\n",
        "           ablandaba:             ablandar                  Q12                   --\n",
        "          ablandaban:             ablandar                  Q12                   --\n",
        "           ablandado:            ablandado                  Q12                   --\n",
        "            ablandan:             ablandar                  Q12                   --\n",
        "            ablandar:             ablandar                  Q12                   --\n",
        "           ablandara:             ablandar                  Q12                   --\n",
        "          ablandarme:             ablandar                  Q12                   --\n",
        "          ablandaron:             ablandar                  Q12                   --\n",
        "          ablandarte:             ablandar                  Q12                   --\n",
        "             ablande:              ablande                  Q12                   --\n",
        "           abland\u00e1is:             ablandar                  Q12                   --\n",
        "             abland\u00f3:             ablandar                  Q12                   --\n",
        "           abl\u00e1ndate:             ablandar                  Q12                   --\n",
        "             abobado:              abobado                  Q12                   --\n",
        "             abogada:               abogar                  ---                   QA\n",
        "             abogado:              abogado                  ---                   QA\n",
        "            abolengo:             abolengo                  Q12                   --\n",
        "            abollada:              abollar                  Q12                   --\n",
        "            abollado:             abollado                  Q12                   --\n",
        "            abolorio:             abolorio                  ---                   QA\n",
        "          abominable:           abominable                  Q12                   --\n",
        "       abominaciones:          abominaci\u00f3n                  ---                   QA\n",
        "           abominado:            abominado                  Q12                   --\n",
        "             abomino:             abominar                  Q12                   --\n",
        "        abomin\u00e1bamos:             abominar                  Q12                   --\n",
        "             abonado:                                                               \n",
        "            abonados:                                                               \n",
        "            abonando:                                                               \n",
        "            abonasen:                                                               \n",
        "               abono:                                                               \n",
        "        aborrascadas:                                                               \n",
        "            aborrece:                                                               \n",
        "           aborrecen:                                                               \n",
        "        aborrecer\u00edan:                                                               \n",
        "         aborrecible:                                                               \n",
        "          aborrecida:                                                               \n",
        "          aborrecido:                                                               \n",
        "         aborrecidos:                                                               \n",
        "        aborreciendo:                                                               \n",
        "      aborrecimiento:                                                               \n",
        "           aborreci\u00f3:                                                               \n",
        "            aborrec\u00ed:                                                               \n",
        "           aborrec\u00eda:                                                               \n",
        "           aborrezco:                                                               \n",
        "                abra:                                                               \n",
        "              abrac\u00e9:                                                               \n",
        "             abraham:                                                               \n",
        "               abran:                                                               \n",
        "              abrasa:                                                               \n",
        "            abrasaba:                                                               \n",
        "            abrasada:                                                               \n",
        "           abrasadas:                                                               \n",
        "            abrasado:                                                               \n",
        "         abrasadores:                                                               "
       ]
      },
      {
       "output_type": "stream",
       "stream": "stdout",
       "text": [
        "\n",
        "           abrasados:                                                               \n",
        "             abrasan:                                                               \n",
        "           abrasando:                                                               \n",
        "             abrasar:                                                               \n",
        "           abrasarla:                                                               \n",
        "          abrasarnos:                                                               \n",
        "           abrasarse:                                                               \n",
        "           abrasasen:                                                               \n",
        "           abrasemos:                                                               \n",
        "            abras\u00e1is:                                                               \n",
        "              abras\u00f3:                                                               \n",
        "              abraza:                                                               \n",
        "            abrazaba:                                                               \n",
        "           abrazaban:                                                               \n",
        "            abrazada:                                                               \n",
        "            abrazado:                                                               \n",
        "        abrazamiento:                                                               \n",
        "           abrazando:                                                               \n",
        "             abrazar:                                                               \n",
        "            abrazara:                                                               \n",
        "           abrazarle:                                                               \n",
        "           abrazarme:                                                               \n",
        "           abrazaron:                                                               \n",
        "           abrazarse:                                                               \n",
        "            abrazar\u00e1:                                                               \n",
        "            abrazase:                                                               \n",
        "              abrazo:                                                               \n",
        "             abrazos:                                                               \n",
        "         abraz\u00e1ndola:                                                               \n",
        "         abraz\u00e1ndole:                                                               \n",
        "         abraz\u00e1ndolo:                                                               \n",
        "        abraz\u00e1ndonos:                                                               \n",
        "         abraz\u00e1ndose:                                                               \n",
        "         abraz\u00e1ronle:                                                               \n",
        "         abraz\u00e1ronse:                                                               \n",
        "        abraz\u00e1rselos:                                                               \n",
        "              abraz\u00f3:                                                               \n",
        "            abraz\u00f3la:                                                               \n",
        "            abraz\u00f3le:                                                               \n",
        "           abraz\u00f3los:                                                               \n",
        "                abre:                                                               \n",
        "          abrenuncio:                                                               \n",
        "            abrevian:                                                               \n",
        "            abreviar:                                                               \n",
        "            abrevies:                                                               \n",
        "             abrevi\u00f3:                                                               \n",
        "               abrid:                                                               \n",
        "            abriendo:                                                               \n",
        "             abriera:                                                               \n",
        "            abrieran:                                                               \n",
        "            abrieron:                                                               \n",
        "             abriese:                                                               \n",
        "            abriesen:                                                               \n",
        "              abrigo:                                                               \n",
        "              abrig\u00f3:                                                               \n",
        "               abril:                                                               \n",
        "               abrir:                                                               \n",
        "             abrirla:                                                               \n",
        "             abrirle:                                                               \n",
        "             abrirse:                                                               \n",
        "              abrir\u00e1:                                                               \n",
        "              abrir\u00e9:                                                               \n",
        "             abrir\u00eda:                                                               \n",
        "            abrir\u00edan:                                                               \n",
        "             abriste:                                                               \n",
        "          abri\u00e9ndola:                                                               \n",
        "          abri\u00e9ndole:                                                               \n",
        "         abri\u00e9ndolos:                                                               \n",
        "          abri\u00e9ndose:                                                               \n",
        "               abri\u00f3:                                                               \n",
        "             abri\u00f3le:                                                               \n",
        "             abri\u00f3se:                                                               \n",
        "                abro:                                                               \n",
        "             abrojos:                                                               \n",
        "              abr\u00e1is:                                                               \n",
        "                abr\u00ed:                                                               \n",
        "               abr\u00eda:                                                               \n",
        "              abr\u00edan:                                                               \n",
        "              abr\u00edla:                                                               \n",
        "               abr\u00eds:                                                               \n",
        "              absens:                                                               \n",
        "               absit:                                                               \n",
        "          absoluci\u00f3n:                                                               \n",
        "            absoluta:                                                               \n",
        "       absolutamente:                                                               \n",
        "            absoluto:                                                               \n",
        "           absolutos:                                                               \n",
        "            absortar:                                                               \n",
        "             absorto:                                                               \n",
        "           abstengas:                                                               \n",
        "       absteni\u00e9ndote:                                                               \n",
        "            absuelto:                                                               \n",
        "            absuelve:                                                               \n",
        "            absuelvo:                                                               \n",
        "            absurdos:                                                               \n",
        "             abuelos:                                                               \n",
        "              abunda:                                                               \n",
        "            abundaba:                                                               \n",
        "           abundaban:                                                               \n",
        "             abundan:                                                               \n",
        "          abundancia:                                                               \n",
        "           abundante:                                                               \n",
        "      abundantemente:                                                               \n",
        "          abundantes:                                                               \n",
        "       abundant\u00edsima:                                                               \n",
        "  abundant\u00edsimamente:                                                               \n",
        "       abundant\u00edsimo:                                                               \n",
        "            abundosa:                                                               \n",
        "            abundoso:                                                               \n",
        "            aburrida:                                                               \n",
        "               abuso:                                                               \n",
        "              abusos:                                                               \n",
        "               acaba:                                                               \n",
        "             acababa:                                                               \n",
        "            acababan:                                                               \n",
        "            acabable:                                                               \n",
        "              acabad:                                                               \n",
        "             acabada:                                                               \n",
        "            acabadas:                                                               \n",
        "            acabadme:                                                               \n",
        "             acabado:                                                               \n",
        "            acabados:                                                               \n",
        "            acaballa:                                                               \n",
        "            acaballe:                                                               \n",
        "         acabamiento:                                                               \n",
        "            acabamos:                                                               \n",
        "              acaban:                                                               \n",
        "            acabando:                                                               \n",
        "              acabar:                                                               \n",
        "             acabara:                                                               \n",
        "            acabaran:                                                               \n",
        "             acabare:                                                               \n",
        "          acabaremos:                                                               \n",
        "            acabarla:                                                               \n",
        "            acabarle:                                                               \n",
        "           acabarnos:                                                               \n",
        "            acabaron:                                                               \n",
        "            acabarse:                                                               \n",
        "             acabar\u00e1:                                                               \n",
        "            acabar\u00e1s:                                                               \n",
        "             acabar\u00e9:                                                               \n",
        "         acabar\u00edamos:                                                               \n",
        "              acabas:                                                               \n",
        "             acabase:                                                               \n",
        "            acabasen:                                                               \n",
        "            acabaste:                                                               \n",
        "               acabe:                                                               \n",
        "            acabemos:                                                               \n",
        "              acaben:                                                               \n",
        "               acabo:                                                               \n",
        "             acabose:                                                               \n",
        "          acab\u00e1bamos:                                                               \n",
        "             acab\u00e1is:                                                               \n",
        "          acab\u00e1ndola:                                                               \n",
        "         acab\u00e1ndolos:                                                               \n",
        "      acab\u00e1ndonoslas:                                                               \n",
        "          acab\u00e1ndose:                                                               \n",
        "          acab\u00e1ronse:                                                               \n",
        "          acab\u00e1rsele:                                                               \n",
        "          acab\u00e1rseme:                                                               \n",
        "             acab\u00e9is:                                                               \n",
        "               acab\u00f3:                                                               \n",
        "             acab\u00f3se:                                                               \n",
        "           academias:                                                               \n",
        "           acad\u00e9mico:                                                               \n",
        "          acad\u00e9micos:                                                               \n",
        "              acaece:                                                               \n",
        "             acaecen:                                                               \n",
        "            acaecido:                                                               \n",
        "        acaecimiento:                                                               \n",
        "       acaecimientos:                                                               \n",
        "             acaeci\u00f3:                                                               \n",
        "             acallar:                                                               \n",
        "            acallase:                                                               \n",
        "            acallole:                                                               \n",
        "           acamuzado:                                                               \n",
        "          acanaladas:                                                               \n",
        "        acardenalado:                                                               \n",
        "       acardenalarme:                                                               \n",
        "           acariciar:                                                               \n",
        "          acariciase:                                                               \n",
        "       acarici\u00e1ndola:                                                               \n",
        "            acaronte:                                                               \n",
        "             acarrea:                                                               \n",
        "            acarrean:                                                               \n",
        "               acaso:                                                               \n",
        "         acatamiento:                                                               \n",
        "           accidente:                                                               \n",
        "          accidentes:                                                               \n",
        "            acciones:                                                               \n",
        "              acci\u00f3n:                                                               \n",
        "               acebo:                                                               \n",
        "           acechando:                                                               \n",
        "               aceda:                                                               \n",
        "            acefaros:                                                               \n",
        "              aceite:                                                               \n",
        "            aceitera:                                                               \n",
        "           aceitunas:                                                               \n",
        "           acelerada:                                                               \n",
        "           acelerado:                                                               \n",
        "          acelerando:                                                               \n",
        "       acendrad\u00edsimo:                                                               \n",
        "              acento:                                                               \n",
        "             acentos:                                                               \n",
        "           acepillar:                                                               \n",
        "            aceptaba:                                                               \n",
        "             aceptar:                                                               \n",
        "            aceptase:                                                               \n",
        "              acepto:                                                               \n",
        "              acept\u00f3:                                                               \n",
        "            acept\u00f3lo:                                                               \n",
        "             acerada:                                                               \n",
        "             acerado:                                                               \n",
        "              acerbo:                                                               \n",
        "             acerbus:                                                               \n",
        "     acerb\u00edsimamente:                                                               \n",
        "              acerca:                                                               \n",
        "            acercado:                                                               \n",
        "           acercando:                                                               \n",
        "            acercar\u00e9:                                                               \n",
        "            acercose:                                                               \n",
        "         acerc\u00e1ndose:                                                               \n",
        "         acerc\u00e1rsele:                                                               \n",
        "              acerc\u00f3:                                                               \n",
        "            acerc\u00f3se:                                                               \n",
        "               acero:                                                               \n",
        "              aceros:                                                               \n",
        "            acertaba:                                                               \n",
        "           acertaban:                                                               \n",
        "            acertada:                                                               \n",
        "           acertadas:                                                               \n",
        "            acertado:                                                               \n",
        "           acertados:                                                               \n",
        "        acertad\u00edsimo:                                                               \n",
        "             acertar:                                                               \n",
        "            acertara:                                                               \n",
        "            acertare:                                                               \n",
        "           acertares:                                                               \n",
        "           acertarle:                                                               \n",
        "           acertaron:                                                               \n",
        "            acertar\u00e9:                                                               \n",
        "          acertar\u00e9is:                                                               \n",
        "            acertase:                                                               \n",
        "           acertasen:                                                               \n",
        "          acertastes:                                                               \n",
        "            acert\u00e1is:                                                               \n",
        "         acert\u00e1ndola:                                                               \n",
        "         acert\u00e1ndole:                                                               \n",
        "         acert\u00e1ramos:                                                               \n",
        "              acert\u00e9:                                                               \n",
        "              acert\u00f3:                                                               \n",
        "               aceta:                                                               \n"
       ]
      }
     ],
     "prompt_number": 66
    },
    {
     "cell_type": "code",
     "collapsed": false,
     "input": [
      "palabra = \"a\"\n",
      "buscar_lexema(palabra)"
     ],
     "language": "python",
     "metadata": {},
     "outputs": [
      {
       "metadata": {},
       "output_type": "pyout",
       "prompt_number": 45,
       "text": [
        "{'status': 'OK',\n",
        " 'lexemas': [('a',\n",
        "   'sustantivo femenino',\n",
        "   'forma can\u00f3nica ( femenino singular )'),\n",
        "  ('a', 'preposici\u00f3n', 'forma can\u00f3nica')]}"
       ]
      }
     ],
     "prompt_number": 45
    }
   ],
   "metadata": {}
  }
 ]
}